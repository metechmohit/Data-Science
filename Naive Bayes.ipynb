{
 "cells": [
  {
   "cell_type": "markdown",
   "id": "f675b416-aaf9-4a21-8d90-051575d38551",
   "metadata": {},
   "source": [
    "## Q1. What is Bayes' theorem?"
   ]
  },
  {
   "cell_type": "markdown",
   "id": "65d2958a-f312-4a99-a61f-a8f9a00c2805",
   "metadata": {},
   "source": [
    "Bayes' theorem is a fundamental principle in probability theory that describes the probability of an event based on prior knowledge of conditions related to the event. It provides a way to update the probability of a hypothesis as more evidence or information becomes available. Named after Reverend Thomas Bayes, this theorem is a cornerstone in the fields of statistics, machine learning, and data science, particularly in Bayesian inference."
   ]
  },
  {
   "cell_type": "markdown",
   "id": "5e80d355-c0b4-478d-a7fb-7ce17a1b6c39",
   "metadata": {},
   "source": [
    "## Q2. What is the formula for Bayes' theorem?"
   ]
  },
  {
   "cell_type": "markdown",
   "id": "80b64aff-1944-43c1-9bde-942e5a21e21c",
   "metadata": {},
   "source": [
    "The formula for Bayes' theorem is:\n",
    " ### P(A/B)= {P(B/A).P(A)}/P(B)\n",
    "where:\n",
    "\n",
    "\n",
    "- P(A∣B) is the posterior probability of event A given that B is true.\n",
    "\n",
    "- P(B∣A) is the likelihood of event B given that A is true.\n",
    "\n",
    "- P(A) is the prior probability of event A.\n",
    "\n",
    "- P(B) is the marginal probability of event B."
   ]
  },
  {
   "cell_type": "markdown",
   "id": "97f50b66-59bc-40e0-baf8-6a2d256deb1b",
   "metadata": {},
   "source": [
    "## Q3. How is Bayes' theorem used in practice?"
   ]
  },
  {
   "cell_type": "markdown",
   "id": "f171ca18-56ad-4fbf-9ee1-5ff0fcf3b07f",
   "metadata": {},
   "source": [
    "Bayes' theorem is used in a wide range of practical applications, including:\n",
    "\n",
    "1. Medical Diagnosis: To update the probability of a disease based on new test results.\n",
    "2. Spam Filtering: To classify emails as spam or not spam based on the presence of certain words.\n",
    "3. Machine Learning: Particularly in Bayesian networks and Naive Bayes classifiers for predictive modeling and classification tasks.\n",
    "4. Risk Assessment: To update the risk of an event occurring given new evidence or data.\n",
    "5. Quality Control: To assess the probability that a manufacturing process is faulty based on sampled data.\n",
    "6. Decision Making: In fields such as finance and economics to update predictions and make informed decisions."
   ]
  },
  {
   "cell_type": "markdown",
   "id": "6cb72929-4654-46f7-bd90-aa0bf0022cf0",
   "metadata": {},
   "source": [
    "## Q4. What is the relationship between Bayes' theorem and conditional probability?"
   ]
  },
  {
   "cell_type": "markdown",
   "id": "f214b77e-75de-47d1-b301-cb3390ec8bb4",
   "metadata": {},
   "source": [
    "Bayes' theorem is essentially an application of conditional probability. It provides a way to reverse conditional probabilities. In other words, if you know the conditional probability P(B∣A) and you have information about the prior probabilities\n",
    "P(A) and P(B), you can compute the conditional probability P(A∣B). This relationship helps in updating our beliefs about an event (posterior probability) given new evidence."
   ]
  },
  {
   "cell_type": "markdown",
   "id": "90b4e64b-a6b8-48bc-bb0f-e95c826bdfd8",
   "metadata": {},
   "source": [
    "## Q5. How do you choose which type of Naive Bayes classifier to use for any given problem?"
   ]
  },
  {
   "cell_type": "markdown",
   "id": "b15e2929-73b3-4745-a8f1-dcfea290b7df",
   "metadata": {},
   "source": [
    "Choosing the type of Naive Bayes classifier depends on the nature of the data:\n",
    "\n",
    "1. **Gaussian Naive Bayes**: Use this when the features are continuous and are assumed to follow a Gaussian (normal) distribution. It's commonly used for real-valued attributes.\n",
    "2. **Multinomial Naive Bayes**: This is suitable for discrete data, particularly for text classification problems where the features represent the frequency of words or events. It's widely used in document classification and sentiment analysis.\n",
    "3. **Bernoulli Naive Bayes**: This is used when the features are binary (i.e., they take only two values, usually 0 and 1). It is appropriate for tasks like binary text classification where the presence or absence of a feature is more important than its frequency.\n",
    "\n",
    "In summary:\n",
    "- For continuous data: **Gaussian Naive Bayes**.\n",
    "- For count data (e.g., word counts in text): **Multinomial Naive Bayes**.\n",
    "- For binary data: **Bernoulli Naive Bayes**.\n",
    "\n",
    "Selecting the appropriate classifier type ensures better performance and more accurate results based on the characteristics of the dataset."
   ]
  },
  {
   "attachments": {
    "b27f8692-4b0a-49af-8c71-23af4fdf1ce7.png": {
     "image/png": "[encoded data removed]"
    }
   },
   "cell_type": "markdown",
   "id": "2f6136fa-63b7-43e5-a754-1c787609b669",
   "metadata": {},
   "source": [
    "## Q6. Assignment:\n",
    "### You have a dataset with two features, X1 and X2, and two possible classes, A and B. You want to use Naive Bayes to classify a new instance with features X1 = 3 and X2 = 4. The following table shows the frequency of each feature value for each class:\n",
    "\n",
    "![image.png](attachment:b27f8692-4b0a-49af-8c71-23af4fdf1ce7.png)\n",
    "\n",
    "### Assuming equal prior probabilities for each class, which class would Naive Bayes predict the new instance to belong to?\n"
   ]
  },
  {
   "cell_type": "markdown",
   "id": "4e2d76d6-e853-470b-9916-e9658bc4e854",
   "metadata": {},
   "source": [
    "I'd be glad to help you classify the new instance using Naive Bayes with equal prior probabilities.\n",
    "\n",
    "**Understanding the Data:**\n",
    "\n",
    "The provided table shows the frequency of each feature value (X1 and X2) for classes A and B:\n",
    "\n",
    "| Feature | Value | Class A | Class B |\n",
    "|---|---|---|---|\n",
    "| X1 | 1 | 2 | 1 |\n",
    "| | 2 | 1 | 3 |\n",
    "| X2 | 3 | 3 | 2 |\n",
    "| | 4 | 1 | 2 |\n",
    "\n",
    "**Classifying the New Instance (X1 = 3, X2 = 4):**\n",
    "\n",
    "1. **Calculate Class Prior Probabilities (P(A) and P(B)):**\n",
    "   - Since we're assuming equal priors, P(A) = P(B) = 1/2 (as there are only two classes).\n",
    "\n",
    "2. **Calculate Feature Probabilities (P(X1 = 3 | A), P(X2 = 4 | A), P(X1 = 3 | B), and P(X2 = 4 | B)):**\n",
    "   - P(X1 = 3 | A) = 0 (X1 value 3 doesn't appear in Class A)\n",
    "   - P(X2 = 4 | A) = 1/4 (1 instance of X2 = 4 in Class A, divided by the total number of instances in Class A, 4)\n",
    "   - P(X1 = 3 | B) = 1 (1 instance of X1 = 3 in Class B)\n",
    "   - P(X2 = 4 | B) = 2/5 (2 instances of X2 = 4 in Class B, divided by the total number of instances in Class B, 5)\n",
    "\n",
    "3. **Calculate Posterior Probabilities (P(A | X1, X2) and P(B | X1, X2)):**\n",
    "   - **Naive Bayes assumption:** Feature independence (P(X1, X2) = P(X1) * P(X2)). However, this assumption might not hold perfectly in real-world data.\n",
    "   - P(A | X1, X2) = P(X1 = 3 | A) * P(X2 = 4 | A) * P(A) = 0 * 1/4 * 1/2 = 0\n",
    "   - P(B | X1, X2) = P(X1 = 3 | B) * P(X2 = 4 | B) * P(B) = 1 * 2/5 * 1/2 = 1/5\n",
    "\n",
    "4. **Make the Prediction:**\n",
    "   - Since P(B | X1, X2) > P(A | X1, X2), the Naive Bayes classifier predicts the new instance belongs to Class B.\n",
    "\n",
    "**Therefore, based on the calculations and the assumption of feature independence, Naive Bayes predicts the new instance (X1 = 3, X2 = 4) to belong to Class B.**\n",
    "\n",
    "**Important Note:**\n",
    "\n",
    "The Naive Bayes classifier's accuracy can be affected by the assumption of feature independence, which might not always be true in practice. If the features are not independent, the classification results may not be as reliable. In real-world scenarios, considering techniques to address feature dependence or using more sophisticated classification algorithms might be necessary."
   ]
  }
 ],
 "metadata": {
  "kernelspec": {
   "display_name": "Python 3 (ipykernel)",
   "language": "python",
   "name": "python3"
  },
  "language_info": {
   "codemirror_mode": {
    "name": "ipython",
    "version": 3
   },
   "file_extension": ".py",
   "mimetype": "text/x-python",
   "name": "python",
   "nbconvert_exporter": "python",
   "pygments_lexer": "ipython3",
   "version": "3.10.9"
  }
 },
 "nbformat": 4,
 "nbformat_minor": 5
}
