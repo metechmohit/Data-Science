{
 "cells": [
  {
   "cell_type": "markdown",
   "id": "1bb931bc",
   "metadata": {},
   "source": [
    "## Q1. What are the three measures of central tendency?\n",
    "\n",
    "### 1.Mean\n",
    "### 2.Median\n",
    "### 3.Mode"
   ]
  },
  {
   "cell_type": "markdown",
   "id": "f2ab7404",
   "metadata": {},
   "source": [
    "## Q2. What is the difference between the mean, median, and mode? How are they used to measure the central tendency of a dataset?\n",
    "\n",
    "### The mean, median, and mode are measures of central tendency that provide insights into the typical or central value of a dataset. They differ in how they are calculated and the specific aspects of the data they represent.\n",
    "\n",
    "### Mean:\n",
    "\n",
    "##### The mean is also known as the average.\n",
    "##### It is calculated by summing all the values in a dataset and dividing by the total number of values.\n",
    "##### The mean is sensitive to extreme values or outliers.\n",
    "##### It is commonly used with interval or ratio data.\n",
    "##### The mean provides an overall measure of the central tendency by considering the magnitude of each value.\n",
    "### Median:\n",
    "\n",
    "##### The median is the middle value in a dataset when the values are arranged in ascending or descending order.\n",
    "##### It divides the dataset into two equal halves.\n",
    "##### The median is less affected by extreme values or outliers.\n",
    "##### It is appropriate when dealing with skewed or ordinal data.\n",
    "##### The median provides a measure of the central value by considering the position of the values rather than their actual magnitude.\n",
    "### Mode:\n",
    "\n",
    "##### The mode represents the most frequently occurring value(s) in a dataset.\n",
    "##### It is useful for categorical or nominal data.\n",
    "##### A dataset can have multiple modes (multimodal) or no mode (no clear repeated values).\n",
    "##### The mode provides insight into the most common or prevalent value(s) in the dataset.\n",
    "\n",
    "\n",
    "\n",
    "\n",
    "\n",
    "\n",
    "\n"
   ]
  },
  {
   "cell_type": "markdown",
   "id": "f3ce96d0",
   "metadata": {},
   "source": [
    "## Q3. Measure the three measures of central tendency for the given height data:\n"
   ]
  },
  {
   "cell_type": "code",
   "execution_count": 1,
   "id": "e7551913",
   "metadata": {},
   "outputs": [],
   "source": [
    "height=[178,177,176,177,178.2,178,175,179,180,175,178.9,176.2,177,172.5,178,176.5]"
   ]
  },
  {
   "cell_type": "code",
   "execution_count": 2,
   "id": "31b4ed94",
   "metadata": {},
   "outputs": [],
   "source": [
    "import numpy as np"
   ]
  },
  {
   "cell_type": "code",
   "execution_count": 3,
   "id": "0a43751c",
   "metadata": {},
   "outputs": [
    {
     "data": {
      "text/plain": [
       "177.01875"
      ]
     },
     "execution_count": 3,
     "metadata": {},
     "output_type": "execute_result"
    }
   ],
   "source": [
    "## mean\n",
    "np.mean(height)"
   ]
  },
  {
   "cell_type": "code",
   "execution_count": 4,
   "id": "ab5f3fdb",
   "metadata": {},
   "outputs": [
    {
     "data": {
      "text/plain": [
       "177.0"
      ]
     },
     "execution_count": 4,
     "metadata": {},
     "output_type": "execute_result"
    }
   ],
   "source": [
    "## median\n",
    "np.median(height)"
   ]
  },
  {
   "cell_type": "code",
   "execution_count": 5,
   "id": "50a15050",
   "metadata": {},
   "outputs": [
    {
     "name": "stderr",
     "output_type": "stream",
     "text": [
      "C:\\Users\\Mohit Singh\\AppData\\Local\\Temp\\ipykernel_20956\\1939351712.py:3: FutureWarning: Unlike other reduction functions (e.g. `skew`, `kurtosis`), the default behavior of `mode` typically preserves the axis it acts along. In SciPy 1.11.0, this behavior will change: the default value of `keepdims` will become False, the `axis` over which the statistic is taken will be eliminated, and the value None will no longer be accepted. Set `keepdims` to True or False to avoid this warning.\n",
      "  stats.mode(height)\n"
     ]
    },
    {
     "data": {
      "text/plain": [
       "ModeResult(mode=array([177.]), count=array([3]))"
      ]
     },
     "execution_count": 5,
     "metadata": {},
     "output_type": "execute_result"
    }
   ],
   "source": [
    "## mode\n",
    "from scipy import stats\n",
    "stats.mode(height)"
   ]
  },
  {
   "cell_type": "markdown",
   "id": "e30d649c",
   "metadata": {},
   "source": [
    "## Q4. Find the standard deviation for the given data:\n"
   ]
  },
  {
   "cell_type": "code",
   "execution_count": 6,
   "id": "1c83f545",
   "metadata": {},
   "outputs": [],
   "source": [
    "list=[178,177,176,177,178.2,178,175,179,180,175,178.9,176.2,177,172.5,178,176.5]"
   ]
  },
  {
   "cell_type": "code",
   "execution_count": 7,
   "id": "5d10e043",
   "metadata": {},
   "outputs": [
    {
     "data": {
      "text/plain": [
       "1.7885814036548633"
      ]
     },
     "execution_count": 7,
     "metadata": {},
     "output_type": "execute_result"
    }
   ],
   "source": [
    "import numpy as np\n",
    "np.std(list)"
   ]
  },
  {
   "cell_type": "markdown",
   "id": "b800fbec",
   "metadata": {},
   "source": [
    "## Q5. How are measures of dispersion such as range, variance, and standard deviation used to describe the spread of a dataset? Provide an example.\n",
    "\n",
    "#### Measures of dispersion, such as range, variance, and standard deviation, are used to describe the spread or variability of a dataset. They provide insights into how spread out the data points are from the central tendency measure (e.g., mean or median). Here's an explanation of each measure and how they are used:\n",
    "\n",
    "### 1. Range:\n",
    "###### - The range is the simplest measure of dispersion and represents the difference between the maximum and minimum values in a dataset.\n",
    "###### - It provides a rough indication of the spread but does not consider the distribution of values within that range.\n",
    "###### - A larger range suggests a wider spread of data points, while a smaller range indicates a more concentrated dataset.\n",
    "\n",
    "##### Example: Consider a dataset of test scores for a class of students: [70, 75, 80, 85, 90]. The range is calculated as 90 (maximum value) minus 70 (minimum value), resulting in a range of 20. This means that the scores range from 70 to 90, with a spread of 20.\n",
    "\n",
    "### 2. Variance:\n",
    "###### - Variance measures the average squared deviation of each data point from the mean.\n",
    "###### - It quantifies the spread of data points by considering the differences between individual values and the central tendency measure (mean).\n",
    "###### - A larger variance suggests a greater dispersion, while a smaller variance indicates less variability.\n",
    "\n",
    "##### Example: Suppose we have a dataset of exam scores: [80, 85, 90, 95, 100]. To calculate the variance, we first find the mean (90), then calculate the squared difference for each score from the mean: [(80-90)^2, (85-90)^2, (90-90)^2, (95-90)^2, (100-90)^2]. Taking the average of these squared differences, we find the variance to be 50.\n",
    "\n",
    "### 3. Standard Deviation:\n",
    "##### - The standard deviation is the square root of the variance.\n",
    "##### - It provides a measure of the average deviation of data points from the mean in the original unit of measurement.\n",
    "##### - A larger standard deviation indicates greater variability or spread, while a smaller standard deviation suggests less dispersion.\n",
    "\n",
    "##### Example: Using the same exam scores dataset as above, the variance was calculated to be 50. Taking the square root of the variance (√50), we find the standard deviation to be approximately 7.07.\n",
    "\n"
   ]
  },
  {
   "cell_type": "markdown",
   "id": "5fb9df90",
   "metadata": {},
   "source": [
    "## Q6. What is a Venn diagram?\n",
    "\n",
    "### A Venn diagram is a visual representation that uses overlapping circles or other closed curves to show the relationships between different sets or groups of objects or concepts.\n",
    "\n",
    "### In a Venn diagram, each circle or closed curve represents a set or category, and the overlapping regions indicate the intersections or commonalities between the sets. The diagram visually displays the elements that belong to one or more sets and helps illustrate the relationships between the sets in terms of inclusion, exclusion, or overlap."
   ]
  },
  {
   "cell_type": "markdown",
   "id": "3bc65497",
   "metadata": {},
   "source": [
    "## Q7. For the two given sets A = {2,3,4,5,6,7} & B = {0,2,6,8,10}. Find:\n",
    "\n",
    "\n",
    "#### (i) AnB={2,6}\n",
    "#### (ii) AU={0,2,3,4,5,6,7,8,10}"
   ]
  },
  {
   "cell_type": "markdown",
   "id": "87990b01",
   "metadata": {},
   "source": [
    "## Q8. What do you understand about skewness in data?\n",
    "\n",
    "### Skewness is a statistical measure that describes the asymmetry or lack of symmetry in the distribution of a dataset. It provides insights into the shape and direction of the distribution's tail relative to its center.\n",
    "\n",
    "### When analyzing skewness, we consider the long tails or outliers in a distribution. A distribution can be categorized as:\n",
    "#### Positively skewed (right-skewed),\n",
    "#### Negatively skewed (left-skewed), or \n",
    "#### Approximately symmetrical (no skew)."
   ]
  },
  {
   "cell_type": "markdown",
   "id": "cfcd85db",
   "metadata": {},
   "source": [
    "## Q9. If a data is right skewed then what will be the position of median with respect to mean?\n",
    "\n",
    "### If a dataset is right-skewed (positively skewed), the position of the median will typically be to the left of the mean."
   ]
  },
  {
   "cell_type": "markdown",
   "id": "113d14a1",
   "metadata": {},
   "source": [
    "## Q10. Explain the difference between covariance and correlation. How are these measures used in statistical analysis?\n",
    "\n",
    "### Covariance and correlation are both measures used to assess the relationship between two variables. However, they differ in their interpretation, scale, and the type of relationship they capture.\n",
    "\n",
    "### Covariance:\n",
    "##### - Covariance measures the direction and strength of the linear relationship between two variables.\n",
    "##### - It indicates how changes in one variable correspond to changes in another variable.\n",
    "##### - Covariance can take any value, positive or negative, depending on the direction of the relationship.\n",
    "##### - The magnitude of covariance is not standardized and depends on the units of the variables.\n",
    "##### - Covariance does not provide a clear measure of the strength or degree of association between variables.\n",
    "\n",
    "### Correlation:\n",
    "##### - Correlation measures the strength and direction of the linear relationship between two variables.\n",
    "##### - It standardizes the covariance by dividing it by the product of the standard deviations of the variables, resulting in a correlation coefficient between -1 and +1.\n",
    "##### - The correlation coefficient represents the degree of linear association between the variables.\n",
    "##### - A correlation of +1 indicates a perfect positive linear relationship, -1 indicates a perfect negative linear relationship, and 0 indicates no linear relationship.\n",
    "##### - Correlation is dimensionless and does not depend on the units of the variables.\n",
    "##### - Correlation provides a standardized measure of the strength and direction of the relationship, making it easier to compare across different datasets.\n",
    "\n",
    "### In statistical analysis:\n",
    "##### - Covariance is used to assess the relationship between two variables and to quantify the extent to which they vary together.\n",
    "##### - Covariance can be useful in determining the direction of the relationship (positive or negative) and whether the variables move in the same or opposite directions.\n",
    "##### - However, due to its scale dependency, it is challenging to compare covariances between different datasets or draw conclusions solely based on covariance values.\n",
    "\n",
    "##### - Correlation is widely used in statistical analysis to measure the strength and direction of the linear relationship between variables.\n",
    "##### - Correlation coefficients help researchers understand the degree of association between variables and can be used to compare relationships across different datasets.\n",
    "##### - Correlation is particularly valuable in identifying the presence and strength of relationships, assessing the reliability of predictions, and identifying potential collinearity between variables in regression analysis.\n",
    "\n",
    "### In summary, while covariance and correlation both examine the relationship between variables, correlation provides a standardized measure that is easier to interpret and compare across datasets. Correlation is widely used in statistical analysis to determine the strength and direction of linear associations, while covariance provides a more raw measure of the relationship."
   ]
  },
  {
   "cell_type": "markdown",
   "id": "c6f48b15",
   "metadata": {},
   "source": [
    "## Q11. What is the formula for calculating the sample mean? Provide an example calculation for a dataset."
   ]
  },
  {
   "cell_type": "markdown",
   "id": "9ad9296f",
   "metadata": {},
   "source": [
    "### formula: x̄ = (x₁ + x₂ + ... + xn) / n"
   ]
  },
  {
   "cell_type": "code",
   "execution_count": 8,
   "id": "b6b47117",
   "metadata": {},
   "outputs": [],
   "source": [
    "import numpy as np\n",
    "import seaborn as sns\n",
    "df=sns.load_dataset(\"tips\")"
   ]
  },
  {
   "cell_type": "code",
   "execution_count": 9,
   "id": "79273981",
   "metadata": {},
   "outputs": [
    {
     "data": {
      "text/html": [
       "<div>\n",
       "<style scoped>\n",
       "    .dataframe tbody tr th:only-of-type {\n",
       "        vertical-align: middle;\n",
       "    }\n",
       "\n",
       "    .dataframe tbody tr th {\n",
       "        vertical-align: top;\n",
       "    }\n",
       "\n",
       "    .dataframe thead th {\n",
       "        text-align: right;\n",
       "    }\n",
       "</style>\n",
       "<table border=\"1\" class=\"dataframe\">\n",
       "  <thead>\n",
       "    <tr style=\"text-align: right;\">\n",
       "      <th></th>\n",
       "      <th>total_bill</th>\n",
       "      <th>tip</th>\n",
       "      <th>sex</th>\n",
       "      <th>smoker</th>\n",
       "      <th>day</th>\n",
       "      <th>time</th>\n",
       "      <th>size</th>\n",
       "    </tr>\n",
       "  </thead>\n",
       "  <tbody>\n",
       "    <tr>\n",
       "      <th>0</th>\n",
       "      <td>16.99</td>\n",
       "      <td>1.01</td>\n",
       "      <td>Female</td>\n",
       "      <td>No</td>\n",
       "      <td>Sun</td>\n",
       "      <td>Dinner</td>\n",
       "      <td>2</td>\n",
       "    </tr>\n",
       "    <tr>\n",
       "      <th>1</th>\n",
       "      <td>10.34</td>\n",
       "      <td>1.66</td>\n",
       "      <td>Male</td>\n",
       "      <td>No</td>\n",
       "      <td>Sun</td>\n",
       "      <td>Dinner</td>\n",
       "      <td>3</td>\n",
       "    </tr>\n",
       "    <tr>\n",
       "      <th>2</th>\n",
       "      <td>21.01</td>\n",
       "      <td>3.50</td>\n",
       "      <td>Male</td>\n",
       "      <td>No</td>\n",
       "      <td>Sun</td>\n",
       "      <td>Dinner</td>\n",
       "      <td>3</td>\n",
       "    </tr>\n",
       "    <tr>\n",
       "      <th>3</th>\n",
       "      <td>23.68</td>\n",
       "      <td>3.31</td>\n",
       "      <td>Male</td>\n",
       "      <td>No</td>\n",
       "      <td>Sun</td>\n",
       "      <td>Dinner</td>\n",
       "      <td>2</td>\n",
       "    </tr>\n",
       "    <tr>\n",
       "      <th>4</th>\n",
       "      <td>24.59</td>\n",
       "      <td>3.61</td>\n",
       "      <td>Female</td>\n",
       "      <td>No</td>\n",
       "      <td>Sun</td>\n",
       "      <td>Dinner</td>\n",
       "      <td>4</td>\n",
       "    </tr>\n",
       "  </tbody>\n",
       "</table>\n",
       "</div>"
      ],
      "text/plain": [
       "   total_bill   tip     sex smoker  day    time  size\n",
       "0       16.99  1.01  Female     No  Sun  Dinner     2\n",
       "1       10.34  1.66    Male     No  Sun  Dinner     3\n",
       "2       21.01  3.50    Male     No  Sun  Dinner     3\n",
       "3       23.68  3.31    Male     No  Sun  Dinner     2\n",
       "4       24.59  3.61  Female     No  Sun  Dinner     4"
      ]
     },
     "execution_count": 9,
     "metadata": {},
     "output_type": "execute_result"
    }
   ],
   "source": [
    "df.head()"
   ]
  },
  {
   "cell_type": "code",
   "execution_count": 10,
   "id": "56e879ab",
   "metadata": {},
   "outputs": [
    {
     "name": "stderr",
     "output_type": "stream",
     "text": [
      "C:\\ProgramData\\anaconda3\\lib\\site-packages\\numpy\\core\\fromnumeric.py:3430: FutureWarning: In a future version, DataFrame.mean(axis=None) will return a scalar mean over the entire DataFrame. To retain the old behavior, use 'frame.mean(axis=0)' or just 'frame.mean()'\n",
      "  return mean(axis=axis, dtype=dtype, out=out, **kwargs)\n",
      "C:\\ProgramData\\anaconda3\\lib\\site-packages\\numpy\\core\\fromnumeric.py:3430: FutureWarning: The default value of numeric_only in DataFrame.mean is deprecated. In a future version, it will default to False. In addition, specifying 'numeric_only=None' is deprecated. Select only valid columns or specify the value of numeric_only to silence this warning.\n",
      "  return mean(axis=axis, dtype=dtype, out=out, **kwargs)\n"
     ]
    },
    {
     "data": {
      "text/plain": [
       "total_bill    19.785943\n",
       "tip            2.998279\n",
       "size           2.569672\n",
       "dtype: float64"
      ]
     },
     "execution_count": 10,
     "metadata": {},
     "output_type": "execute_result"
    }
   ],
   "source": [
    "np.mean(df)"
   ]
  },
  {
   "cell_type": "code",
   "execution_count": 11,
   "id": "dde3e145",
   "metadata": {},
   "outputs": [
    {
     "data": {
      "text/plain": [
       "19.78594262295082"
      ]
     },
     "execution_count": 11,
     "metadata": {},
     "output_type": "execute_result"
    }
   ],
   "source": [
    "np.mean(df[\"total_bill\"])"
   ]
  },
  {
   "cell_type": "markdown",
   "id": "f13e7736",
   "metadata": {},
   "source": [
    "## Q12. For a normal distribution data what is the relationship between its measure of central tendency?\n",
    "\n",
    "### For a normal distribution data relationship between its measure of central tendency is given as:\n",
    "## Mean = Median = Mode"
   ]
  },
  {
   "cell_type": "markdown",
   "id": "8551a2c9",
   "metadata": {},
   "source": [
    "## Q13. How is covariance different from correlation?\n",
    "\n",
    "### Covariance measures the direction and strength of the linear relationship between two variables, while correlation standardizes the covariance, providing a measure of the strength and direction of the linear relationship between variables, ranging from -1 to +1, making it easier to compare across datasets."
   ]
  },
  {
   "cell_type": "markdown",
   "id": "a9b5d564",
   "metadata": {},
   "source": [
    "## Q14. How do outliers affect measures of central tendency and dispersion? Provide an example.\n",
    "\n",
    "#### Outliers can distort the mean, pulling it towards their extreme values. The mean becomes less representative of the typical values in the dataset.\n",
    "#### The median is less affected by outliers as it is based on the middle value(s), making it a more robust measure of central tendency.\n",
    "#### Example:"
   ]
  },
  {
   "cell_type": "code",
   "execution_count": 12,
   "id": "5a331fa6",
   "metadata": {},
   "outputs": [],
   "source": [
    "salaries=[300, 350, 400, 450, 500,]"
   ]
  },
  {
   "cell_type": "code",
   "execution_count": 13,
   "id": "4f794334",
   "metadata": {},
   "outputs": [
    {
     "data": {
      "text/plain": [
       "400.0"
      ]
     },
     "execution_count": 13,
     "metadata": {},
     "output_type": "execute_result"
    }
   ],
   "source": [
    "import numpy as np\n",
    "## mean\n",
    "np.mean(salaries)"
   ]
  },
  {
   "cell_type": "code",
   "execution_count": 14,
   "id": "08dc8b51",
   "metadata": {},
   "outputs": [
    {
     "data": {
      "text/plain": [
       "400.0"
      ]
     },
     "execution_count": 14,
     "metadata": {},
     "output_type": "execute_result"
    }
   ],
   "source": [
    "## median\n",
    "np.median(salaries)"
   ]
  },
  {
   "cell_type": "markdown",
   "id": "5144f696",
   "metadata": {},
   "source": [
    "### Having outlier\n",
    "\n"
   ]
  },
  {
   "cell_type": "code",
   "execution_count": 15,
   "id": "eb9caca0",
   "metadata": {},
   "outputs": [],
   "source": [
    "salaries=[300, 350, 400, 450, 500,10000]"
   ]
  },
  {
   "cell_type": "code",
   "execution_count": 16,
   "id": "d38c0fbe",
   "metadata": {},
   "outputs": [
    {
     "data": {
      "text/plain": [
       "2000.0"
      ]
     },
     "execution_count": 16,
     "metadata": {},
     "output_type": "execute_result"
    }
   ],
   "source": [
    "## mean\n",
    "np.mean(salaries)"
   ]
  },
  {
   "cell_type": "code",
   "execution_count": 17,
   "id": "0da6005f",
   "metadata": {},
   "outputs": [
    {
     "data": {
      "text/plain": [
       "425.0"
      ]
     },
     "execution_count": 17,
     "metadata": {},
     "output_type": "execute_result"
    }
   ],
   "source": [
    "## median\n",
    "np.median(salaries)\n"
   ]
  },
  {
   "cell_type": "markdown",
   "id": "9d8eece3",
   "metadata": {},
   "source": [
    "##### The presence of the outlier (1,000,000) significantly affects the mean, making it much larger than the other salaries. The median, however, remains unaffected as it is not influenced by extreme values.¶"
   ]
  }
 ],
 "metadata": {
  "kernelspec": {
   "display_name": "Python 3 (ipykernel)",
   "language": "python",
   "name": "python3"
  },
  "language_info": {
   "codemirror_mode": {
    "name": "ipython",
    "version": 3
   },
   "file_extension": ".py",
   "mimetype": "text/x-python",
   "name": "python",
   "nbconvert_exporter": "python",
   "pygments_lexer": "ipython3",
   "version": "3.10.9"
  }
 },
 "nbformat": 4,
 "nbformat_minor": 5
}
