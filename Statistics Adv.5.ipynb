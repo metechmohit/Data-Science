{
 "cells": [
  {
   "cell_type": "markdown",
   "id": "4722e135-8b3f-4c18-a05e-c64607954e66",
   "metadata": {},
   "source": [
    "## Q1. Calculate the 95% confidence interval for a sample of data with a mean of 50 and a standard deviation of 5 using Python. Interpret the results."
   ]
  },
  {
   "cell_type": "code",
   "execution_count": 1,
   "id": "a7ac1935-e8d3-4e16-9a33-8a017ced9efc",
   "metadata": {},
   "outputs": [
    {
     "name": "stdout",
     "output_type": "stream",
     "text": [
      "95% Confidence Interval:\n",
      "Lower bound: 49.02001800772997\n",
      "Upper bound: 50.97998199227003\n"
     ]
    }
   ],
   "source": [
    "import scipy.stats as stats\n",
    "\n",
    "# Given data\n",
    "sample_mean = 50\n",
    "sample_std_dev = 5\n",
    "confidence_level = 0.95\n",
    "sample_size = 100  # You need to provide the sample size for accurate results\n",
    "\n",
    "# Calculate the standard error\n",
    "standard_error = sample_std_dev / (sample_size ** 0.5)\n",
    "\n",
    "# Calculate the margin of error\n",
    "margin_of_error = stats.norm.ppf(1 - (1 - confidence_level) / 2) * standard_error\n",
    "\n",
    "# Calculate the confidence interval\n",
    "confidence_interval_lower = sample_mean - margin_of_error\n",
    "confidence_interval_upper = sample_mean + margin_of_error\n",
    "\n",
    "print(\"95% Confidence Interval:\")\n",
    "print(\"Lower bound:\", confidence_interval_lower)\n",
    "print(\"Upper bound:\", confidence_interval_upper)\n"
   ]
  },
  {
   "cell_type": "markdown",
   "id": "78184951-8561-42d1-86af-babb55ba95b4",
   "metadata": {},
   "source": [
    "## Q2. Conduct a chi-square goodness of fit test to determine if the distribution of colors of M&Ms in a bag matches the expected distribution of 20% blue, 20% orange, 20% green, 10% yellow, 10% red, and 20% brown. Use Python to perform the test with a significance level of 0.05."
   ]
  },
  {
   "cell_type": "code",
   "execution_count": 2,
   "id": "9ec53e36-97da-47ad-863f-0d6a350e5d9c",
   "metadata": {},
   "outputs": [
    {
     "name": "stdout",
     "output_type": "stream",
     "text": [
      "Chi-Square Statistic: 3.9583333333333335\n",
      "P-value: 0.5554304329530974\n",
      "Fail to reject the null hypothesis. The distribution of colors matches the expected distribution.\n"
     ]
    }
   ],
   "source": [
    "import numpy as np\n",
    "import scipy.stats as stats\n",
    "\n",
    "observed_frequencies = np.array([30, 25, 20, 15, 10, 20])  # Blue, Orange, Green, Yellow, Red, Brown\n",
    "\n",
    "expected_probabilities = np.array([0.2, 0.2, 0.2, 0.1, 0.1, 0.2])\n",
    "\n",
    "total_observations = np.sum(observed_frequencies)\n",
    "\n",
    "expected_frequencies = expected_probabilities * total_observations\n",
    "\n",
    "# Perform the chi-square goodness of fit test\n",
    "chi_square_statistic, p_value = stats.chisquare(observed_frequencies, expected_frequencies)\n",
    "\n",
    "# Significance level\n",
    "alpha = 0.05\n",
    "\n",
    "print(\"Chi-Square Statistic:\", chi_square_statistic)\n",
    "print(\"P-value:\", p_value)\n",
    "\n",
    "if p_value < alpha:\n",
    "    print(\"Reject the null hypothesis. The distribution of colors is not as expected.\")\n",
    "else:\n",
    "    print(\"Fail to reject the null hypothesis. The distribution of colors matches the expected distribution.\")\n"
   ]
  },
  {
   "cell_type": "markdown",
   "id": "93ff5b65-4211-4743-8084-c7f3c6794095",
   "metadata": {},
   "source": [
    "Q3. Use Python to calculate the chi-square statistic and p-value for a contingency table with the following\n",
    "data:\n",
    "#####  ______________ A _____ B\n",
    "##### Outcome1 __ 20 ____ 15\n",
    "##### Outcome2 __ 10 ____ 25\n",
    "##### Outcome3 __ 15 ____ 20\n",
    "Interpret the results of the test."
   ]
  },
  {
   "cell_type": "code",
   "execution_count": 3,
   "id": "302058f9-8b33-47b8-9f5d-6f6ff0a37bb9",
   "metadata": {},
   "outputs": [
    {
     "name": "stdout",
     "output_type": "stream",
     "text": [
      "Chi-Square Statistic: 5.833333333333334\n",
      "P-value: 0.05411376622282158\n",
      "Independent (H0 holds true)\n"
     ]
    }
   ],
   "source": [
    "from scipy.stats import chi2_contingency\n",
    "\n",
    "# defining the table\n",
    "data = [[20, 10, 15], [15, 25, 20]]\n",
    "stat, p, dof, expected = chi2_contingency(data)\n",
    "\n",
    "# interpret p-value\n",
    "alpha = 0.05\n",
    "print(\"Chi-Square Statistic:\", stat)\n",
    "print(\"P-value:\", p)\n",
    "\n",
    "if p <= alpha:\n",
    "\tprint('Dependent (reject H0)')\n",
    "else:\n",
    "\tprint('Independent (H0 holds true)')\n"
   ]
  },
  {
   "cell_type": "markdown",
   "id": "0dc544fc-cfd5-4608-93cd-8a51410011d2",
   "metadata": {},
   "source": [
    "## Q4. A study of the prevalence of smoking in a population of 500 individuals found that 60 individuals smoked. Use Python to calculate the 95% confidence interval for the true proportion of individuals in the population who smoke."
   ]
  },
  {
   "cell_type": "code",
   "execution_count": 4,
   "id": "1ebb342e-810d-47f6-bb19-caac0503cbe6",
   "metadata": {},
   "outputs": [
    {
     "name": "stdout",
     "output_type": "stream",
     "text": [
      "95% Confidence Interval for the Proportion of Smokers:\n",
      "Lower bound: 0.09151638887130707\n",
      "Upper bound: 0.1484836111286929\n"
     ]
    }
   ],
   "source": [
    "import statsmodels.api as sm\n",
    "\n",
    "# Given data\n",
    "sample_size = 500\n",
    "sample_proportion = 60 / sample_size\n",
    "confidence_level = 0.95\n",
    "\n",
    "# Calculate the confidence interval\n",
    "conf_interval = sm.stats.proportion_confint(sample_proportion * sample_size, sample_size, alpha=1-confidence_level)\n",
    "\n",
    "print(\"95% Confidence Interval for the Proportion of Smokers:\")\n",
    "print(\"Lower bound:\", conf_interval[0])\n",
    "print(\"Upper bound:\", conf_interval[1])\n"
   ]
  },
  {
   "cell_type": "markdown",
   "id": "0522cfaf-49bf-4ec1-a70f-b6b9aacd30fd",
   "metadata": {},
   "source": [
    "## Q5. Calculate the 90% confidence interval for a sample of data with a mean of 75 and a standard deviation of 12 using Python. Interpret the results."
   ]
  },
  {
   "cell_type": "code",
   "execution_count": 5,
   "id": "b21ee7a0-f4e7-4052-a781-1deda0d305f0",
   "metadata": {},
   "outputs": [
    {
     "name": "stdout",
     "output_type": "stream",
     "text": [
      "90% Confidence Interval: (73.60, 76.40)\n"
     ]
    }
   ],
   "source": [
    "import scipy.stats as stats\n",
    "\n",
    "sample_mean = 75\n",
    "sample_stddev = 12\n",
    "sample_size = 200\n",
    "confidence_level = 0.90\n",
    "\n",
    "standard_error = sample_stddev / (sample_size ** 0.5)\n",
    "\n",
    "degrees_of_freedom = sample_size - 1\n",
    "\n",
    "# Use the t.interval() function to calculate the confidence interval\n",
    "confidence_interval = stats.t.interval(confidence_level, degrees_of_freedom, loc=sample_mean, scale=standard_error)\n",
    "\n",
    "# Interpretation of the results\n",
    "lower_bound, upper_bound = confidence_interval\n",
    "print(f\"90% Confidence Interval: ({lower_bound:.2f}, {upper_bound:.2f})\")\n"
   ]
  },
  {
   "cell_type": "markdown",
   "id": "6939529d-9f85-432d-bf44-18b7990eed89",
   "metadata": {},
   "source": [
    "## Q6. Use Python to plot the chi-square distribution with 10 degrees of freedom. Label the axes and shade the area corresponding to a chi-square statistic of 15."
   ]
  },
  {
   "cell_type": "code",
   "execution_count": 6,
   "id": "cd059602-d1a8-4c7c-84a3-f83525981bf8",
   "metadata": {},
   "outputs": [
    {
     "data": {
      "image/png": "[encoded data removed]",
      "text/plain": [
       "<Figure size 640x480 with 1 Axes>"
      ]
     },
     "metadata": {},
     "output_type": "display_data"
    }
   ],
   "source": [
    "import numpy as np\n",
    "import matplotlib.pyplot as plt\n",
    "import scipy.stats as stats\n",
    "\n",
    "# Degrees of freedom\n",
    "df = 10\n",
    "\n",
    "# Define the range of x values\n",
    "x = np.linspace(0, 30, 1000)\n",
    "\n",
    "# Calculate the chi-square probability density function (PDF)\n",
    "pdf = stats.chi2.pdf(x, df)\n",
    "\n",
    "# Create a figure and axis for the plot\n",
    "fig, ax = plt.subplots()\n",
    "\n",
    "# Plot the chi-square PDF\n",
    "ax.plot(x, pdf, label=f'Chi-square with {df} degrees of freedom', color='blue')\n",
    "\n",
    "# Shade the area corresponding to a chi-square statistic of 15\n",
    "x_shade = np.linspace(0, 15, 1000)\n",
    "pdf_shade = stats.chi2.pdf(x_shade, df)\n",
    "ax.fill_between(x_shade, pdf_shade, color='gray', alpha=0.5, label='Shaded Area (Chi-square <= 15)')\n",
    "\n",
    "# Label the axes\n",
    "ax.set_xlabel('Chi-square Value')\n",
    "ax.set_ylabel('Probability Density')\n",
    "ax.set_title(f'Chi-square Distribution with {df} Degrees of Freedom')\n",
    "\n",
    "# Add a legend\n",
    "ax.legend()\n",
    "\n",
    "# Show the plot\n",
    "plt.grid(True)\n",
    "plt.show()\n"
   ]
  },
  {
   "cell_type": "markdown",
   "id": "8efc2057-09b9-4972-8444-df6f77166a1e",
   "metadata": {},
   "source": [
    "## Q7. A random sample of 1000 people was asked if they preferred Coke or Pepsi. Of the sample, 520 preferred Coke. Calculate a 99% confidence interval for the true proportion of people in the population who prefer Coke."
   ]
  },
  {
   "cell_type": "code",
   "execution_count": 7,
   "id": "49772cb5-ad2c-42be-80a7-cd4704e042c3",
   "metadata": {},
   "outputs": [
    {
     "name": "stdout",
     "output_type": "stream",
     "text": [
      "99% Confidence Interval for the Proportion of People Who Prefer Coke: (0.4793, 0.5607)\n"
     ]
    }
   ],
   "source": [
    "import scipy.stats as stats\n",
    "import math\n",
    "\n",
    "# Sample size\n",
    "n = 1000\n",
    "\n",
    "# Number of people who prefer Coke in the sample\n",
    "x = 520\n",
    "\n",
    "# Sample proportion\n",
    "p_hat = x / n\n",
    "\n",
    "# Confidence level (99%)\n",
    "confidence_level = 0.99\n",
    "\n",
    "# Calculate the critical value (Z) for a two-tailed test\n",
    "alpha = 1 - confidence_level\n",
    "z_critical = stats.norm.ppf(1 - alpha / 2)\n",
    "\n",
    "# Calculate the margin of error\n",
    "margin_of_error = z_critical * math.sqrt((p_hat * (1 - p_hat)) / n)\n",
    "\n",
    "# Calculate the confidence interval\n",
    "lower_bound = p_hat - margin_of_error\n",
    "upper_bound = p_hat + margin_of_error\n",
    "\n",
    "# Print the confidence interval\n",
    "print(f\"99% Confidence Interval for the Proportion of People Who Prefer Coke: ({lower_bound:.4f}, {upper_bound:.4f})\")\n"
   ]
  },
  {
   "cell_type": "markdown",
   "id": "5b8e979f-77b0-4646-b820-f857a8ecd618",
   "metadata": {},
   "source": [
    "## Q8. A researcher hypothesizes that a coin is biased towards tails. They flip the coin 100 times and observe 45 tails. Conduct a chi-square goodness of fit test to determine if the observed frequencies match the expected frequencies of a fair coin. Use a significance level of 0.05."
   ]
  },
  {
   "cell_type": "code",
   "execution_count": 8,
   "id": "4689a83f-5a7b-4f26-8988-3a1a7d8cb904",
   "metadata": {},
   "outputs": [
    {
     "name": "stdout",
     "output_type": "stream",
     "text": [
      "Fail to reject the null hypothesis (H0). The coin is not biased towards tails.\n",
      "Chi-square Statistic: 1.0\n",
      "P-value: 0.31731050786291115\n"
     ]
    }
   ],
   "source": [
    "import numpy as np\n",
    "import scipy.stats as stats\n",
    "\n",
    "# Observed frequencies\n",
    "observed_tails = 45\n",
    "observed_heads = 100 - observed_tails\n",
    "\n",
    "# Expected frequencies for a fair coin\n",
    "expected_tails = 0.5 * 100\n",
    "expected_heads = 0.5 * 100\n",
    "\n",
    "# Create an array of observed and expected frequencies\n",
    "observed = np.array([observed_heads, observed_tails])\n",
    "expected = np.array([expected_heads, expected_tails])\n",
    "\n",
    "# Perform the chi-square goodness of fit test\n",
    "chi2_statistic, p_value = stats.chisquare(f_obs=observed, f_exp=expected)\n",
    "\n",
    "# Set the significance level\n",
    "alpha = 0.05\n",
    "\n",
    "# Compare the p-value to the significance level\n",
    "if p_value < alpha:\n",
    "    print(f\"Reject the null hypothesis (H0). The coin is biased towards tails.\")\n",
    "else:\n",
    "    print(f\"Fail to reject the null hypothesis (H0). The coin is not biased towards tails.\")\n",
    "\n",
    "print(f\"Chi-square Statistic: {chi2_statistic}\")\n",
    "print(f\"P-value: {p_value}\")\n"
   ]
  },
  {
   "cell_type": "markdown",
   "id": "d6687f1d-b7d4-44d8-ae5a-35e7c245a4fd",
   "metadata": {},
   "source": [
    "## Q9. A study was conducted to determine if there is an association between smoking status (smoker or non-smoker) and lung cancer diagnosis (yes or no). The results are shown in the contingency table below. Conduct a chi-square test for independence to determine if there is a significant association between smoking status and lung cancer diagnosis. Use a significance level of 0.05.\n",
    "\n",
    "_________Lung Cancer: Yes______Lung Cancer: No\n",
    "\n",
    "##### Smoker_______60_______________ 140\n",
    "##### Non-smoker__30_______________ 170\n",
    "\n"
   ]
  },
  {
   "cell_type": "code",
   "execution_count": 9,
   "id": "2c686f9b-a22c-406e-bc10-4fa962e74c4f",
   "metadata": {},
   "outputs": [
    {
     "name": "stdout",
     "output_type": "stream",
     "text": [
      "Reject the null hypothesis (H0). There is a significant association between smoking status and lung cancer diagnosis.\n",
      "Chi-square Statistic: 12.057347670250895\n",
      "P-value: 0.0005158863863703744\n"
     ]
    }
   ],
   "source": [
    "import numpy as np\n",
    "import scipy.stats as stats\n",
    "\n",
    "# Create the contingency table\n",
    "observed = np.array([[60, 140], [30, 170]])\n",
    "\n",
    "# Perform the chi-square test for independence\n",
    "chi2_statistic, p_value, _, _ = stats.chi2_contingency(observed)\n",
    "\n",
    "# Set the significance level\n",
    "alpha = 0.05\n",
    "\n",
    "# Compare the p-value to the significance level\n",
    "if p_value < alpha:\n",
    "    print(\"Reject the null hypothesis (H0). There is a significant association between smoking status and lung cancer diagnosis.\")\n",
    "else:\n",
    "    print(\"Fail to reject the null hypothesis (H0). There is no significant association between smoking status and lung cancer diagnosis.\")\n",
    "\n",
    "print(f\"Chi-square Statistic: {chi2_statistic}\")\n",
    "print(f\"P-value: {p_value}\")\n"
   ]
  },
  {
   "cell_type": "markdown",
   "id": "e721c8fd-3af3-4a6c-bca1-550ec57d08f5",
   "metadata": {},
   "source": [
    "## Q10. A study was conducted to determine if the proportion of people who prefer milk chocolate, dark chocolate, or white chocolate is different in the U.S. versus the U.K. A random sample of 500 people from the U.S. and a random sample of 500 people from the U.K. were surveyed. The results are shown in the contingency table below. Conduct a chi-square test for independence to determine if there is a significant association between chocolate preference and country of origin.Use a significance level of 0.01."
   ]
  },
  {
   "cell_type": "markdown",
   "id": "203f6656-8115-4dc7-9ff1-39f31d5bb107",
   "metadata": {},
   "source": [
    "_______________Milk Chocolate____Dark Chocolate __ White Chocolate\n",
    "\n",
    "##### U.S. (n=500)______ 200______________ 150________ 150\n",
    "##### U.K. (n=500)______ 225______________ 175________ 100\n"
   ]
  },
  {
   "cell_type": "code",
   "execution_count": 10,
   "id": "2e789f29-1fb0-40ab-80c2-5da52e0e6b6c",
   "metadata": {},
   "outputs": [
    {
     "name": "stdout",
     "output_type": "stream",
     "text": [
      "Reject the null hypothesis (H0). There is a significant association between chocolate preference and country of origin.\n",
      "Chi-square Statistic: 13.393665158371041\n",
      "P-value: 0.0012348168997745918\n"
     ]
    }
   ],
   "source": [
    "import numpy as np\n",
    "import scipy.stats as stats\n",
    "\n",
    "# Create the contingency table\n",
    "observed = np.array([[200, 150, 150], [225,175, 100]])\n",
    "\n",
    "# Perform the chi-square test for independence\n",
    "chi2_statistic, p_value, _, _ = stats.chi2_contingency(observed)\n",
    "\n",
    "# Set the significance level\n",
    "alpha = 0.01\n",
    "\n",
    "# Compare the p-value to the significance level\n",
    "if p_value < alpha:\n",
    "    print(\"Reject the null hypothesis (H0). There is a significant association between chocolate preference and country of origin.\")\n",
    "else:\n",
    "    print(\"Fail to reject the null hypothesis (H0). There is no significant association between chocolate preference and country of origin.\")\n",
    "\n",
    "print(f\"Chi-square Statistic: {chi2_statistic}\")\n",
    "print(f\"P-value: {p_value}\")"
   ]
  },
  {
   "cell_type": "markdown",
   "id": "217b9b51-9ad2-4f01-bee3-e60039b565ff",
   "metadata": {},
   "source": [
    "## Q11. A random sample of 30 people was selected from a population with an unknown mean and standard deviation. The sample mean was found to be 72 and the sample standard deviation was found to be 10. Conduct a hypothesis test to determine if the population mean is significantly different from 70. Use a significance level of 0.05."
   ]
  },
  {
   "cell_type": "code",
   "execution_count": 11,
   "id": "cfeedd5a-eada-4807-bf38-06fe447b347b",
   "metadata": {},
   "outputs": [
    {
     "name": "stdout",
     "output_type": "stream",
     "text": [
      "Fail to reject the null hypothesis (H0). There is no significant difference in the population mean from 70.\n",
      "t-statistic: 1.0954451150103321\n",
      "P-value: 0.2823362372860698\n"
     ]
    }
   ],
   "source": [
    "import scipy.stats as stats\n",
    "\n",
    "# Sample mean and standard deviation\n",
    "sample_mean = 72\n",
    "sample_stddev = 10\n",
    "\n",
    "# Sample size\n",
    "sample_size = 30\n",
    "\n",
    "# Population mean under the null hypothesis\n",
    "population_mean_null = 70\n",
    "\n",
    "# Significance level\n",
    "alpha = 0.05\n",
    "\n",
    "# Calculate the standard error of the sample mean\n",
    "standard_error = sample_stddev / (sample_size ** 0.5)\n",
    "\n",
    "# Calculate the t-statistic\n",
    "t_statistic = (sample_mean - population_mean_null) / standard_error\n",
    "\n",
    "# Calculate the degrees of freedom\n",
    "degrees_of_freedom = sample_size - 1\n",
    "\n",
    "# Calculate the p-value for a two-tailed test\n",
    "p_value = 2 * (1 - stats.t.cdf(abs(t_statistic), df=degrees_of_freedom))\n",
    "\n",
    "# Make a decision based on the p-value and significance level\n",
    "if p_value < alpha:\n",
    "    print(\"Reject the null hypothesis (H0). The population mean is significantly different from 70.\")\n",
    "else:\n",
    "    print(\"Fail to reject the null hypothesis (H0). There is no significant difference in the population mean from 70.\")\n",
    "\n",
    "print(f\"t-statistic: {t_statistic}\")\n",
    "print(f\"P-value: {p_value}\")\n"
   ]
  }
 ],
 "metadata": {
  "kernelspec": {
   "display_name": "Python 3 (ipykernel)",
   "language": "python",
   "name": "python3"
  },
  "language_info": {
   "codemirror_mode": {
    "name": "ipython",
    "version": 3
   },
   "file_extension": ".py",
   "mimetype": "text/x-python",
   "name": "python",
   "nbconvert_exporter": "python",
   "pygments_lexer": "ipython3",
   "version": "3.10.9"
  }
 },
 "nbformat": 4,
 "nbformat_minor": 5
}
