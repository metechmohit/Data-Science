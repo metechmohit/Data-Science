{
 "cells": [
  {
   "cell_type": "markdown",
   "id": "db30f9a7-bd70-4013-97ae-d84660991103",
   "metadata": {},
   "source": [
    "## Q1. What is the Probability density function?\n",
    "\n",
    "#### The Probability Density Function (PDF) is a fundamental concept in probability theory and statistics. It describes the probability distribution of a continuous random variable. \n",
    "\n",
    "Mathematically, the PDF is a non-negative function that integrates to 1 over its entire range. It provides valuable information about the shape, spread, and likelihood of different values occurring within a continuous distribution. The area under the PDF curve within a specific interval corresponds to the probability of the random variable falling within that interval."
   ]
  },
  {
   "cell_type": "markdown",
   "id": "57d8cd3b-94d6-4a40-9d3e-5dca45cd3237",
   "metadata": {
    "tags": []
   },
   "source": [
    "## Q2. What are the types of Probability distribution?\n",
    "#### There are several types of probability distributions, each with its own characteristics and applications. Here are some commonly encountered distributions:\n",
    "\n",
    "1. Uniform Distribution: In this distribution, all outcomes within a specified range have equal probability.\n",
    "\n",
    "2. Normal Distribution (Gaussian Distribution): This is one of the most important distributions and often arises naturally in various phenomena. It is characterized by a bell-shaped curve and is symmetric around its mean.\n",
    "\n",
    "3. Bernoulli Distribution: It has only binary outcomes.\n",
    "\n",
    "4. Binomial Distribution: This distribution models the number of successes in a fixed number of independent Bernoulli trials, where each trial has the same probability of success.\n",
    "\n",
    "5. Poisson Distribution: It describes the number of events that occur within a fixed interval of time or space, given the average rate of occurrence.\n",
    "\n",
    "6. Exponential Distribution: This distribution models the time between events occurring in a Poisson process, where events occur continuously and independently at a constant average rate.\n",
    "\n",
    "7. Gamma Distribution: It generalizes the exponential distribution and is often used to model waiting times or durations.\n",
    "\n",
    "8. Beta Distribution: It is a continuous distribution defined on the interval [0, 1] and is commonly used as a prior distribution in Bayesian analysis.\n",
    "\n",
    "9. Chi-Square Distribution: It arises from the sum of squares of independent standard normal random variables and is often used in hypothesis testing and confidence interval estimation.\n",
    "\n",
    "10. Student's t-Distribution: It is commonly used in hypothesis testing when the sample size is small and the population standard deviation is unknown.\n",
    "\n",
    "\n",
    "\n",
    "These are just a few examples, and there are many other probability distributions with their own unique properties and applications in different fields of study."
   ]
  },
  {
   "cell_type": "markdown",
   "id": "dfc58f11-61f3-443a-9f65-4876688eb727",
   "metadata": {},
   "source": [
    "## Q3. Write a Python function to calculate the probability density function of a normal distribution with given mean and standard deviation at a given point."
   ]
  },
  {
   "cell_type": "code",
   "execution_count": 1,
   "id": "651ba219-3569-45da-ba41-448381976bf6",
   "metadata": {},
   "outputs": [
    {
     "name": "stdout",
     "output_type": "stream",
     "text": [
      "The PDF at x = 1.5 is: 0.12951759566589174\n"
     ]
    }
   ],
   "source": [
    "import math\n",
    "\n",
    "def calculate_normal_pdf(x, mean, std_dev):\n",
    "    coefficient = 1 / (std_dev * math.sqrt(2 * math.pi))\n",
    "    exponent = -((x - mean) ** 2) / (2 * std_dev ** 2)\n",
    "    pdf = coefficient * math.exp(exponent)\n",
    "    return pdf\n",
    "mean = 0  # Mean of the normal distribution\n",
    "std_dev = 1  # Standard deviation of the normal distribution\n",
    "x = 1.5  # Point at which you want to calculate the PDF\n",
    "\n",
    "pdf = calculate_normal_pdf(x, mean, std_dev)\n",
    "print(f\"The PDF at x = {x} is: {pdf}\")\n"
   ]
  },
  {
   "cell_type": "markdown",
   "id": "d41862ab-0ed7-4cc3-9e10-a9e66d3c3617",
   "metadata": {},
   "source": [
    "## Q4. What are the properties of Binomial distribution? Give two examples of events where binomial distribution can be applied.\n",
    "\n",
    "#### The properties of the binomial distribution include:\n",
    "\n",
    "1. Fixed number of Trials: The binomial distribution is based on a fixed number of independent trials, denoted by 'n'. Each trial can result in one of two outcomes: success or failure.\n",
    "\n",
    "2. Independent Events: The trials must be independent, meaning the outcome of one trial does not affect the outcome of subsequent trials.\n",
    "\n",
    "3. Constant Probability: The probability of success, denoted by 'p', remains constant across all trials.\n",
    "\n",
    "4. Discrete Distribution: The binomial distribution is a discrete probability distribution, as it deals with a count of the number of successes.\n",
    "\n",
    "5. Probability Mass Function (PMF): The binomial distribution is characterized by its probability mass function, which gives the probability of obtaining a specific number of successes in 'n' trials.\n",
    "\n",
    "Examples of events where the binomial distribution can be applied:\n",
    "\n",
    "1. Coin Flipping: Consider flipping a fair coin multiple times. Each flip can result in either heads (success) or tails (failure). The binomial distribution can be used to calculate the probability of obtaining a specific number of heads in a given number of flips.\n",
    "\n",
    "2. Product Defects: In manufacturing, the binomial distribution can be used to analyze the probability of finding a certain number of defective items in a production batch. Each item can be classified as either defective (success) or non-defective (failure), and the distribution helps estimate the likelihood of obtaining a specific number of defects in the batch.\n",
    "\n",
    "These are just two examples, but the binomial distribution finds applications in various fields, such as quality control, genetics, polling, and more, where events can be categorized into two distinct outcomes with a fixed number of trials."
   ]
  },
  {
   "cell_type": "markdown",
   "id": "a8e106cd-4e9a-4471-8e76-d5b74343c7a1",
   "metadata": {},
   "source": [
    "## Q5. Generate a random sample of size 1000 from a binomial distribution with probability of success 0.4 and plot a histogram of the results using matplotlib."
   ]
  },
  {
   "cell_type": "code",
   "execution_count": 2,
   "id": "cffe2b14-d02a-48f5-92ff-3f19d8b10b07",
   "metadata": {},
   "outputs": [
    {
     "data": {
      "image/png": "[encoded data removed]",
      "text/plain": [
       "<Figure size 640x480 with 1 Axes>"
      ]
     },
     "metadata": {},
     "output_type": "display_data"
    }
   ],
   "source": [
    "import numpy as np\n",
    "import matplotlib.pyplot as plt\n",
    "\n",
    "# Set the parameters\n",
    "n = 1000  # Sample size\n",
    "p = 0.4  # Probability of success\n",
    "\n",
    "# Generate the random sample\n",
    "sample = np.random.binomial(n, p, size=1000)\n",
    "\n",
    "# Plot the histogram\n",
    "plt.hist(sample, bins='auto', color='blue', alpha=0.7)\n",
    "plt.xlabel('Number of Successes')\n",
    "plt.ylabel('Frequency')\n",
    "plt.title('Histogram of Binomial Distribution')\n",
    "plt.grid(True)\n",
    "plt.show()\n",
    "\n"
   ]
  },
  {
   "cell_type": "markdown",
   "id": "80b896e2-babd-4981-90bc-23755e4b07e2",
   "metadata": {},
   "source": [
    "## Q6. Write a Python function to calculate the cumulative distribution function of a Poisson distribution with given mean at a given point."
   ]
  },
  {
   "cell_type": "code",
   "execution_count": 3,
   "id": "9c0553f2-e81b-4111-857c-bb729a4a7ea1",
   "metadata": {},
   "outputs": [
    {
     "name": "stdout",
     "output_type": "stream",
     "text": [
      "The CDF at k = 4 is: 0.8911780189141512\n"
     ]
    }
   ],
   "source": [
    "def poisson_cdf(k, mean):\n",
    "    cdf = 0.0\n",
    "    for i in range(k + 1):\n",
    "        cdf += (math.exp(-mean) * mean ** i) / math.factorial(i)\n",
    "    return cdf\n",
    "mean = 2.5  # Mean of the Poisson distribution\n",
    "k = 4  # Point at which you want to calculate the CDF\n",
    "\n",
    "cdf = poisson_cdf(k, mean)\n",
    "print(f\"The CDF at k = {k} is: {cdf}\")\n"
   ]
  },
  {
   "cell_type": "markdown",
   "id": "35783b01-b8b9-4943-bc81-a7f7d170c374",
   "metadata": {},
   "source": [
    "## Q7. How Binomial distribution different from Poisson distribution?"
   ]
  },
  {
   "cell_type": "markdown",
   "id": "cc90578a-fd2c-4d5f-b6d6-d473c461a353",
   "metadata": {},
   "source": [
    "####  The Binomial distribution and the Poisson distribution are both probability distributions used to model discrete events, but they have distinct characteristics and are applicable in different scenarios. Here are the key differences between them:\n",
    "\n",
    "1. Nature of Events:\n",
    "   - Binomial Distribution: The number of successes in a fixed number of independent Bernoulli trials, where each trial has the same probability of success.\n",
    "   - Poisson Distribution: The number of events occurring within a fixed interval of time or space without fixed number of trials, given the average rate of occurrence. It is often used to describe rare events happening in a large population or over a large area.\n",
    "\n",
    "2. Probability of Success:\n",
    "   - Binomial Distribution: The probability of success ('p') in each trial remains constant across all trials.\n",
    "   - Poisson Distribution: The Poisson distribution does not have a probability of success as the events are modeled based on an average rate of occurrence ('λ').\n",
    "\n",
    "3. Shape of the Distribution:\n",
    "   - Binomial Distribution: The binomial distribution is symmetric or skewed, depending on the values of 'n' and 'p'. As 'n' increases and 'p' approaches 0.5, the distribution becomes more symmetric.\n",
    "   - Poisson Distribution: The Poisson distribution is a positively skewed distribution, with its peak located near its mean value.\n",
    "\n",
    "4. Assumptions:\n",
    "   - Binomial Distribution: The binomial distribution assumes a fixed number of independent trials with a constant probability of success in each trial.\n",
    "   - Poisson Distribution: The Poisson distribution assumes that events occur independently and at a constant average rate within a fixed interval.\n",
    "\n",
    "In summary, the binomial distribution is suitable for modeling the number of successes in a fixed number of trials, while the Poisson distribution is used to model the occurrence of events over a fixed interval based on an average rate."
   ]
  },
  {
   "cell_type": "markdown",
   "id": "f5545b2a-3a70-4a6e-91ab-346a0778e5c9",
   "metadata": {},
   "source": [
    "## Q8. Generate a random sample of size 1000 from a Poisson distribution with mean 5 and calculate the sample mean and variance."
   ]
  },
  {
   "cell_type": "code",
   "execution_count": 4,
   "id": "23908a11-fa89-4311-814c-40be877f6717",
   "metadata": {},
   "outputs": [
    {
     "name": "stdout",
     "output_type": "stream",
     "text": [
      "Sample Mean: 5.049\n",
      "Sample Variance: 5.008599\n"
     ]
    }
   ],
   "source": [
    "size = 1000  # Sample size\n",
    "mean = 5  # mean\n",
    "\n",
    "# Generate the random sample\n",
    "sample = np.random.poisson(mean,size= 1000)\n",
    "\n",
    "# Calculate the sample mean and variance\n",
    "sample_mean = np.mean(sample)\n",
    "sample_variance = np.var(sample)\n",
    "\n",
    "# Print the results\n",
    "print(\"Sample Mean:\", sample_mean)\n",
    "print(\"Sample Variance:\", sample_variance)\n"
   ]
  },
  {
   "cell_type": "markdown",
   "id": "8c4d186b-f48e-4ffa-a876-21d967ceb7e5",
   "metadata": {},
   "source": [
    "## Q9. How mean and variance are related in Binomial distribution and Poisson distribution?"
   ]
  },
  {
   "cell_type": "markdown",
   "id": "a94c693d-22fc-4750-ba88-84b3b98c1c6d",
   "metadata": {},
   "source": [
    "#### For the Binomial distribution:\n",
    "\n",
    "Mean: The mean of a Binomial distribution is given by the product of the number of trials (n) and the probability of success (p), denoted as\n",
    "#####  mean = n * p.\n",
    "Variance: The variance of a Binomial distribution is given by the product of the number of trials (n), the probability of success (p), and the probability of failure (q = 1 - p), denoted as\n",
    "#####  variance = n * p * q.\n",
    "\n",
    "#### For the Poisson distribution:\n",
    "\n",
    "Mean: The mean of a Poisson distribution is equal to its parameter, often denoted as λ (lambda). The mean is given by \n",
    "##### mean = λ\n",
    "Variance: The variance of a Poisson distribution is also equal to its parameter, which is λ. Therefore\n",
    "#####  variance = λ"
   ]
  },
  {
   "cell_type": "markdown",
   "id": "4d8fe3da-adca-48c6-b563-916bbfd61fbf",
   "metadata": {},
   "source": [
    "## Q10. In normal distribution with respect to mean position, where does the least frequent data appear?"
   ]
  },
  {
   "cell_type": "markdown",
   "id": "6c497aa4-5737-4d3b-825a-4226f32fa9a8",
   "metadata": {},
   "source": [
    "The tails of the normal distribution, which are the regions further away from the mean, represent the extreme values. These values occur with lower frequencies compared to the values closer to the mean. The tail on the left side of the distribution represents the values below the mean, and the tail on the right side represents the values above the mean.\n"
   ]
  }
 ],
 "metadata": {
  "kernelspec": {
   "display_name": "Python 3 (ipykernel)",
   "language": "python",
   "name": "python3"
  },
  "language_info": {
   "codemirror_mode": {
    "name": "ipython",
    "version": 3
   },
   "file_extension": ".py",
   "mimetype": "text/x-python",
   "name": "python",
   "nbconvert_exporter": "python",
   "pygments_lexer": "ipython3",
   "version": "3.10.9"
  }
 },
 "nbformat": 4,
 "nbformat_minor": 5
}
