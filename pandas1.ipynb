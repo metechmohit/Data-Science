{
 "cells": [
  {
   "cell_type": "markdown",
   "id": "caa514d3",
   "metadata": {},
   "source": [
    "## Q1. Create a Pandas Series that contains the following data: 4, 8, 15, 16, 23, and 42. Then, print the series."
   ]
  },
  {
   "cell_type": "code",
   "execution_count": 1,
   "id": "71f9944c",
   "metadata": {},
   "outputs": [],
   "source": [
    "import pandas as pd"
   ]
  },
  {
   "cell_type": "code",
   "execution_count": 5,
   "id": "7667d583",
   "metadata": {},
   "outputs": [
    {
     "name": "stdout",
     "output_type": "stream",
     "text": [
      "0     4\n",
      "1     8\n",
      "2    15\n",
      "3    16\n",
      "4    23\n",
      "5    42\n",
      "dtype: int64\n"
     ]
    }
   ],
   "source": [
    "data = [4, 8, 15, 16, 23, 42]\n",
    "series = pd.Series(data)\n",
    "\n",
    "print(series)\n"
   ]
  },
  {
   "cell_type": "markdown",
   "id": "4a203cd0",
   "metadata": {},
   "source": [
    "## Q2. Create a variable of list type containing 10 elements in it, and apply pandas.Series function on the variable print it\n"
   ]
  },
  {
   "cell_type": "code",
   "execution_count": 9,
   "id": "c1f3c6b8",
   "metadata": {},
   "outputs": [
    {
     "data": {
      "text/plain": [
       "0    Cars\n",
       "dtype: object"
      ]
     },
     "execution_count": 9,
     "metadata": {},
     "output_type": "execute_result"
    }
   ],
   "source": [
    "Cars=['ford','tata','hyundai','suzuki','mahindra','bugatti','porshe','mustang','mercedes','bmw']\n",
    "pd.Series('Cars')"
   ]
  },
  {
   "cell_type": "markdown",
   "id": "7d69df3d",
   "metadata": {},
   "source": [
    "## Q3. Create a Pandas DataFrame that contains the following data:"
   ]
  },
  {
   "cell_type": "code",
   "execution_count": 20,
   "id": "ebacd36a",
   "metadata": {},
   "outputs": [
    {
     "name": "stdout",
     "output_type": "stream",
     "text": [
      "     Name  Age  Gender\n",
      "0   Alice   25  Female\n",
      "1     Bob   30    Male\n",
      "2  Claire   27  Female\n"
     ]
    }
   ],
   "source": [
    "data = {\n",
    "    'Name': ['Alice', 'Bob', 'Claire'],\n",
    "    'Age': [25, 30, 27],\n",
    "    'Gender': ['Female', 'Male', 'Female']\n",
    "}\n",
    "\n",
    "df = pd.DataFrame(data)\n",
    "print(df)\n"
   ]
  },
  {
   "cell_type": "markdown",
   "id": "a1e63eb6",
   "metadata": {},
   "source": [
    "## Q4. What is ‘DataFrame’ in pandas and how is it different from pandas.series? Explain with an example."
   ]
  },
  {
   "cell_type": "markdown",
   "id": "c8c85df4",
   "metadata": {},
   "source": [
    "### In pandas, a DataFrame is a two-dimensional data structure that represents tabular data. It consists of rows and columns, similar to a spreadsheet or a SQL table. It is one of the most commonly used data structures in pandas.\n",
    "### The key difference between a DataFrame and a Series is that a Series represents a single column of data with an associated index, while a DataFrame contains multiple columns of data, each with its own label or column name. For example:"
   ]
  },
  {
   "cell_type": "code",
   "execution_count": 21,
   "id": "8fa2d478",
   "metadata": {},
   "outputs": [
    {
     "name": "stdout",
     "output_type": "stream",
     "text": [
      "     Name  Age  Gender\n",
      "0   Alice   25  Female\n",
      "1     Bob   30    Male\n",
      "2  Claire   27  Female\n"
     ]
    }
   ],
   "source": [
    "## for data frame\n",
    "data = {\n",
    "    'Name': ['Alice', 'Bob', 'Claire'],\n",
    "    'Age': [25, 30, 27],\n",
    "    'Gender': ['Female', 'Male', 'Female']\n",
    "}\n",
    "\n",
    "df = pd.DataFrame(data)\n",
    "print(df)"
   ]
  },
  {
   "cell_type": "code",
   "execution_count": 22,
   "id": "62dc3c06",
   "metadata": {},
   "outputs": [
    {
     "name": "stdout",
     "output_type": "stream",
     "text": [
      "Name        [Alice, Bob, Claire]\n",
      "Age                 [25, 30, 27]\n",
      "Gender    [Female, Male, Female]\n",
      "dtype: object\n"
     ]
    }
   ],
   "source": [
    "## for series\n",
    "data = {\n",
    "    'Name': ['Alice', 'Bob', 'Claire'],\n",
    "    'Age': [25, 30, 27],\n",
    "    'Gender': ['Female', 'Male', 'Female']\n",
    "}\n",
    "\n",
    "df = pd.Series(data)\n",
    "print(df)"
   ]
  },
  {
   "cell_type": "markdown",
   "id": "d36e90b2",
   "metadata": {},
   "source": [
    "## Q5. What are some common functions you can use to manipulate data in a Pandas DataFrame? Can you give an example of when you might use one of these functions?"
   ]
  },
  {
   "cell_type": "code",
   "execution_count": null,
   "id": "78fbcf7f",
   "metadata": {},
   "outputs": [],
   "source": [
    "# Suppose 'df' is the DataFrame containing sales data\n",
    "\n",
    "# View the first 5 rows\n",
    "print(df.head())\n",
    "\n",
    "# View the first 5 rows\n",
    "print(df.tail())\n",
    "\n",
    "# Get summary statistics of numerical columns\n",
    "print(df.describe())\n",
    "\n",
    "# Count the unique products sold\n",
    "unique_products = df['Product'].nunique()\n",
    "print(\"Number of unique products:\", unique_products)\n",
    "\n",
    "# Sort the DataFrame by price in descending order\n",
    "sorted_df = df.sort_values('Price', ascending=False)\n",
    "print(sorted_df.head())\n",
    "\n",
    "# Group the data by product and calculate the total sales quantity for each product\n",
    "grouped_df = df.groupby('Product')['Quantity'].sum()\n",
    "print(grouped_df)\n"
   ]
  },
  {
   "cell_type": "markdown",
   "id": "69bd15f7",
   "metadata": {},
   "source": [
    "## Q6. Which of the following is mutable in nature Series, DataFrame, Panel?\n",
    "\n",
    "### Data Frame and Series\n",
    "\n",
    "### Series: A Pandas Series is mutable, allowing you to modify or update individual elements within the Series by assigning new values to specific indices. For example, you can change the value of a specific element in a Series using indexing: 'series[index] = new_value'.\n",
    "\n",
    "### DataFrame: Similar to Series, a Pandas DataFrame is mutable. You can modify specific cells, rows, or columns by indexing or using appropriate DataFrame methods. For instance, you can update a value in a DataFrame using indexing: 'df.loc[row_index, column_name] = new_value'."
   ]
  },
  {
   "cell_type": "markdown",
   "id": "72c04724",
   "metadata": {},
   "source": [
    "## Q7. Create a DataFrame using multiple Series. Explain with an example.\n"
   ]
  },
  {
   "cell_type": "code",
   "execution_count": 24,
   "id": "78a19244",
   "metadata": {},
   "outputs": [
    {
     "name": "stdout",
     "output_type": "stream",
     "text": [
      "     Name  Age  Gender\n",
      "0   Alice   25  Female\n",
      "1     Bob   30    Male\n",
      "2  Claire   27  Female\n"
     ]
    }
   ],
   "source": [
    "# Create Series for each column\n",
    "name_series = pd.Series(['Alice', 'Bob', 'Claire'])\n",
    "age_series = pd.Series([25, 30, 27])\n",
    "gender_series = pd.Series(['Female', 'Male', 'Female'])\n",
    "\n",
    "# Create DataFrame using the Series\n",
    "data = {\n",
    "    'Name': name_series,\n",
    "    'Age': age_series,\n",
    "    'Gender': gender_series\n",
    "}\n",
    "\n",
    "df = pd.DataFrame(data)\n",
    "print(df)\n"
   ]
  }
 ],
 "metadata": {
  "kernelspec": {
   "display_name": "Python 3 (ipykernel)",
   "language": "python",
   "name": "python3"
  },
  "language_info": {
   "codemirror_mode": {
    "name": "ipython",
    "version": 3
   },
   "file_extension": ".py",
   "mimetype": "text/x-python",
   "name": "python",
   "nbconvert_exporter": "python",
   "pygments_lexer": "ipython3",
   "version": "3.10.9"
  }
 },
 "nbformat": 4,
 "nbformat_minor": 5
}
