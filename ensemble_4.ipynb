{
 "cells": [
  {
   "cell_type": "markdown",
   "id": "dc4310df-7434-4cc7-933d-97db5de9cc04",
   "metadata": {},
   "source": [
    "### Q1. Designing a Machine Learning Pipeline\n",
    "\n",
    "Here's how you can design a pipeline that automates the feature engineering process and handles missing values, including feature selection, preprocessing, and model building using a Random Forest Classifier:\n",
    "\n",
    "#### Step-by-Step Solution"
   ]
  },
  {
   "cell_type": "markdown",
   "id": "e52f7999-0f5d-43d6-a5d3-be6de05e0ab0",
   "metadata": {},
   "source": [
    "import numpy as np\n",
    "import pandas as pd\n",
    "from sklearn.model_selection import train_test_split\n",
    "from sklearn.impute import SimpleImputer\n",
    "from sklearn.preprocessing import StandardScaler, OneHotEncoder\n",
    "from sklearn.compose import ColumnTransformer\n",
    "from sklearn.pipeline import Pipeline\n",
    "from sklearn.ensemble import RandomForestClassifier\n",
    "from sklearn.metrics import accuracy_score\n",
    "from sklearn.feature_selection import SelectFromModel\n",
    "#### 1. Import Necessary Libraries:"
   ]
  },
  {
   "cell_type": "code",
   "execution_count": null,
   "id": "8f41256a-942e-42c5-97aa-fd117c295133",
   "metadata": {},
   "outputs": [],
   "source": [
    "import numpy as np\n",
    "import pandas as pd\n",
    "from sklearn.model_selection import train_test_split\n",
    "from sklearn.impute import SimpleImputer\n",
    "from sklearn.preprocessing import StandardScaler, OneHotEncoder\n",
    "from sklearn.compose import ColumnTransformer\n",
    "from sklearn.pipeline import Pipeline\n",
    "from sklearn.ensemble import RandomForestClassifier\n",
    "from sklearn.metrics import accuracy_score\n",
    "from sklearn.feature_selection import SelectFromModel\n"
   ]
  },
  {
   "cell_type": "markdown",
   "id": "8bbb03c7-f3c6-4c54-8f9c-fd72ccf212f7",
   "metadata": {},
   "source": [
    "#### 2. Load the Dataset:"
   ]
  },
  {
   "cell_type": "code",
   "execution_count": null,
   "id": "a49f9d3c-d0d0-4238-bdf4-195f056b4f8b",
   "metadata": {},
   "outputs": [],
   "source": [
    "# Assuming 'data.csv' is your dataset file\n",
    "df = pd.read_csv('data.csv')\n",
    "\n",
    "# Separate features and target\n",
    "X = df.drop('target', axis=1)\n",
    "y = df['target']\n"
   ]
  },
  {
   "cell_type": "markdown",
   "id": "c6952539-1600-4437-861e-87dc6e8dd49a",
   "metadata": {},
   "source": [
    "#### 3. Train-Test Split:"
   ]
  },
  {
   "cell_type": "code",
   "execution_count": null,
   "id": "f662df39-bd74-4632-8800-df3b7f4feda3",
   "metadata": {},
   "outputs": [],
   "source": [
    "X_train, X_test, y_train, y_test = train_test_split(X, y, test_size=0.2, random_state=42)\n"
   ]
  },
  {
   "cell_type": "markdown",
   "id": "c89c84a2-9909-41ec-9b5a-2e7b5c244e1d",
   "metadata": {},
   "source": [
    "#### 4. Automated Feature Selection:\n",
    "\n",
    "Use RandomForestClassifier for feature selection."
   ]
  },
  {
   "cell_type": "code",
   "execution_count": null,
   "id": "c721fb73-8a4e-466d-90fe-9e54f4e8f7ca",
   "metadata": {},
   "outputs": [],
   "source": [
    "feature_selector = SelectFromModel(RandomForestClassifier(n_estimators=100, random_state=42))\n"
   ]
  },
  {
   "cell_type": "markdown",
   "id": "bf6b4321-da52-4a1d-b664-70fa0c2d227f",
   "metadata": {},
   "source": [
    "#### 5. Preprocessing Pipelines:\n",
    "\n",
    "- Numerical Pipeline:"
   ]
  },
  {
   "cell_type": "code",
   "execution_count": null,
   "id": "0b20961c-433a-46d8-9a4f-2d0372f5592a",
   "metadata": {},
   "outputs": [],
   "source": [
    "numerical_features = X.select_dtypes(include=['int64', 'float64']).columns\n",
    "\n",
    "numerical_pipeline = Pipeline(steps=[\n",
    "    ('imputer', SimpleImputer(strategy='mean')),\n",
    "    ('scaler', StandardScaler())\n",
    "])\n"
   ]
  },
  {
   "cell_type": "markdown",
   "id": "f6a9a95d-9fb1-4419-a2c0-4cb583a7e87e",
   "metadata": {},
   "source": [
    "- Categorical Pipeline:"
   ]
  },
  {
   "cell_type": "code",
   "execution_count": null,
   "id": "97de4ac7-c83b-4c0a-ad84-1027d91515c2",
   "metadata": {},
   "outputs": [],
   "source": [
    "categorical_features = X.select_dtypes(include=['object']).columns\n",
    "\n",
    "categorical_pipeline = Pipeline(steps=[\n",
    "    ('imputer', SimpleImputer(strategy='most_frequent')),\n",
    "    ('onehot', OneHotEncoder(handle_unknown='ignore'))\n",
    "])\n"
   ]
  },
  {
   "cell_type": "markdown",
   "id": "6b2e4614-200a-4d6f-a6bc-0f319fa29a1b",
   "metadata": {},
   "source": [
    "- Combine Pipelines:"
   ]
  },
  {
   "cell_type": "code",
   "execution_count": null,
   "id": "e4e48aeb-a4a2-4b2b-b563-39a0504ca736",
   "metadata": {},
   "outputs": [],
   "source": [
    "preprocessor = ColumnTransformer(\n",
    "    transformers=[\n",
    "        ('num', numerical_pipeline, numerical_features),\n",
    "        ('cat', categorical_pipeline, categorical_features)\n",
    "    ]\n",
    ")\n"
   ]
  },
  {
   "cell_type": "markdown",
   "id": "abaee4f1-514c-4c84-ad80-676b15b34b5c",
   "metadata": {},
   "source": [
    "- 6. Build the Final Pipeline:"
   ]
  },
  {
   "cell_type": "code",
   "execution_count": null,
   "id": "c4d72771-15e5-4c0f-b1b6-179112e787a9",
   "metadata": {},
   "outputs": [],
   "source": [
    "pipeline = Pipeline(steps=[\n",
    "    ('preprocessor', preprocessor),\n",
    "    ('feature_selection', feature_selector),\n",
    "    ('classifier', RandomForestClassifier(n_estimators=100, random_state=42))\n",
    "])\n"
   ]
  },
  {
   "cell_type": "markdown",
   "id": "1f72591c-05c4-4473-ace0-274919ce1bf8",
   "metadata": {},
   "source": [
    "- 7. Train the Model:"
   ]
  },
  {
   "cell_type": "code",
   "execution_count": null,
   "id": "fe93c35b-002d-4a4e-bc0c-e0f2569ca8b0",
   "metadata": {},
   "outputs": [],
   "source": [
    "pipeline.fit(X_train, y_train)\n",
    "#Evaluate\n",
    "y_pred = pipeline.predict(X_test)\n",
    "accuracy = accuracy_score(y_test, y_pred)\n",
    "print(f'Accuracy: {accuracy:.2f}')\n"
   ]
  },
  {
   "cell_type": "markdown",
   "id": "24a915ac-d489-43ba-8603-e91b18674d70",
   "metadata": {},
   "source": [
    "#### Interpretation and Possible Improvements\n",
    "\n",
    "- **Interpretation:** This pipeline automates preprocessing (handling missing values and encoding), feature selection, and model training. The accuracy score gives an initial measure of model performance.\n",
    "- **Possible Improvements:**\n",
    "  - **Hyperparameter Tuning:** Use GridSearchCV to tune hyperparameters.\n",
    "  - **More Sophisticated Imputation:** Explore other imputation methods like K-Nearest Neighbors.\n",
    "  - **Feature Engineering:** Create interaction features or polynomial features.\n",
    "  - **Model Ensemble:** Combine multiple models (e.g., gradient boosting) for better performance.\n"
   ]
  },
  {
   "cell_type": "markdown",
   "id": "f5581406-086a-43e0-9b5e-d6e3c741a6eb",
   "metadata": {},
   "source": [
    "### Q2. Building a Voting Classifier Pipeline\n",
    "\n",
    "Here's how to create a pipeline that includes a Random Forest Classifier and a Logistic Regression Classifier and then use a Voting Classifier to combine their predictions:\n",
    "\n",
    "#### Step-by-Step Solution\n",
    "\n",
    "**1. Import Necessary Libraries:**"
   ]
  },
  {
   "cell_type": "code",
   "execution_count": null,
   "id": "c846419b-0335-4222-b506-4100c1f493f3",
   "metadata": {},
   "outputs": [],
   "source": [
    "from sklearn.linear_model import LogisticRegression\n",
    "from sklearn.ensemble import VotingClassifier"
   ]
  },
  {
   "cell_type": "markdown",
   "id": "b1d50d53-3f34-49f9-b622-dc82ba3ecead",
   "metadata": {},
   "source": [
    "\n",
    "**2. Define the Pipeline with Both Classifiers:**"
   ]
  },
  {
   "cell_type": "code",
   "execution_count": null,
   "id": "3420cbb5-dc8e-4d50-8ab0-df0a929e6c6b",
   "metadata": {},
   "outputs": [],
   "source": [
    "# Reuse the preprocessor from Q1\n",
    "pipeline_rf = Pipeline(steps=[\n",
    "    ('preprocessor', preprocessor),\n",
    "    ('classifier', RandomForestClassifier(n_estimators=100, random_state=42))\n",
    "])\n",
    "\n",
    "pipeline_lr = Pipeline(steps=[\n",
    "    ('preprocessor', preprocessor),\n",
    "    ('classifier', LogisticRegression(max_iter=1000, random_state=42))\n",
    "])\n",
    "\n",
    "# Combine the pipelines into a Voting Classifier\n",
    "voting_pipeline = VotingClassifier(\n",
    "    estimators=[('rf', pipeline_rf), ('lr', pipeline_lr)],\n",
    "    voting='soft'\n",
    ")"
   ]
  },
  {
   "cell_type": "markdown",
   "id": "977131ab-65fc-4545-860d-6833cdfd9ef5",
   "metadata": {},
   "source": [
    "**3. Train the Voting Classifier:**\n"
   ]
  },
  {
   "cell_type": "code",
   "execution_count": null,
   "id": "71d7cb7d-438b-406c-8563-2f50911aea1e",
   "metadata": {},
   "outputs": [],
   "source": [
    "voting_pipeline.fit(X_train, y_train)"
   ]
  },
  {
   "cell_type": "markdown",
   "id": "435f1041-f98f-4922-9e1b-9ec6720310f5",
   "metadata": {},
   "source": [
    "**4. Evaluate the Model:**"
   ]
  },
  {
   "cell_type": "code",
   "execution_count": null,
   "id": "7d68fa7a-3fb1-42e4-980c-791342ebb345",
   "metadata": {},
   "outputs": [],
   "source": [
    "y_pred_voting = voting_pipeline.predict(X_test)\n",
    "accuracy_voting = accuracy_score(y_test, y_pred_voting)\n",
    "print(f'Voting Classifier Accuracy: {accuracy_voting:.2f}')\n"
   ]
  },
  {
   "cell_type": "markdown",
   "id": "d59e9e76-dfe1-4747-a755-c31cc1730bf0",
   "metadata": {},
   "source": [
    "### Interpretation\n",
    "\n",
    "- **Accuracy Improvement:** Combining different classifiers often results in better performance due to the complementary strengths of the individual models.\n",
    "- **Robustness:** The Voting Classifier is more robust to overfitting than individual models.\n",
    "- **Further Improvements:**\n",
    "  - **Add More Classifiers:** Include additional models such as SVM or Gradient Boosting.\n",
    "  - **Stacking:** Instead of simple voting, use stacking for more complex blending of model predictions.\n",
    "\n",
    "This setup provides a comprehensive pipeline for handling various preprocessing tasks and model training, ensuring a robust and flexible machine learning workflow."
   ]
  }
 ],
 "metadata": {
  "kernelspec": {
   "display_name": "Python 3 (ipykernel)",
   "language": "python",
   "name": "python3"
  },
  "language_info": {
   "codemirror_mode": {
    "name": "ipython",
    "version": 3
   },
   "file_extension": ".py",
   "mimetype": "text/x-python",
   "name": "python",
   "nbconvert_exporter": "python",
   "pygments_lexer": "ipython3",
   "version": "3.10.9"
  }
 },
 "nbformat": 4,
 "nbformat_minor": 5
}
