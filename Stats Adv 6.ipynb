{
 "cells": [
  {
   "cell_type": "markdown",
   "id": "28d1dfe0-6b1c-401c-9350-a7be34149af9",
   "metadata": {},
   "source": [
    "## Q1. Explain the assumptions required to use ANOVA and provide examples of violations that could impact the validity of the results."
   ]
  },
  {
   "cell_type": "markdown",
   "id": "845390e7-678f-4d59-b242-f3bb6f7bd998",
   "metadata": {},
   "source": [
    "Analysis of Variance (ANOVA) is a statistical technique used to compare means of two or more groups to determine whether there are statistically significant differences among them. ANOVA relies on several assumptions, and violations of these assumptions can impact the validity of the results. The key assumptions for ANOVA are:\n",
    "\n",
    "1. **Independence of Observations**:\n",
    "   - Assumption: Observations within each group are independent of each other.\n",
    "   - Violation Example: In a repeated measures design, where the same individuals are measured over time, observations within the same subject may not be independent. This can violate the assumption.\n",
    "\n",
    "2. **Normality**:\n",
    "   - Assumption: The data within each group are normally distributed.\n",
    "   - Violation Example: If the data within a group significantly deviate from a normal distribution (e.g., highly skewed or have outliers), this assumption may be violated. Violations can be detected through normality tests or visual inspection of histograms.\n",
    "\n",
    "3. **Homogeneity of Variances (Homoscedasticity)**:\n",
    "   - Assumption: The variances of the data in all groups are approximately equal (homogeneity of variances).\n",
    "   - Violation Example: If the variances in different groups are significantly different, it can violate this assumption. This is often checked using statistical tests (e.g., Levene's test) or by visually inspecting scatterplots.\n",
    "\n",
    "4. **Absence of Outliers**:\n",
    "   - Assumption: Outlying score to be removed from dataset.\n",
    "   - Violation Example: If the outliers are not removed, for example, if there is some score outlying in dataset, it can violate this assumption.\n",
    "\n"
   ]
  },
  {
   "cell_type": "markdown",
   "id": "33e3c202-1c5f-4ed3-88e3-16565d7c0e79",
   "metadata": {},
   "source": [
    "## Q2. What are the three types of ANOVA, and in what situations would each be used?"
   ]
  },
  {
   "cell_type": "markdown",
   "id": "2e699187-2196-44f2-9c56-6c799a001f54",
   "metadata": {},
   "source": [
    "Analysis of Variance (ANOVA) is a statistical technique used to compare means of two or more groups to determine if there are statistically significant differences among them. There are three main types of ANOVA, each used in different situations:\n",
    "\n",
    "1. **One-Way ANOVA**:\n",
    "   - **Situation**: One-Way ANOVA is used when you have one categorical independent variable (factor) with more than two levels (groups). It tests whether there are any statistically significant differences among the means of these multiple groups.\n",
    "   - **Example**: Suppose you want to compare the average test scores of students in three different schools (School A, School B, and School C) to determine if there is a significant difference in performance across the schools.\n",
    "\n",
    "2. **Two-Way/Factorial ANOVA**:\n",
    "   - **Situation**: Two-Way ANOVA is used when you have two categorical independent variables (factors), and you want to examine the effects of both factors on a continuous dependent variable. It can reveal whether there are main effects for each factor, as well as an interaction effect (i.e., whether the combination of the two factors has an effect that is different from what would be expected from the individual effects).\n",
    "   - **Example**: Consider a study where you want to investigate the effects of both the type of diet (Factor 1: Diet A, Diet B) and the amount of exercise (Factor 2: Low, High) on weight loss. Two-Way ANOVA would help you determine the impact of each factor and whether there is an interaction between diet and exercise on weight loss.\n",
    "\n",
    "3. **Repeated Measures ANOVA**:\n",
    "   - **Situation**: Repeated Measures ANOVA is used when you have one group of participants that you measure repeatedly under different conditions or at different time points. It's designed to assess changes within the same subjects over time or under different conditions.\n",
    "   - **Example**: Suppose you are studying the effect of a drug on blood pressure and you measure the blood pressure of the same group of individuals before taking the drug, one hour after taking the drug, and two hours after taking the drug. Repeated Measures ANOVA would help you determine whether there is a statistically significant change in blood pressure over time due to the drug.\n",
    "\n"
   ]
  },
  {
   "cell_type": "markdown",
   "id": "7a6c8266-31fd-4ab5-8cb4-3d5b963e8f18",
   "metadata": {},
   "source": [
    "## Q3. What is the partitioning of variance in ANOVA, and why is it important to understand this concept?"
   ]
  },
  {
   "cell_type": "markdown",
   "id": "6fdd003d-c3c5-4412-9285-44d527fb218b",
   "metadata": {},
   "source": [
    "The partitioning of variance in Analysis of Variance (ANOVA) is a fundamental concept that helps us understand how the total variability in the data is divided into different sources of variation. It is important to understand this concept because it provides insights into the relationships between the independent and dependent variables and allows us to assess the significance of these relationships. The partitioning of variance in ANOVA consists of several components:\n",
    "\n",
    "1. **Total Variance (Total Sum of Squares, SST)**:\n",
    "   - This represents the total variability in the data. It is calculated as the sum of the squared differences between each data point and the overall mean.\n",
    "   - SST = Variability within groups (explained by the factors) + Variability between groups (unexplained by the factors)\n",
    "\n",
    "2. **Between-Group Variance (Between-Groups Sum of Squares, SSB)**:\n",
    "   - This component represents the variability between the group means. It measures the extent to which the group means differ from each other.\n",
    "   - SSB = Σ(ni * (group_mean_i - grand_mean)^2), where ni is the number of observations in group i.\n",
    "\n",
    "3. **Within-Group Variance (Within-Groups Sum of Squares, SSW)**:\n",
    "   - This component represents the variability within each group or category. It accounts for the differences among individual data points within the same group.\n",
    "   - SSW = Σ(Σ(xi - group_mean_i)^2), where xi is an individual data point in group i.\n",
    "\n",
    "4. **Degrees of Freedom (df)**:\n",
    "   - Degrees of freedom are associated with each component of variance. They represent the number of values in the final calculation of the variance components.\n",
    "   - Degrees of freedom for between-groups (dfB) = Number of groups - 1\n",
    "   - Degrees of freedom for within-groups (dfW) = Total number of observations - Number of groups\n",
    "\n",
    "5. **Mean Squares (MS)**:\n",
    "   - Mean squares are obtained by dividing the sum of squares by their respective degrees of freedom.\n",
    "   - MSB (Mean Squares Between) = SSB / dfB\n",
    "   - MSW (Mean Squares Within) = SSW / dfW\n",
    "\n",
    "6. **F-Ratio (F-statistic)**:\n",
    "   - The F-ratio is the ratio of the mean squares between and mean squares within. It is used to test the hypothesis of whether there are significant differences among the group means.\n",
    "   - F = MSB / MSW\n",
    "\n",
    "Understanding the partitioning of variance is crucial for several reasons:\n",
    "\n",
    "- It provides a structured way to quantify the sources of variability in the data.\n",
    "- It helps assess the significance of the factors being studied by comparing the between-group variance to the within-group variance.\n",
    "- It informs us about the relative importance of different factors in explaining the variation in the dependent variable.\n",
    "- It aids in hypothesis testing and determining whether the observed differences among groups are statistically significant.\n",
    "\n",
    "Overall, understanding how variance is partitioned in ANOVA is essential for interpreting the results accurately, drawing meaningful conclusions, and making informed decisions based on statistical analyses."
   ]
  },
  {
   "cell_type": "markdown",
   "id": "7b4140f5-651a-4068-9dcb-1be0468edc89",
   "metadata": {},
   "source": [
    "## Q4. How would you calculate the total sum of squares (SST), explained sum of squares (SSE), and residual sum of squares (SSR) in a one-way ANOVA using Python?"
   ]
  },
  {
   "cell_type": "markdown",
   "id": "724fe463-82e3-4caa-88e8-74154c0fd3fd",
   "metadata": {},
   "source": [
    "1.Calculate the total sum of squares (SST):\n",
    "\n",
    "SST represents the total variability in the data and is calculated as the sum of the squared differences between each data point and the overall mean."
   ]
  },
  {
   "cell_type": "code",
   "execution_count": 1,
   "id": "8c7a4964-48a2-489d-8f77-4cf89ea50087",
   "metadata": {},
   "outputs": [
    {
     "data": {
      "text/plain": [
       "264.0"
      ]
     },
     "execution_count": 1,
     "metadata": {},
     "output_type": "execute_result"
    }
   ],
   "source": [
    "import numpy as np\n",
    "\n",
    "# Sample data\n",
    "data = np.array([45, 52, 48, 55, 50, 60, 58, 62, 53, 57])\n",
    "\n",
    "# Calculate the overall mean\n",
    "overall_mean = np.mean(data)\n",
    "\n",
    "# Calculate SST\n",
    "sst = np.sum((data - overall_mean) ** 2)\n",
    "sst\n"
   ]
  },
  {
   "cell_type": "markdown",
   "id": "ddfdd5b0-de12-4b0a-9f08-e4e4628ba385",
   "metadata": {},
   "source": [
    "2.Calculate the explained sum of squares (SSE):\n",
    "\n",
    "SSE represents the variability in the data that is explained by the group means and is calculated as the sum of the squared differences between each group mean and the overall mean, weighted by the number of observations in each group."
   ]
  },
  {
   "cell_type": "code",
   "execution_count": 2,
   "id": "1907e3b9-4d74-4a7e-b789-6193dd62b5a9",
   "metadata": {},
   "outputs": [
    {
     "data": {
      "text/plain": [
       "148.33333333333326"
      ]
     },
     "execution_count": 2,
     "metadata": {},
     "output_type": "execute_result"
    }
   ],
   "source": [
    "# Group data into categories (e.g., groups A, B, C)\n",
    "group_A = np.array([45, 52, 48])\n",
    "group_B = np.array([55, 50, 60])\n",
    "group_C = np.array([58, 62, 53, 57])\n",
    "\n",
    "# Calculate group means\n",
    "mean_A = np.mean(group_A)\n",
    "mean_B = np.mean(group_B)\n",
    "mean_C = np.mean(group_C)\n",
    "\n",
    "# Calculate SSE\n",
    "sse = len(group_A) * (mean_A - overall_mean) ** 2 + len(group_B) * (mean_B - overall_mean) ** 2 + len(group_C) * (mean_C - overall_mean) ** 2\n",
    "sse\n"
   ]
  },
  {
   "cell_type": "markdown",
   "id": "0a4e43d3-c86b-4278-99f6-a37c24f6b26a",
   "metadata": {},
   "source": [
    "3. Calculate the residual sum of squares (SSR):\n",
    "\n",
    "SSR represents the unexplained variability in the data and is calculated as the sum of the squared differences between each individual data point and its respective group mean."
   ]
  },
  {
   "cell_type": "code",
   "execution_count": 3,
   "id": "bdcd6d40-b857-499b-9b6c-3f8f69c9f43f",
   "metadata": {},
   "outputs": [
    {
     "data": {
      "text/plain": [
       "115.66666666666667"
      ]
     },
     "execution_count": 3,
     "metadata": {},
     "output_type": "execute_result"
    }
   ],
   "source": [
    "# Calculate SSR for each group\n",
    "ssr_A = np.sum((group_A - mean_A) ** 2)\n",
    "ssr_B = np.sum((group_B - mean_B) ** 2)\n",
    "ssr_C = np.sum((group_C - mean_C) ** 2)\n",
    "\n",
    "# Calculate the total SSR\n",
    "ssr = ssr_A + ssr_B + ssr_C\n",
    "ssr"
   ]
  },
  {
   "cell_type": "markdown",
   "id": "2b541f70-e57d-47dc-b023-f7c6cf817fd5",
   "metadata": {},
   "source": [
    "## Q5. In a two-way ANOVA, how would you calculate the main effects and interaction effects using Python?"
   ]
  },
  {
   "cell_type": "markdown",
   "id": "13132acd-0f78-4773-a91a-3c689734c0c4",
   "metadata": {},
   "source": [
    "In a two-way ANOVA, you can calculate the main effects and interaction effects using Python by analyzing the output of the ANOVA test. Python libraries like statsmodels or scipy provide functions to perform two-way ANOVA and obtain the necessary statistics.\n",
    "1. Perform Two-Way ANOVA:\n",
    "\n",
    "First, perform the two-way ANOVA using Python. You'll need the statsmodels library for this example"
   ]
  },
  {
   "cell_type": "code",
   "execution_count": 4,
   "id": "1a90774c-4cfa-4ba8-92b7-818a76f1973d",
   "metadata": {},
   "outputs": [],
   "source": [
    "import pandas as pd\n",
    "import numpy as np\n",
    "import statsmodels.api as sm\n",
    "from statsmodels.formula.api import ols\n",
    "from statsmodels.stats.anova import anova_lm\n"
   ]
  },
  {
   "cell_type": "code",
   "execution_count": 5,
   "id": "c25a2fce-4049-4f18-a49d-1c1c279451eb",
   "metadata": {},
   "outputs": [],
   "source": [
    "# Create a DataFrame with your data\n",
    "data = pd.DataFrame({'Factor1': ['A', 'B', 'A', 'B', 'A', 'B', 'A', 'B'],\n",
    "                     'Factor2': ['X', 'X', 'Y', 'Y', 'X', 'X', 'Y', 'Y'],\n",
    "                     'Response': [10, 12, 8, 9, 11, 13, 7, 8]})\n",
    "# Fit the two-way ANOVA model\n",
    "formula = 'Response ~ Factor1 * Factor2'\n",
    "model = ols(formula, data=data).fit()\n",
    "# Perform the ANOVA analysis\n",
    "anova_table = anova_lm(model, typ=2)\n"
   ]
  },
  {
   "cell_type": "markdown",
   "id": "da89a2bf-cc12-4110-84ba-a9ee2d1be293",
   "metadata": {},
   "source": [
    "#### Interpret the results:\n",
    "The ANOVA table will contain information about the main effects and interaction effect:\n",
    "\n",
    "##### Main Effects:\n",
    "\n",
    "Factor1\n",
    "\n",
    "Factor2\n",
    "\n",
    "##### Interaction Effect:\n",
    "\n",
    "Factor1:Factor2\n",
    "\n",
    "You can access these effects from the anova_table like this:"
   ]
  },
  {
   "cell_type": "code",
   "execution_count": 6,
   "id": "437d29d7-d5e3-4c9a-95bc-d31740726fb5",
   "metadata": {},
   "outputs": [],
   "source": [
    "main_effect_Factor1 = anova_table['sum_sq']['Factor1'] / anova_table['sum_sq']['Factor1:Factor2']\n",
    "main_effect_Factor2 = anova_table['sum_sq']['Factor2'] / anova_table['sum_sq']['Factor1:Factor2']\n",
    "interaction_effect = anova_table['sum_sq']['Factor1:Factor2']\n"
   ]
  },
  {
   "cell_type": "code",
   "execution_count": 7,
   "id": "68c986b7-251a-4982-96b4-b6d411abb135",
   "metadata": {},
   "outputs": [
    {
     "data": {
      "text/plain": [
       "9.00000000000019"
      ]
     },
     "execution_count": 7,
     "metadata": {},
     "output_type": "execute_result"
    }
   ],
   "source": [
    "main_effect_Factor1"
   ]
  },
  {
   "cell_type": "code",
   "execution_count": 8,
   "id": "ca67ab02-44a7-4e3b-98d8-e3dbc8c9ce1f",
   "metadata": {},
   "outputs": [
    {
     "data": {
      "text/plain": [
       "49.00000000000062"
      ]
     },
     "execution_count": 8,
     "metadata": {},
     "output_type": "execute_result"
    }
   ],
   "source": [
    "main_effect_Factor2"
   ]
  },
  {
   "cell_type": "code",
   "execution_count": 9,
   "id": "e7d03a91-a740-4037-8eff-523bd1a87731",
   "metadata": {},
   "outputs": [
    {
     "data": {
      "text/plain": [
       "0.49999999999999334"
      ]
     },
     "execution_count": 9,
     "metadata": {},
     "output_type": "execute_result"
    }
   ],
   "source": [
    "interaction_effect"
   ]
  },
  {
   "cell_type": "markdown",
   "id": "4561b23e-c2ec-4ce4-bdeb-c37b598ae7f1",
   "metadata": {},
   "source": [
    "## Q6. Suppose you conducted a one-way ANOVA and obtained an F-statistic of 5.23 and a p-value of 0.02. What can you conclude about the differences between the groups, and how would you interpret these results?"
   ]
  },
  {
   "cell_type": "markdown",
   "id": "1e401146-1f6c-4d60-8893-eadbea4d0422",
   "metadata": {},
   "source": [
    "In a one-way ANOVA, the F-statistic is used to test whether there are statistically significant differences among the means of three or more groups. The p-value associated with the F-statistic helps determine the significance of these differences. Here's how to interpret the results:\n",
    "\n",
    "1. **F-Statistic (5.23)**:\n",
    "   - The F-statistic measures the ratio of the variance between the group means to the variance within the groups. In simple terms, it quantifies whether the variation in the means of the groups is larger than what you'd expect by chance.\n",
    "   - In your case, the F-statistic is 5.23.\n",
    "\n",
    "2. **p-value (0.02)**:\n",
    "   - The p-value is the probability of observing such extreme F-statistic results (or more extreme) if there were no real differences between the groups.\n",
    "   - In your case, the p-value is 0.02, which is less than the common significance level of 0.05.\n",
    "\n",
    "Now, let's interpret these results:\n",
    "\n",
    "**Conclusion**:\n",
    "Since the p-value (0.02) is less than the chosen significance level (e.g., 0.05), you would typically reject the null hypothesis. Therefore:\n",
    "\n",
    "- **Rejecting the Null Hypothesis**: This means that there is evidence to suggest that there are statistically significant differences among at least some of the group means.\n",
    "\n",
    "- **Accepting the Alternative Hypothesis**: Alternatively, you could state that at least one group mean is different from the others in a statistically significant way.\n",
    "\n",
    "\n",
    "In summary, with an F-statistic of 5.23 and a p-value of 0.02, you have evidence to conclude that there are significant differences between at least some of the groups you are comparing in your one-way ANOVA analysis."
   ]
  },
  {
   "cell_type": "markdown",
   "id": "0daa7edb-f746-4f6c-9a23-1f6c0cf52683",
   "metadata": {},
   "source": [
    "## Q7. In a repeated measures ANOVA, how would you handle missing data, and what are the potential consequences of using different methods to handle missing data?"
   ]
  },
  {
   "cell_type": "markdown",
   "id": "1e5e0160-20e3-444c-be20-5bbffeda20b8",
   "metadata": {},
   "source": [
    "Handling missing data in a repeated measures ANOVA is important to ensure the validity of your analysis. Repeated measures ANOVA is typically used when you have data collected from the same subjects or items over multiple time points or conditions. Missing data can occur for various reasons, such as participant dropout, equipment malfunction, or errors in data recording. Here's how you can handle missing data and the potential consequences of different methods:\n",
    "\n",
    "**1. Listwise Deletion:**\n",
    "   - This method involves removing all cases (participants or items) with any missing data from the analysis.\n",
    "   - Pros:\n",
    "     - Simple and easy to implement.\n",
    "   - Cons:\n",
    "     - Reduces the sample size, potentially leading to a loss of statistical power.\n",
    "     - May introduce bias if the missing data are not missing completely at random (MCAR).\n",
    "\n",
    "**2. Mean Imputation:**\n",
    "   - Replace missing values with the mean of the observed values for that variable.\n",
    "   - Pros:\n",
    "     - Retains the entire sample.\n",
    "     - Simple and can preserve the sample's overall characteristics.\n",
    "   - Cons:\n",
    "     - Reduces variance, potentially underestimating standard errors and inflating Type I error rates.\n",
    "     - Assumes that missing data are missing completely at random (MCAR).\n",
    "\n",
    "**3. Linear Interpolation:**\n",
    "   - If your data have a temporal or ordinal structure (e.g., time points), you can estimate missing values using linear interpolation.\n",
    "   - Pros:\n",
    "     - Preserves the temporal structure of the data.\n",
    "   - Cons:\n",
    "     - May not be appropriate for all types of data.\n",
    "     - Requires careful consideration of the underlying pattern of the data.\n",
    "\n",
    "**4. Multiple Imputation:**\n",
    "   - This advanced technique involves creating multiple complete datasets with imputed values for missing data and then analyzing each dataset separately.\n",
    "   - Pros:\n",
    "     - Retains all available data.\n",
    "     - Accounts for uncertainty related to missing data.\n",
    "     - Provides more accurate parameter estimates and standard errors.\n",
    "   - Cons:\n",
    "     - Complex and computationally intensive.\n",
    "     - Requires assumptions about the missing data mechanism (e.g., missing at random, MAR).\n",
    "\n",
    "**5. Maximum Likelihood Estimation (MLE):**\n",
    "   - MLE estimates model parameters while taking missing data into account. It is often used in specialized software or statistical packages designed for repeated measures ANOVA.\n",
    "   - Pros:\n",
    "     - Retains all available data.\n",
    "     - Provides unbiased parameter estimates and standard errors.\n",
    "   - Cons:\n",
    "     - Requires specialized software or knowledge.\n",
    "\n",
    "**Potential Consequences:**\n",
    "- Using listwise deletion can lead to reduced statistical power and potential bias if the data are not MCAR.\n",
    "- Mean imputation can introduce bias and underestimate variability, leading to incorrect statistical inferences.\n",
    "- Linear interpolation may not be appropriate for all types of data and may not accurately represent missing values.\n",
    "- Multiple imputation and MLE are more robust methods but require more complex statistical techniques and software.\n",
    "\n",
    "The choice of how to handle missing data in a repeated measures ANOVA should be based on the nature of your data, the reasons for missingness, and the underlying assumptions about missing data mechanisms. It is crucial to carefully document and justify your chosen approach to address missing data in your analysis to ensure the validity and reliability of your results."
   ]
  },
  {
   "cell_type": "markdown",
   "id": "a3db3b12-3c0d-4b3e-bc37-27b73be4f76f",
   "metadata": {},
   "source": [
    "## Q8. What are some common post-hoc tests used after ANOVA, and when would you use each one? Provide an example of a situation where a post-hoc test might be necessary."
   ]
  },
  {
   "cell_type": "markdown",
   "id": "e6c93c46-f342-436d-badf-3014bc6c84d7",
   "metadata": {},
   "source": [
    "Common post-hoc tests used after ANOVA:\n",
    "\n",
    "1. **Tukey's HSD**: Controls familywise error rate, suitable for identifying significant differences in multiple group comparisons.\n",
    "\n",
    "2. **Bonferroni Correction**: Adjusts significance levels for pairwise comparisons, ideal for maintaining an overall low Type I error rate.\n",
    "\n",
    "3. **Sidak Correction**: Similar to Bonferroni but less conservative, controlling familywise error rate with more power.\n",
    "\n",
    "4. **Holm-Bonferroni Method**: Efficiently controls familywise error rate while maximizing statistical power in multiple comparisons.\n",
    "\n",
    "5. **Dunnett's Test**: Compares treatment groups to a control group, identifying which treatments differ significantly from the control.\n",
    "\n",
    "6. **Fisher's LSD**: Liberal test for specific hypotheses about group differences, appropriate when you have prior expectations about specific comparisons."
   ]
  },
  {
   "cell_type": "markdown",
   "id": "7ff548d7-293f-4a83-9f59-602e4451b07a",
   "metadata": {},
   "source": [
    "## Q9. A researcher wants to compare the mean weight loss of three diets: A, B, and C. They collect data from 50 participants who were randomly assigned to one of the diets. Conduct a one-way ANOVA using Python to determine if there are any significant differences between the mean weight loss of the three diets. Report the F-statistic and p-value, and interpret the results."
   ]
  },
  {
   "cell_type": "code",
   "execution_count": 10,
   "id": "bda1baee-1afa-4268-9f73-4b082d18e5a0",
   "metadata": {},
   "outputs": [
    {
     "name": "stdout",
     "output_type": "stream",
     "text": [
      "F-statistic: 370.931049849141\n",
      "p-value: 3.955036964768049e-55\n"
     ]
    }
   ],
   "source": [
    "import numpy as np\n",
    "import scipy.stats as stats\n",
    "diet_A = [2.1, 1.8, 2.5, 1.9, 2.3, 2.8, 2.4, 2.0, 2.2, 2.7, 2.3, 2.1, 2.6, 2.0, 2.5, 2.4, 1.9, 2.2, 2.7, 2.8, 2.5, 2.1, 2.0, 2.3, 2.6, 2.4, 2.7, 2.5, 2.2, 2.8, 2.0, 2.1, 2.3, 2.6, 2.4, 2.7, 2.5, 2.2, 2.0, 2.1, 2.3, 2.6, 2.4, 2.7, 2.5, 2.2, 2.0]\n",
    "diet_B = [1.7, 1.9, 1.5, 1.8, 1.6, 1.7, 2.0, 1.8, 1.6, 1.9, 1.7, 1.5, 1.8, 1.6, 1.7, 2.0, 1.8, 1.6, 1.9, 1.7, 1.5, 1.8, 1.6, 1.7, 2.0, 1.8, 1.6, 1.9, 1.7, 1.5, 1.8, 1.6, 1.7, 2.0, 1.8, 1.6, 1.9, 1.7, 1.5, 1.8, 1.6, 1.7, 2.0, 1.8, 1.6]\n",
    "diet_C = [2.9, 2.7, 3.1, 2.6, 3.0, 3.2, 2.8, 3.1, 2.9, 2.7, 3.0, 3.2, 2.8, 3.1, 2.9, 2.7, 3.0, 3.2, 2.8, 3.1, 2.9, 2.7, 3.0, 3.2, 2.8, 3.1, 2.9, 2.7, 3.0, 3.2, 2.8, 3.1, 2.9, 2.7, 3.0, 3.2, 2.8, 3.1, 2.9, 2.7, 3.0, 3.2, 2.8, 3.1]\n",
    "#Performone-way ANOVA\n",
    "\n",
    "# Create a corresponding group variable for the three diets\n",
    "groups = ['A'] * len(diet_A) + ['B'] * len(diet_B) + ['C'] * len(diet_C)\n",
    "\n",
    "# Perform the one-way ANOVA\n",
    "f_statistic, p_value = stats.f_oneway(diet_A, diet_B, diet_C)\n",
    "\n",
    "# Output the results\n",
    "print(\"F-statistic:\", f_statistic)\n",
    "print(\"p-value:\", p_value)\n"
   ]
  },
  {
   "cell_type": "markdown",
   "id": "40a96271-1fbc-41c0-b4d5-5d7c35d8c0ec",
   "metadata": {},
   "source": [
    "**Interpret the results:**\n",
    "\n",
    "Since you want to determine if there are any significant differences between the mean weight loss of the three diets, you can use the p-value to make your conclusion:\n",
    "\n",
    "If the p-value is less than your chosen significance level (e.g., 0.05), you would typically reject the null hypothesis.\n",
    "In this case, if the p-value is less than 0.05, you would conclude that there are significant differences in mean weight loss between at least two of the diets.\n",
    "\n"
   ]
  },
  {
   "cell_type": "markdown",
   "id": "68e37e1b-7c61-4ab2-8623-6e0453c01c0c",
   "metadata": {},
   "source": [
    "## Q10. A company wants to know if there are any significant differences in the average time it takes to complete a task using three different software programs: Program A, Program B, and Program C. They randomly assign 30 employees to one of the programs and record the time it takes each employee to complete the task. Conduct a two-way ANOVA using Python to determine if there are any main effects or interaction effects between the software programs and employee experience level (novice vs. experienced). Report the F-statistics and p-values, and interpret the results."
   ]
  },
  {
   "cell_type": "code",
   "execution_count": 11,
   "id": "b5e32e9b-d2e9-4df1-9472-0cb8fad04c63",
   "metadata": {},
   "outputs": [
    {
     "name": "stdout",
     "output_type": "stream",
     "text": [
      "                               sum_sq    df         F    PR(>F)\n",
      "C(Software)                 68.909648   2.0  0.978882  0.390236\n",
      "C(Experience)                0.000779   1.0  0.000022  0.996286\n",
      "C(Software):C(Experience)   16.426648   2.0  0.233345  0.793656\n",
      "Residual                   844.755070  24.0       NaN       NaN\n"
     ]
    }
   ],
   "source": [
    "import numpy as np\n",
    "import pandas as pd\n",
    "import statsmodels.api as sm\n",
    "from statsmodels.formula.api import ols\n",
    "from statsmodels.stats.anova import anova_lm\n",
    "\n",
    "# Create a DataFrame with your data\n",
    "data = pd.DataFrame({\n",
    "    'Software': np.repeat(['A', 'B', 'C'], 10),  # 10 employees per software\n",
    "    'Experience': np.tile(['Novice', 'Experienced'], 15),  # 15 novice and 15 experienced per software\n",
    "    'Time': np.random.normal(30, 5, 30)  # Replace with your actual time data\n",
    "})\n",
    "\n",
    "# Fit the two-way ANOVA model\n",
    "formula = 'Time ~ C(Software) + C(Experience) + C(Software):C(Experience)'\n",
    "model = ols(formula, data=data).fit()\n",
    "\n",
    "# Perform the two-way ANOVA\n",
    "anova_table = anova_lm(model, typ=2)\n",
    "\n",
    "# Print the ANOVA table\n",
    "print(anova_table)\n"
   ]
  },
  {
   "cell_type": "markdown",
   "id": "326b9b55-1835-4748-a7c9-7a21764e5b07",
   "metadata": {},
   "source": [
    "##### Interpret the results:\n",
    "\n",
    "Main Effects:\n",
    "\n",
    "C(Software): Tests the main effect of software programs.\n",
    "C(Experience): Tests the main effect of employee experience level.\n",
    "Interaction Effect:\n",
    "\n",
    "C(Software):C(Experience): Tests the interaction effect between software programs and employee experience level.\n",
    "You can access these effects from the anova_table like this:"
   ]
  },
  {
   "cell_type": "code",
   "execution_count": 12,
   "id": "53acf4ac-d327-422d-8d2f-a059857e75a3",
   "metadata": {},
   "outputs": [],
   "source": [
    "main_effect_Software = anova_table['sum_sq']['C(Software)'] / anova_table['sum_sq']['Residual']\n",
    "main_effect_Experience = anova_table['sum_sq']['C(Experience)'] / anova_table['sum_sq']['Residual']\n",
    "interaction_effect = anova_table['sum_sq']['C(Software):C(Experience)']\n"
   ]
  },
  {
   "cell_type": "markdown",
   "id": "cbc00be8-c640-4659-8fd1-5f519f8f67f9",
   "metadata": {},
   "source": [
    "If the p-value for an effect is less than your chosen significance level (e.g., 0.05), you would typically reject the null hypothesis for that effect, indicating a significant effect.\n",
    "\n",
    "If the interaction effect is significant, it suggests that the effect of software programs on task completion time depends on the employee's experience level (and vice versa)"
   ]
  },
  {
   "cell_type": "markdown",
   "id": "6aa73c26-7a2e-4ea0-ad9f-8aa043335124",
   "metadata": {},
   "source": [
    "## Q11. An educational researcher is interested in whether a new teaching method improves student test scores. They randomly assign 100 students to either the control group (traditional teaching method) or the experimental group (new teaching method) and administer a test at the end of the semester. Conduct a two-sample t-test using Python to determine if there are any significant differences in test scoresbetween the two groups. If the results are significant, follow up with a post-hoc test to determine which group(s) differ significantly from each other."
   ]
  },
  {
   "cell_type": "code",
   "execution_count": 13,
   "id": "9381c892-9a11-45e8-abfa-336ffbc19937",
   "metadata": {},
   "outputs": [
    {
     "name": "stdout",
     "output_type": "stream",
     "text": [
      "t-statistic: -3.53854415246012\n",
      "p-value: 0.0023469370674799885\n"
     ]
    }
   ],
   "source": [
    "import numpy as np\n",
    "import pandas as pd\n",
    "from scipy import stats\n",
    "# Example data (replace with your actual data)\n",
    "control_group = [85, 78, 92, 88, 75, 79, 81, 90, 87, 82]  # Scores for the control group\n",
    "experimental_group = [92, 89, 94, 91, 86, 90, 93, 88, 95, 89]  # Scores for the experimental group\n",
    "# Perform a two-sample t-test assuming equal variances\n",
    "t_stat, p_value = stats.ttest_ind(control_group, experimental_group)\n",
    "\n",
    "# Print the t-statistic and p-value\n",
    "print(\"t-statistic:\", t_stat)\n",
    "print(\"p-value:\", p_value)\n"
   ]
  },
  {
   "cell_type": "markdown",
   "id": "59c4b065-1678-458f-887d-a34bcf5874d4",
   "metadata": {},
   "source": [
    "##### Interpret the results:\n",
    "\n",
    "If the p-value is less than your chosen significance level (e.g., 0.05), you would typically reject the null hypothesis and conclude that there are significant differences in test scores between the two groups.\n",
    "\n",
    "Post-hoc Tests (if significant):\n",
    "\n",
    "If the results of the t-test are significant, you can follow up with post-hoc tests (e.g., Tukey's HSD, Bonferroni correction, etc.) to identify which specific group(s) differ significantly from each other. However, please note that post-hoc tests are more commonly used in ANOVA when comparing multiple groups. For a two-group comparison like this, you can simply compare means and conduct additional analyses if needed.\n",
    "\n",
    "\n",
    "\n",
    "\n"
   ]
  },
  {
   "cell_type": "markdown",
   "id": "2aa85136-2a3c-4b60-a7f2-803025ffd6b7",
   "metadata": {
    "tags": []
   },
   "source": [
    "## Q12. A researcher wants to know if there are any significant differences in the average daily sales of three retail stores: Store A, Store B, and Store C. They randomly select 30 days and record the sales for each store on those days. Conduct a repeated measures ANOVA using Python to determine if there are any significant differences in sales between the three stores. If the results are significant, follow up with a post-hoc test to determine which store(s) differ significantly from each other."
   ]
  },
  {
   "cell_type": "code",
   "execution_count": 14,
   "id": "d23b48e3-6bba-41bf-bcd6-245b60cd4930",
   "metadata": {},
   "outputs": [
    {
     "name": "stdout",
     "output_type": "stream",
     "text": [
      "              Anova\n",
      "==================================\n",
      "    F Value  Num DF  Den DF Pr > F\n",
      "----------------------------------\n",
      "Day  0.7267 29.0000 58.0000 0.8243\n",
      "==================================\n",
      "\n"
     ]
    }
   ],
   "source": [
    "import numpy as np\n",
    "import pandas as pd\n",
    "import statsmodels.api as sm\n",
    "from statsmodels.formula.api import ols\n",
    "from statsmodels.stats.anova import AnovaRM\n",
    "# Example data (replace with your actual data)\n",
    "data = pd.DataFrame({\n",
    "    'Store': np.repeat(['Store A', 'Store B', 'Store C'], 30),  # 30 days of sales for each store\n",
    "    'Day': np.tile(np.arange(1, 31), 3),  # Day numbers from 1 to 30 repeated for each store\n",
    "    'Sales': np.random.randint(300, 600, 90)  # Replace with your actual sales data\n",
    "})\n",
    "# Fit the repeated measures ANOVA model\n",
    "model = AnovaRM(data, 'Sales', 'Store', within=['Day'])\n",
    "results = model.fit()\n",
    "\n",
    "# Print the ANOVA results\n",
    "print(results)\n"
   ]
  },
  {
   "cell_type": "markdown",
   "id": "59f8443b-5696-488d-84df-a1af0edf83f2",
   "metadata": {},
   "source": [
    "##### Interpret the results:\n",
    "\n",
    "The results will include information about the main effect of the \"Store\" factor and the interaction effect between \"Store\" and \"Day.\"\n",
    "If the interaction effect is significant, it suggests that the effect of store (sales) depends on the day or time point (repeated measure).\n",
    "\n",
    "Please make sure your data is appropriately structured for repeated measures analysis. If you have cross-sectional data (sales data for a single point in time), a repeated measures ANOVA may not be suitable, and you might want to consider a one-way ANOVA or a different statistical approach to assess differences between stores."
   ]
  }
 ],
 "metadata": {
  "kernelspec": {
   "display_name": "Python 3 (ipykernel)",
   "language": "python",
   "name": "python3"
  },
  "language_info": {
   "codemirror_mode": {
    "name": "ipython",
    "version": 3
   },
   "file_extension": ".py",
   "mimetype": "text/x-python",
   "name": "python",
   "nbconvert_exporter": "python",
   "pygments_lexer": "ipython3",
   "version": "3.10.9"
  }
 },
 "nbformat": 4,
 "nbformat_minor": 5
}
