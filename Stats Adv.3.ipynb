{
 "cells": [
  {
   "cell_type": "markdown",
   "id": "b9a3874c-f705-4bb0-83d6-176d611bb3b6",
   "metadata": {},
   "source": [
    "## Q1: What is Estimation Statistics? Explain point estimate and interval estimate."
   ]
  },
  {
   "cell_type": "markdown",
   "id": "48e6e9a1-9edc-4f36-85ac-4d6a65fbeea9",
   "metadata": {},
   "source": [
    "#### Estimation statistics is a branch of statistics that deals with making inferences and predictions about population parameters based on sample data. It involves the use of sample statistics to estimate the unknown parameters of a population. There are two main types of estimation: point estimate and interval estimate.\n",
    "\n",
    "##### Point Estimate:\n",
    "A point estimate is a single value that is used to estimate an unknown population parameter. It is calculated from the sample data and provides an estimate of the most likely value of the population parameter. However, a point estimate does not give any information about the uncertainty associated with the estimate.\n",
    "\n",
    "##### Interval Estimate:\n",
    "An interval estimate provides a range of values within which the population parameter is likely to lie. It is represented as an interval, or a confidence interval, and is calculated from the sample data. Interval estimates are more informative than point estimates as they give an idea of the precision of the estimate."
   ]
  },
  {
   "cell_type": "markdown",
   "id": "4fb9cd77-4dab-48c1-baf6-70cb37074a9e",
   "metadata": {},
   "source": [
    "## Q2. Write a Python function to estimate the population mean using a sample mean and standard deviation."
   ]
  },
  {
   "cell_type": "code",
   "execution_count": 1,
   "id": "93c83e7d-15da-4c0a-8aa0-413f9399a3ff",
   "metadata": {},
   "outputs": [
    {
     "name": "stdout",
     "output_type": "stream",
     "text": [
      "Estimated population mean: 25.0\n",
      "95% Confidence Interval: (24.02, 25.98)\n"
     ]
    }
   ],
   "source": [
    "import math\n",
    "\n",
    "def population_mean_estimate(sample_mean, sample_std_dev, sample_size):\n",
    "    # Calculate the standard deviation of the sampling distribution\n",
    "    standard_error = sample_std_dev / math.sqrt(sample_size)\n",
    "    \n",
    "    # Calculate the margin of error (typically used for constructing confidence intervals)\n",
    "    margin_of_error = 1.96 * standard_error  # Assuming a 95% confidence level(z=1.96 for 95%)\n",
    "    \n",
    "    # Calculate the lower and upper bounds of the confidence interval\n",
    "    lower_bound = sample_mean - margin_of_error\n",
    "    upper_bound = sample_mean + margin_of_error\n",
    "    \n",
    "    return lower_bound, upper_bound\n",
    "\n",
    "# Example usage\n",
    "sample_mean = 25.0\n",
    "sample_std_dev = 5.0\n",
    "sample_size = 100\n",
    "\n",
    "lower_bound, upper_bound = population_mean_estimate(sample_mean, sample_std_dev, sample_size)\n",
    "\n",
    "print(f\"Estimated population mean: {sample_mean}\")\n",
    "print(f\"95% Confidence Interval: ({lower_bound:.2f}, {upper_bound:.2f})\")"
   ]
  },
  {
   "cell_type": "markdown",
   "id": "91156fdf-d121-48c8-852b-1f7eaf09b5fa",
   "metadata": {},
   "source": [
    "## Q3: What is Hypothesis testing? Why is it used? State the importance of Hypothesis testing."
   ]
  },
  {
   "cell_type": "markdown",
   "id": "d6744108-006c-48b9-8a7a-d3f163411bd1",
   "metadata": {},
   "source": [
    "#### Hypothesis testing is a statistical method used to make decisions or draw conclusions about a population based on sample data. It involves formulating two competing hypotheses, the null hypothesis (H0) and the alternative hypothesis (Ha), and then analyzing the sample data to determine which hypothesis is more likely to be true.\n",
    "\n",
    "Hypothesis testing is used to:\n",
    "\n",
    "1. Test research hypotheses: Researchers use hypothesis testing to determine whether their experimental results support or reject a specific research hypothesis.\n",
    "\n",
    "2. Make decisions in business and industry: Hypothesis testing helps in making informed decisions about product development, quality control, marketing strategies, etc.\n",
    "\n",
    "3. Legal and policy decisions: In legal cases and policy-making, hypothesis testing provides evidence for or against certain claims.\n"
   ]
  },
  {
   "cell_type": "markdown",
   "id": "e052fa47-3c4d-4793-8bb6-c97e0a47dcbd",
   "metadata": {},
   "source": [
    "## Q4. Create a hypothesis that states whether the average weight of male college students is greater than the average weight of female college students.\n",
    "\n",
    " ##### Hypothesis for the average weight of male and female college students:\n",
    "Null hypothesis (H0): The average weight of male college students is equal to the average weight of female college students.\n",
    "\n",
    "Alternative hypothesis (Ha): The average weight of male college students is greater than the average weight of female college students.\n"
   ]
  },
  {
   "cell_type": "markdown",
   "id": "a5e1f330-b743-478c-ab36-101e79cce84a",
   "metadata": {},
   "source": [
    "## Q5. Write a Python script to conduct a hypothesis test on the difference between two population means, given a sample from each population."
   ]
  },
  {
   "cell_type": "code",
   "execution_count": 2,
   "id": "c72149b1-fd2f-4dfa-9c78-890491166c9c",
   "metadata": {},
   "outputs": [
    {
     "name": "stdout",
     "output_type": "stream",
     "text": [
      "Reject the null hypothesis (Ha): There is a significant difference between the population means.\n"
     ]
    }
   ],
   "source": [
    "import numpy as np\n",
    "import scipy.stats as stats\n",
    "def two_sample_hypothesis_test(sample1, sample2, alpha=0.05):\n",
    "    # Calculate sample statistics\n",
    "    mean1 = np.mean(sample1)\n",
    "    mean2 = np.mean(sample2)\n",
    "    std_dev1 = np.std(sample1)\n",
    "    std_dev2 = np.std(sample2)\n",
    "    n1 = len(sample1)\n",
    "    n2 = len(sample2)\n",
    "    \n",
    "    # Calculate the test statistic (assuming equal variances)\n",
    "    pooled_std_dev = math.sqrt(((n1-1) * std_dev1**2 + (n2-1) * std_dev2**2) / (n1 + n2 - 2))\n",
    "    test_statistic = (mean1 - mean2) / (pooled_std_dev * math.sqrt(1/n1 + 1/n2))\n",
    "    \n",
    "    # Calculate the degrees of freedom\n",
    "    degrees_of_freedom = n1 + n2 - 2\n",
    "    \n",
    "    # Calculate the critical value or p-value\n",
    "    critical_value = stats.t.ppf(1 - alpha/2, degrees_of_freedom)\n",
    "    p_value = 2 * (1 - stats.t.cdf(abs(test_statistic), degrees_of_freedom))\n",
    "    \n",
    "    # Make a decision based on the p-value\n",
    "    if p_value < alpha:\n",
    "        return \"Reject the null hypothesis (Ha): There is a significant difference between the population means.\"\n",
    "    else:\n",
    "        return \"Fail to reject the null hypothesis (H0): There is no significant difference between the population means.\"\n",
    "\n",
    "# Example usage\n",
    "sample1 = [65, 70, 68, 72, 75]\n",
    "sample2 = [60, 62, 64, 61, 68]\n",
    "\n",
    "result = two_sample_hypothesis_test(sample1, sample2)\n",
    "print(result)"
   ]
  },
  {
   "cell_type": "markdown",
   "id": "d36a69a3-3ae4-4c98-ba0e-e6332827d690",
   "metadata": {},
   "source": [
    "## Q6: What is a null and alternative hypothesis? Give some examples."
   ]
  },
  {
   "cell_type": "markdown",
   "id": "3f4b2fea-84a4-440c-a9e8-fd8add941002",
   "metadata": {},
   "source": [
    "The null hypothesis (H0) represents the default assumption that there is no significant difference or effect in the population.\n",
    "\n",
    "The alternative hypothesis (Ha) represents the claim or statement that contradicts the null hypothesis."
   ]
  },
  {
   "cell_type": "markdown",
   "id": "ec22d732-b7af-4728-8268-db08143f4a08",
   "metadata": {},
   "source": [
    "## Q7: Write down the steps involved in hypothesis testing."
   ]
  },
  {
   "cell_type": "markdown",
   "id": "90bd6ae9-21ae-4cb2-aad2-221ac7a79988",
   "metadata": {},
   "source": [
    "1.Null hypothesis (H0) \n",
    "\n",
    "2.Alternative hypothesis (Ha) \n",
    "\n",
    "3.Analyzing the sample data to determine which hypothesis is more likely to be true."
   ]
  },
  {
   "cell_type": "markdown",
   "id": "637b20fc-8051-4975-9454-a5393197f3a4",
   "metadata": {},
   "source": [
    "## Q8. Define p-value and explain its significance in hypothesis testing."
   ]
  },
  {
   "cell_type": "markdown",
   "id": "bee57bc4-fa25-416a-b7df-9da3423065a5",
   "metadata": {},
   "source": [
    "In hypothesis testing, the p-value (probability value) is a crucial statistical measure that quantifies the strength of evidence against the null hypothesis (H0). It indicates the probability of observing the test results if the null hypothesis is true.\n",
    "\n",
    "#### Significance of the p-value :\n",
    "\n",
    "1. Decision Making: The p-value is used to make decisions about the null hypothesis. If the p-value is small (typically less than or equal to the chosen significance level, denoted as α), we reject the null hypothesis in favor of the alternative hypothesis (Ha). If the p-value is large, we fail to reject the null hypothesis.\n",
    "\n",
    "2. Strength of Evidence: A smaller p-value indicates stronger evidence against the null hypothesis.\n",
    "\n",
    "3. Significance Level: The significance level (α) is the predetermined threshold used to determine whether the p-value is small enough to reject the null hypothesis. Commonly used significance levels are 0.05 (5%) and 0.01 (1%). If the p-value is less than or equal to α, we reject the null hypothesis; otherwise, we fail to reject it.\n",
    "\n",
    "4. Interpretation: A p-value does not provide the probability that the null hypothesis is true or false. It only indicates the probability of obtaining the observed data under the assumption that the null hypothesis is true.\n",
    "\n",
    "5. Contextual Interpretation: The interpretation of the p-value should consider the context and the specific research question. Even if the p-value is statistically significant, the effect size and practical significance of the results should also be considered when making conclusions."
   ]
  },
  {
   "cell_type": "markdown",
   "id": "f0291d34-12d9-405f-af6c-5522451c727c",
   "metadata": {},
   "source": [
    "## Q9. Generate a Student's t-distribution plot using Python's matplotlib library, with the degrees of freedom parameter set to 10."
   ]
  },
  {
   "cell_type": "code",
   "execution_count": 3,
   "id": "974d809f-14b3-4907-b827-618e8be951ce",
   "metadata": {},
   "outputs": [
    {
     "data": {
      "image/png": "[encoded data removed]",
      "text/plain": [
       "<Figure size 640x480 with 1 Axes>"
      ]
     },
     "metadata": {},
     "output_type": "display_data"
    }
   ],
   "source": [
    "import numpy as np\n",
    "import matplotlib.pyplot as plt\n",
    "from scipy.stats import t\n",
    "\n",
    "# Degrees of freedom\n",
    "df = 10\n",
    "\n",
    "# Generate data points for the t-distribution\n",
    "x = np.linspace(-5, 5, 500)  # Range of x-values for the plot\n",
    "y = t.pdf(x, df)  # Probability density function values for each x\n",
    "\n",
    "# Plot the t-distribution\n",
    "plt.plot(x, y, label=f\"t-distribution (df={df})\")\n",
    "\n",
    "# Add title and labels\n",
    "plt.title(\"Student's t-Distribution\")\n",
    "plt.xlabel(\"x\")\n",
    "plt.ylabel(\"Probability Density Function (PDF)\")\n",
    "\n",
    "# Add a legend to the plot\n",
    "plt.legend()\n",
    "\n",
    "# Display the plot\n",
    "plt.show()\n"
   ]
  },
  {
   "cell_type": "markdown",
   "id": "c69e9fa6-7d0d-4fe6-9d1e-f580fccf0f15",
   "metadata": {},
   "source": [
    "## Q10. Write a Python program to calculate the two-sample t-test for independent samples, given two random samples of equal size and a null hypothesis that the population means are equal."
   ]
  },
  {
   "cell_type": "code",
   "execution_count": 4,
   "id": "162a9d08-21bb-445b-aaca-089d5871fcb6",
   "metadata": {},
   "outputs": [
    {
     "name": "stdout",
     "output_type": "stream",
     "text": [
      "t-statistic: 1.405456737852613\n",
      "p-value: 0.19751054868032814\n",
      "Fail to reject the null hypothesis: Population means are equal.\n"
     ]
    }
   ],
   "source": [
    "import numpy as np\n",
    "\n",
    "def two_sample_t_test(sample1, sample2):\n",
    "    # Calculate the sample sizes and means\n",
    "    n1 = len(sample1)\n",
    "    n2 = len(sample2)\n",
    "    mean1 = np.mean(sample1)\n",
    "    mean2 = np.mean(sample2)\n",
    "    \n",
    "    # Calculate the sample variances (unbiased)\n",
    "    var1 = np.var(sample1, ddof=1)\n",
    "    var2 = np.var(sample2, ddof=1)\n",
    "    \n",
    "    # Calculate the pooled standard deviation\n",
    "    pooled_std = np.sqrt((var1/n1) + (var2/n2))\n",
    "    \n",
    "    # Calculate the t-statistic\n",
    "    t_statistic = (mean1 - mean2) / pooled_std\n",
    "    \n",
    "    # Calculate the degrees of freedom\n",
    "    dof = n1 + n2 - 2\n",
    "    \n",
    "    # Calculate the p-value (two-tailed t-test)\n",
    "    p_value = 2 * (1 - abs(t.cdf(t_statistic, dof)))\n",
    "    \n",
    "    # Determine the result of the test\n",
    "    alpha = 0.05  # Significance level (commonly set at 0.05)\n",
    "    if p_value < alpha:\n",
    "        result = \"Reject the null hypothesis: Population means are different.\"\n",
    "    else:\n",
    "        result = \"Fail to reject the null hypothesis: Population means are equal.\"\n",
    "    \n",
    "    return t_statistic, p_value, result\n",
    "\n",
    "# Example usage\n",
    "sample1 = np.array([25, 28, 30, 32, 35])\n",
    "sample2 = np.array([20, 22, 26, 30, 32])\n",
    "\n",
    "t_statistic, p_value, result = two_sample_t_test(sample1, sample2)\n",
    "\n",
    "print(f\"t-statistic: {t_statistic}\")\n",
    "print(f\"p-value: {p_value}\")\n",
    "print(result)\n"
   ]
  },
  {
   "cell_type": "code",
   "execution_count": 5,
   "id": "87c0f37e-a784-4c08-883f-19cd64029911",
   "metadata": {},
   "outputs": [
    {
     "name": "stdout",
     "output_type": "stream",
     "text": [
      "t-statistic: 1.405456737852613\n",
      "p-value: 0.1975105486803282\n",
      "Fail to reject the null hypothesis: Population means are equal.\n"
     ]
    }
   ],
   "source": [
    "# OR using scipy.stats.ttest_indimport numpy as np\n",
    "from scipy.stats import ttest_ind\n",
    "\n",
    "def two_sample_t_test(sample1, sample2):\n",
    "    # Perform the two-sample t-test\n",
    "    t_statistic, p_value = ttest_ind(sample1, sample2)\n",
    "    \n",
    "    # Determine the result of the test\n",
    "    alpha = 0.05  # Significance level (commonly set at 0.05)\n",
    "    if p_value < alpha:\n",
    "        result = \"Reject the null hypothesis: Population means are different.\"\n",
    "    else:\n",
    "        result = \"Fail to reject the null hypothesis: Population means are equal.\"\n",
    "    \n",
    "    return t_statistic, p_value, result\n",
    "\n",
    "# Example usage\n",
    "sample1 = np.array([25, 28, 30, 32, 35])\n",
    "sample2 = np.array([20, 22, 26, 30, 32])\n",
    "\n",
    "t_statistic, p_value, result = two_sample_t_test(sample1, sample2)\n",
    "\n",
    "print(f\"t-statistic: {t_statistic}\")\n",
    "print(f\"p-value: {p_value}\")\n",
    "print(result)\n",
    "\n"
   ]
  },
  {
   "cell_type": "markdown",
   "id": "a8cd617f-6ab7-4d00-a45f-d6bc4654d0a4",
   "metadata": {},
   "source": [
    "## Q11: What is Student’s t distribution? When to use the t-Distribution."
   ]
  },
  {
   "cell_type": "markdown",
   "id": "d940e858-6130-4810-8133-99ef87e6e685",
   "metadata": {},
   "source": [
    "#### t-distribution used when:\n",
    "\n",
    "The sample size is small (typically n < 30).\n",
    "\n",
    "The population standard deviation is unknown.\n",
    "\n",
    "Performing hypothesis testing for the population mean.\n",
    "\n",
    "Constructing confidence intervals for the population mean.\n",
    "However, if the sample size is large (usually n ≥ 30) and the population standard deviation is known, it is common to use the standard normal (Z) distribution instead of the t-distribution for hypothesis testing and constructing confidence intervals."
   ]
  },
  {
   "cell_type": "markdown",
   "id": "7c1f290e-5078-4aef-b792-7bf3c3e2a94b",
   "metadata": {},
   "source": [
    "## Q12: What is t-statistic? State the formula for t-statistic."
   ]
  },
  {
   "cell_type": "markdown",
   "id": "e2b16e2c-7bf0-44eb-be61-a71c6b5369e2",
   "metadata": {},
   "source": [
    "The t-statistic, also known as the Student's t-statistic, is a measure used in hypothesis testing to assess the difference between the sample mean and the hypothesized population mean. It is calculated by comparing the sample mean to the hypothesized mean, considering the variability in the data as represented by the standard error.\n",
    "\n",
    "The formula for the t-statistic is:\n",
    "\n",
    "t = (Sample Mean -Hypothesized Mean)/(Standard Error)\n",
    "\n",
    "Where:\n",
    "- `Sample Mean` is the mean of the sample data.\n",
    "- `Hypothesized Mean` is the mean value that you want to test against the sample mean (the value assumed to be the population mean in the null hypothesis).\n",
    "- `Standard Error` is the standard error of the sample mean, which represents the uncertainty in the estimate of the population mean based on the sample.\n",
    "\n",
    "The standard error is calculated as:\n",
    "\n",
    "Standard Error = (Sample Standard Deviation)/(sqrt{Sample Size})\n",
    "\n",
    "The t-statistic measures how many standard errors the sample mean is away from the hypothesized population mean. A larger absolute t-value indicates a greater difference between the sample mean and the hypothesized mean, suggesting stronger evidence against the null hypothesis.\n",
    "\n",
    "During hypothesis testing, you compare the calculated t-statistic to the critical t-value from the t-distribution table (or use statistical software) to determine if the difference between the sample mean and the hypothesized mean is statistically significant. If the t-statistic falls in the critical region, you reject the null hypothesis, indicating that there is a significant difference between the sample mean and the hypothesized population mean. Otherwise, if the t-statistic falls within the non-critical region, you fail to reject the null hypothesis, suggesting that there is no significant difference between the sample mean and the hypothesized mean."
   ]
  },
  {
   "cell_type": "markdown",
   "id": "630f3c84-9e80-4042-bfe8-5aecc658e7a2",
   "metadata": {},
   "source": [
    "## Q13. A coffee shop owner wants to estimate the average daily revenue for their shop. They take a random sample of 50 days and find the sample mean revenue to be  500 with a standard deviation of 50. Estimate the population mean revenue with a 95% confidence interval."
   ]
  },
  {
   "cell_type": "code",
   "execution_count": 6,
   "id": "c02c7540-f355-4eec-a48d-5973fe878546",
   "metadata": {},
   "outputs": [
    {
     "name": "stdout",
     "output_type": "stream",
     "text": [
      "Population mean revenue estimate: $500.00\n",
      "95% Confidence Interval: ($485.79, $514.21)\n"
     ]
    }
   ],
   "source": [
    "import math\n",
    "\n",
    "def calculate_confidence_interval(sample_mean, sample_std_dev, sample_size, confidence_level=0.95):\n",
    "    critical_value = 2.009  # For 95% confidence level and 49 degrees of freedom\n",
    "    margin_of_error = critical_value * (sample_std_dev / math.sqrt(sample_size))\n",
    "    lower_bound = sample_mean - margin_of_error\n",
    "    upper_bound = sample_mean + margin_of_error\n",
    "    return lower_bound, upper_bound\n",
    "\n",
    "# Given data\n",
    "sample_mean = 500\n",
    "sample_std_dev = 50\n",
    "sample_size = 50\n",
    "confidence_level = 0.95\n",
    "\n",
    "# Calculate the confidence interval\n",
    "lower_bound, upper_bound = calculate_confidence_interval(sample_mean, sample_std_dev, sample_size, confidence_level)\n",
    "\n",
    "# Print the results\n",
    "print(f\"Population mean revenue estimate: ${sample_mean:.2f}\")\n",
    "print(f\"95% Confidence Interval: (${lower_bound:.2f}, ${upper_bound:.2f})\")\n"
   ]
  },
  {
   "cell_type": "markdown",
   "id": "02860924-42e8-4704-b0e7-d1e990aa11d3",
   "metadata": {},
   "source": [
    "## Q14. A researcher hypothesizes that a new drug will decrease blood pressure by 10 mmHg. They conduct a clinical trial with 100 patients and find that the sample mean decrease in blood pressure is 8 mmHg with a standard deviation of 3 mmHg. Test the hypothesis with a significance level of 0.05."
   ]
  },
  {
   "cell_type": "markdown",
   "id": "9f9b6377-3e80-47b2-99fd-ee4d9335c4cf",
   "metadata": {},
   "source": [
    "The null hypothesis (H0) is that there is no significant difference in blood pressure before and after taking the drug, meaning the mean decrease is 0 mmHg. The alternative hypothesis (Ha) is that the drug will indeed decrease blood pressure, with the mean decrease being less than 0 mmHg."
   ]
  },
  {
   "cell_type": "code",
   "execution_count": 7,
   "id": "9b97afeb-29a1-426d-9a04-3c801516ace2",
   "metadata": {},
   "outputs": [
    {
     "name": "stdout",
     "output_type": "stream",
     "text": [
      "Reject the null hypothesis. The new drug decreases blood pressure.\n"
     ]
    }
   ],
   "source": [
    "import math\n",
    "\n",
    "def one_sample_t_test(sample_mean, hypothesized_mean, sample_std_dev, sample_size):\n",
    "    standard_error = sample_std_dev / math.sqrt(sample_size)\n",
    "    t_statistic = (sample_mean - hypothesized_mean) / standard_error\n",
    "    return t_statistic\n",
    "\n",
    "# Given data\n",
    "sample_mean = 8\n",
    "hypothesized_mean = 10\n",
    "sample_std_dev = 3\n",
    "sample_size = 100\n",
    "significance_level = 0.05\n",
    "\n",
    "# Calculate the t-statistic\n",
    "t_statistic = one_sample_t_test(sample_mean, hypothesized_mean, sample_std_dev, sample_size)\n",
    "\n",
    "# Calculate the critical t-value for a one-tailed test with 99 degrees of freedom (n-1)\n",
    "critical_t_value = 1.660  # Obtained from the t-distribution table for alpha = 0.05 and df = 99\n",
    "\n",
    "# Perform the one-tailed test\n",
    "if t_statistic < critical_t_value:\n",
    "    print(\"Reject the null hypothesis. The new drug decreases blood pressure.\")\n",
    "else:\n",
    "    print(\"Fail to reject the null hypothesis. There is no significant evidence that the drug decreases blood pressure.\")\n"
   ]
  },
  {
   "cell_type": "markdown",
   "id": "79c74fdb-af24-4197-bb68-443a5ff60d76",
   "metadata": {},
   "source": [
    "## Q15. An electronics company produces a certain type of product with a mean weight of 5 pounds and a standard deviation of 0.5 pounds. A random sample of 25 products is taken, and the sample mean weight is found to be 4.8 pounds. Test the hypothesis that the true mean weight of the products is less than 5 pounds with a significance level of 0.01."
   ]
  },
  {
   "cell_type": "markdown",
   "id": "d7f697eb-0297-4f49-be51-6769d76c497f",
   "metadata": {},
   "source": [
    "To test the hypothesis that the true mean weight of the products is less than 5 pounds, we can perform a one-sample t-test with a one-tailed test. The null hypothesis (H0) is that the true mean weight is equal to or greater than 5 pounds, while the alternative hypothesis (Ha) is that the true mean weight is less than 5 pounds."
   ]
  },
  {
   "cell_type": "code",
   "execution_count": 8,
   "id": "478e4291-b221-4c7b-a405-47e8dde33cf6",
   "metadata": {},
   "outputs": [
    {
     "name": "stdout",
     "output_type": "stream",
     "text": [
      "Fail to reject the null hypothesis. There is no significant evidence that the true mean weight is less than 5 pounds.\n"
     ]
    }
   ],
   "source": [
    "import math\n",
    "\n",
    "def one_sample_t_test(sample_mean, hypothesized_mean, sample_std_dev, sample_size):\n",
    "    standard_error = sample_std_dev / math.sqrt(sample_size)\n",
    "    t_statistic = (sample_mean - hypothesized_mean) / standard_error\n",
    "    return t_statistic\n",
    "\n",
    "# Given data\n",
    "hypothesized_mean = 5\n",
    "sample_mean = 4.8\n",
    "sample_std_dev = 0.5\n",
    "sample_size = 25\n",
    "significance_level = 0.01\n",
    "\n",
    "# Calculate the t-statistic\n",
    "t_statistic = one_sample_t_test(sample_mean, hypothesized_mean, sample_std_dev, sample_size)\n",
    "\n",
    "# Calculate the critical t-value for a one-tailed test with 24 degrees of freedom (n-1)\n",
    "critical_t_value = -2.492  # Obtained from the t-distribution table for alpha = 0.01 and df = 24\n",
    "\n",
    "# Perform the one-tailed test\n",
    "if t_statistic < critical_t_value:\n",
    "    print(\"Reject the null hypothesis. The true mean weight of the products is less than 5 pounds.\")\n",
    "else:\n",
    "    print(\"Fail to reject the null hypothesis. There is no significant evidence that the true mean weight is less than 5 pounds.\")\n"
   ]
  },
  {
   "cell_type": "markdown",
   "id": "209eaf4f-7750-49b6-b2d0-cc904d86244a",
   "metadata": {},
   "source": [
    "## Q16. Two groups of students are given different study materials to prepare for a test. The first group (n1 =30) has a mean score of 80 with a standard deviation of 10, and the second group (n2 = 40) has a mean score of 75 with a standard deviation of 8. Test the hypothesis that the population means for the two groups are equal with a significance level of 0.01."
   ]
  },
  {
   "cell_type": "markdown",
   "id": "38d2772b-0cbe-4b77-90ed-116f3bee7827",
   "metadata": {},
   "source": [
    "To test the hypothesis that the population means for the two groups are equal, we can perform a two-sample t-test for independent samples. The null hypothesis (H0) is that there is no significant difference between the population means of the two groups. The alternative hypothesis (Ha) is that there is a significant difference between the population means of the two groups."
   ]
  },
  {
   "cell_type": "code",
   "execution_count": 9,
   "id": "b8d1137e-193b-42b5-bacf-c3ab3a061bef",
   "metadata": {},
   "outputs": [
    {
     "name": "stdout",
     "output_type": "stream",
     "text": [
      "Fail to reject the null hypothesis. There is no significant difference between the population means of the two groups.\n"
     ]
    }
   ],
   "source": [
    "import math\n",
    "\n",
    "def two_sample_t_test(sample_mean1, sample_mean2, sample_std_dev1, sample_std_dev2, sample_size1, sample_size2):\n",
    "    pooled_standard_error = math.sqrt((sample_std_dev1**2 / sample_size1) + (sample_std_dev2**2 / sample_size2))\n",
    "    t_statistic = (sample_mean1 - sample_mean2) / pooled_standard_error\n",
    "    return t_statistic\n",
    "\n",
    "# Given data for Group 1\n",
    "sample_mean1 = 80\n",
    "sample_std_dev1 = 10\n",
    "sample_size1 = 30\n",
    "\n",
    "# Given data for Group 2\n",
    "sample_mean2 = 75\n",
    "sample_std_dev2 = 8\n",
    "sample_size2 = 40\n",
    "\n",
    "# Significance level\n",
    "significance_level = 0.01\n",
    "\n",
    "# Calculate the t-statistic\n",
    "t_statistic = two_sample_t_test(sample_mean1, sample_mean2, sample_std_dev1, sample_std_dev2, sample_size1, sample_size2)\n",
    "\n",
    "# Calculate the critical t-value for a two-tailed test with degrees of freedom (df) calculated using the formula:\n",
    "# df = (s1^2/n1 + s2^2/n2)^2 / ((s1^2/n1)^2/(n1-1) + (s2^2/n2)^2/(n2-1))\n",
    "df = ((sample_std_dev1**2 / sample_size1) + (sample_std_dev2**2 / sample_size2))**2 / (((sample_std_dev1**2 / sample_size1)**2) / (sample_size1 - 1) + ((sample_std_dev2**2 / sample_size2)**2) / (sample_size2 - 1))\n",
    "critical_t_value = 2.624  # Obtained from the t-distribution table for alpha = 0.01 and df ≈ 65\n",
    "\n",
    "# Perform the two-tailed test\n",
    "if abs(t_statistic) > critical_t_value:\n",
    "    print(\"Reject the null hypothesis. There is a significant difference between the population means of the two groups.\")\n",
    "else:\n",
    "    print(\"Fail to reject the null hypothesis. There is no significant difference between the population means of the two groups.\")\n"
   ]
  },
  {
   "cell_type": "markdown",
   "id": "aa4317fc-64c3-4c29-873f-7db037fafd84",
   "metadata": {},
   "source": [
    "## Q17. A marketing company wants to estimate the average number of ads watched by viewers during a TV program. They take a random sample of 50 viewers and find that the sample mean is 4 with a standard deviation of 1.5. Estimate the population mean with a 99% confidence interval."
   ]
  },
  {
   "cell_type": "code",
   "execution_count": 10,
   "id": "fb19ded4-3378-42c6-80ca-ddf5178fca6e",
   "metadata": {},
   "outputs": [
    {
     "name": "stdout",
     "output_type": "stream",
     "text": [
      "Population mean revenue estimate: $4.00\n",
      "95% Confidence Interval: ($3.57, $4.43)\n"
     ]
    }
   ],
   "source": [
    "import math\n",
    "\n",
    "def calculate_confidence_interval(sample_mean, sample_std_dev, sample_size, confidence_level=0.95):\n",
    "    critical_value = 2.009  # For 95% confidence level and 49 degrees of freedom\n",
    "    margin_of_error = critical_value * (sample_std_dev / math.sqrt(sample_size))\n",
    "    lower_bound = sample_mean - margin_of_error\n",
    "    upper_bound = sample_mean + margin_of_error\n",
    "    return lower_bound, upper_bound\n",
    "\n",
    "# Given data\n",
    "sample_mean = 4\n",
    "sample_std_dev = 1.5\n",
    "sample_size = 50\n",
    "confidence_level = 0.99\n",
    "\n",
    "# Calculate the confidence interval\n",
    "lower_bound, upper_bound = calculate_confidence_interval(sample_mean, sample_std_dev, sample_size, confidence_level)\n",
    "\n",
    "# Print the results\n",
    "print(f\"Population mean revenue estimate: ${sample_mean:.2f}\")\n",
    "print(f\"95% Confidence Interval: (${lower_bound:.2f}, ${upper_bound:.2f})\")"
   ]
  }
 ],
 "metadata": {
  "kernelspec": {
   "display_name": "Python 3 (ipykernel)",
   "language": "python",
   "name": "python3"
  },
  "language_info": {
   "codemirror_mode": {
    "name": "ipython",
    "version": 3
   },
   "file_extension": ".py",
   "mimetype": "text/x-python",
   "name": "python",
   "nbconvert_exporter": "python",
   "pygments_lexer": "ipython3",
   "version": "3.10.9"
  }
 },
 "nbformat": 4,
 "nbformat_minor": 5
}
