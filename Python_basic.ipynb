{
 "cells": [
  {
   "cell_type": "markdown",
   "id": "7f0a5cdc-4bb7-45ac-8674-1f59de54551e",
   "metadata": {},
   "source": [
    "### Q1. Create one variable containing following type of data:\n",
    "### (i) string\n",
    "### (ii) list\n",
    "### (iii) float\n",
    "### (iv) tuple"
   ]
  },
  {
   "cell_type": "code",
   "execution_count": 1,
   "id": "bd9c7941-13f3-482e-b097-16281e1baae5",
   "metadata": {},
   "outputs": [],
   "source": [
    "# (i) string\n",
    "string_var = \"Hello, World!\"\n",
    "\n",
    "# (ii) list\n",
    "list_var = [1, 2, 3, 4, 5]\n",
    "\n",
    "# (iii) float\n",
    "float_var = 3.14\n",
    "\n",
    "# (iv) tuple\n",
    "tuple_var = (10, 20, 30)\n"
   ]
  },
  {
   "cell_type": "markdown",
   "id": "71679b23-225c-49c6-afce-dc7d294285bc",
   "metadata": {},
   "source": [
    "### Q2. Given are some following variables containing data:\n",
    "### (i) var1 = ‘ ‘\n",
    "### (ii) var2 = ‘[ DS , ML , Python]’\n",
    "### (iii) var3 = [ ‘DS’ , ’ML’ , ‘Python’ ]\n",
    "### (iv) var4 = 1.\n",
    "### What will be datatype of these"
   ]
  },
  {
   "cell_type": "code",
   "execution_count": 8,
   "id": "0f36c3ce-19d9-4c4a-8ba1-dd57cbd56864",
   "metadata": {},
   "outputs": [],
   "source": [
    "var1 = ' '# It is a string with a single space character\n",
    "type_var1 = type(var1)  # <class 'str'>\n",
    "\n",
    "var2 = '[DS , ML , Python]' # It is a string with spaces and characters that resemble a list, but it's a string\n",
    "type_var2 = type(var2)  # <class 'str'>\n",
    "\n",
    "var3 = [ 'DS' , 'ML' , 'Python' ]# It is a list of strings\n",
    "type_var3 = type(var3)  # <class 'list'>\n",
    "\n",
    "var4 = 1# It is a float\n",
    "type_var4 = type(var4)  # <class 'float'>\n"
   ]
  },
  {
   "cell_type": "markdown",
   "id": "a3368f65-1cf7-44e9-bcc9-afaba817a233",
   "metadata": {},
   "source": [
    "### Q3. Explain the use of the following operators using an example:\n",
    "### (i) / (ii) % (iii) // (iv) **"
   ]
  },
  {
   "cell_type": "code",
   "execution_count": 9,
   "id": "636ac8b7-7f5b-4637-8bb9-c95c386bf5df",
   "metadata": {},
   "outputs": [
    {
     "name": "stdout",
     "output_type": "stream",
     "text": [
      "3.3333333333333335\n"
     ]
    }
   ],
   "source": [
    "result = 10 / 3\n",
    "print(result)  # Output: 3.3333333333333335\n"
   ]
  },
  {
   "cell_type": "code",
   "execution_count": 10,
   "id": "6d7f08c5-b77d-4a78-b982-bcec04ba1818",
   "metadata": {},
   "outputs": [
    {
     "name": "stdout",
     "output_type": "stream",
     "text": [
      "1\n"
     ]
    }
   ],
   "source": [
    "remainder = 10 % 3\n",
    "print(remainder)  # Output: 1 (remainder of 10 divided by 3)\n"
   ]
  },
  {
   "cell_type": "code",
   "execution_count": 11,
   "id": "003e9470-2d3f-4e56-b576-eb711048f264",
   "metadata": {},
   "outputs": [
    {
     "name": "stdout",
     "output_type": "stream",
     "text": [
      "3\n"
     ]
    }
   ],
   "source": [
    "quotient = 10 // 3\n",
    "print(quotient)  # Output: 3 (integer division of 10 by 3)\n"
   ]
  },
  {
   "cell_type": "code",
   "execution_count": 12,
   "id": "edb1970c-efbd-4fde-a157-497f3236a819",
   "metadata": {},
   "outputs": [
    {
     "name": "stdout",
     "output_type": "stream",
     "text": [
      "8\n"
     ]
    }
   ],
   "source": [
    "power = 2 ** 3\n",
    "print(power)  # Output: 8 (2 raised to the power of 3)\n"
   ]
  },
  {
   "cell_type": "markdown",
   "id": "f02c8d20-84f4-4465-80b7-dda915882c21",
   "metadata": {},
   "source": [
    "### Q4. Create a list of length 10 of your choice containing multiple types of data. Using for loop print the element and its data type."
   ]
  },
  {
   "cell_type": "code",
   "execution_count": 13,
   "id": "0b516eb2-8c67-464f-824a-63f187770ab7",
   "metadata": {},
   "outputs": [
    {
     "name": "stdout",
     "output_type": "stream",
     "text": [
      "Element: 10, Type: <class 'int'>\n",
      "Element: hello, Type: <class 'str'>\n",
      "Element: 3.14, Type: <class 'float'>\n",
      "Element: True, Type: <class 'bool'>\n",
      "Element: [1, 2, 3], Type: <class 'list'>\n",
      "Element: (4, 5), Type: <class 'tuple'>\n",
      "Element: {'a': 1, 'b': 2}, Type: <class 'dict'>\n",
      "Element: None, Type: <class 'NoneType'>\n",
      "Element: False, Type: <class 'bool'>\n",
      "Element: world, Type: <class 'str'>\n"
     ]
    }
   ],
   "source": [
    "my_list = [10, \"hello\", 3.14, True, [1, 2, 3], (4, 5), {'a': 1, 'b': 2}, None, False, \"world\"]\n",
    "\n",
    "for element in my_list:\n",
    "    print(f\"Element: {element}, Type: {type(element)}\")\n"
   ]
  },
  {
   "cell_type": "markdown",
   "id": "07b80804-b064-4d01-b719-b70fdb4c33cc",
   "metadata": {},
   "source": [
    "### Q5. Using a while loop, verify if the number A is purely divisible by number B and if so then how many times it can be divisible."
   ]
  },
  {
   "cell_type": "code",
   "execution_count": 14,
   "id": "295cec53-7cd6-4c44-8fd5-dd714e3edd8d",
   "metadata": {},
   "outputs": [
    {
     "name": "stdout",
     "output_type": "stream",
     "text": [
      "A was divisible 1 times by B.\n"
     ]
    }
   ],
   "source": [
    "A = 36\n",
    "B = 4\n",
    "\n",
    "count = 0\n",
    "while A % B == 0:\n",
    "    A = A // B\n",
    "    count += 1\n",
    "\n",
    "print(f\"A was divisible {count} times by B.\")\n"
   ]
  },
  {
   "cell_type": "markdown",
   "id": "9f6093bf-a70b-4814-9ea6-87e5c7001016",
   "metadata": {},
   "source": [
    "### Q6. Create a list containing 25 int type data. Using for loop and if-else condition print if the element is divisible by 3 or not."
   ]
  },
  {
   "cell_type": "code",
   "execution_count": 15,
   "id": "43be569d-026e-4802-b35f-3355c9a10448",
   "metadata": {},
   "outputs": [
    {
     "name": "stdout",
     "output_type": "stream",
     "text": [
      "1 is not divisible by 3\n",
      "2 is not divisible by 3\n",
      "3 is divisible by 3\n",
      "4 is not divisible by 3\n",
      "5 is not divisible by 3\n",
      "6 is divisible by 3\n",
      "7 is not divisible by 3\n",
      "8 is not divisible by 3\n",
      "9 is divisible by 3\n",
      "10 is not divisible by 3\n",
      "11 is not divisible by 3\n",
      "12 is divisible by 3\n",
      "13 is not divisible by 3\n",
      "14 is not divisible by 3\n",
      "15 is divisible by 3\n",
      "16 is not divisible by 3\n",
      "17 is not divisible by 3\n",
      "18 is divisible by 3\n",
      "19 is not divisible by 3\n",
      "20 is not divisible by 3\n",
      "21 is divisible by 3\n",
      "22 is not divisible by 3\n",
      "23 is not divisible by 3\n",
      "24 is divisible by 3\n",
      "25 is not divisible by 3\n"
     ]
    }
   ],
   "source": [
    "int_list = list(range(1, 26))\n",
    "\n",
    "for num in int_list:\n",
    "    if num % 3 == 0:\n",
    "        print(f\"{num} is divisible by 3\")\n",
    "    else:\n",
    "        print(f\"{num} is not divisible by 3\")\n"
   ]
  },
  {
   "cell_type": "markdown",
   "id": "144c92d7-daa0-4c1b-ad2f-c00f534643be",
   "metadata": {},
   "source": [
    "### Q7. What do you understand about mutable and immutable data types? Give examples for both showing this property.\n",
    "\n"
   ]
  },
  {
   "cell_type": "code",
   "execution_count": 16,
   "id": "e7267adb-235f-41fd-afef-6e52344b2c3a",
   "metadata": {},
   "outputs": [
    {
     "name": "stdout",
     "output_type": "stream",
     "text": [
      "[10, 2, 3]\n"
     ]
    }
   ],
   "source": [
    "## Mutable \n",
    "my_list = [1, 2, 3]\n",
    "my_list[0] = 10\n",
    "print(my_list)  # Output: [10, 2, 3]\n"
   ]
  },
  {
   "cell_type": "code",
   "execution_count": 17,
   "id": "cbfd3287-ec4f-446e-9f5c-64777d6b8756",
   "metadata": {},
   "outputs": [
    {
     "ename": "TypeError",
     "evalue": "'tuple' object does not support item assignment",
     "output_type": "error",
     "traceback": [
      "\u001b[1;31m---------------------------------------------------------------------------\u001b[0m",
      "\u001b[1;31mTypeError\u001b[0m                                 Traceback (most recent call last)",
      "Cell \u001b[1;32mIn[17], line 3\u001b[0m\n\u001b[0;32m      1\u001b[0m \u001b[38;5;66;03m## Immutable \u001b[39;00m\n\u001b[0;32m      2\u001b[0m my_tuple \u001b[38;5;241m=\u001b[39m (\u001b[38;5;241m1\u001b[39m, \u001b[38;5;241m2\u001b[39m, \u001b[38;5;241m3\u001b[39m)\n\u001b[1;32m----> 3\u001b[0m my_tuple[\u001b[38;5;241m0\u001b[39m] \u001b[38;5;241m=\u001b[39m \u001b[38;5;241m10\u001b[39m\n",
      "\u001b[1;31mTypeError\u001b[0m: 'tuple' object does not support item assignment"
     ]
    }
   ],
   "source": [
    "## Immutable \n",
    "my_tuple = (1, 2, 3)\n",
    "my_tuple[0] = 10  # This will raise an error\n"
   ]
  }
 ],
 "metadata": {
  "kernelspec": {
   "display_name": "Python 3 (ipykernel)",
   "language": "python",
   "name": "python3"
  },
  "language_info": {
   "codemirror_mode": {
    "name": "ipython",
    "version": 3
   },
   "file_extension": ".py",
   "mimetype": "text/x-python",
   "name": "python",
   "nbconvert_exporter": "python",
   "pygments_lexer": "ipython3",
   "version": "3.10.9"
  }
 },
 "nbformat": 4,
 "nbformat_minor": 5
}
