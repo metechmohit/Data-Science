{
 "cells": [
  {
   "cell_type": "markdown",
   "id": "eb17a307-57f3-4394-b89f-15f8a1d93aa9",
   "metadata": {},
   "source": [
    "## Q1. Write a Python function that takes in two arrays of data and calculates the F-value for a variance ratiotest. The function should return the F-value and the corresponding p-value for the test."
   ]
  },
  {
   "cell_type": "code",
   "execution_count": 1,
   "id": "b7f1ad42-2b25-4679-b0c0-7a7588d1b337",
   "metadata": {},
   "outputs": [
    {
     "name": "stdout",
     "output_type": "stream",
     "text": [
      "F-value: 1.1924119241192415\n",
      "p-value: 0.3987478265199135\n"
     ]
    }
   ],
   "source": [
    "import numpy as np\n",
    "import scipy.stats as stats\n",
    "\n",
    "def variance_ratio_test(data1, data2):\n",
    "    \"\"\"\n",
    "    Perform an F-test for variances (variance ratio test) between two datasets.\n",
    "    \n",
    "    Parameters:\n",
    "    - data1 (array-like): First dataset.\n",
    "    - data2 (array-like): Second dataset.\n",
    "    \n",
    "    Returns:\n",
    "    - f_value (float): The calculated F-value.\n",
    "    - p_value (float): The corresponding p-value.\n",
    "    \"\"\"\n",
    "    # Calculate the variances of the two datasets\n",
    "    var1 = np.var(data1, ddof=1)  # ddof=1 for sample variance\n",
    "    var2 = np.var(data2, ddof=1)\n",
    "    \n",
    "    # Ensure var1 is the larger variance\n",
    "    if var2 > var1:\n",
    "        var1, var2 = var2, var1  # Swap variances\n",
    "        \n",
    "    # Calculate the F-value\n",
    "    f_value = var1 / var2\n",
    "    \n",
    "    # Calculate the degrees of freedom\n",
    "    df1 = len(data1) - 1  # Degrees of freedom for the first dataset\n",
    "    df2 = len(data2) - 1  # Degrees of freedom for the second dataset\n",
    "    \n",
    "    # Calculate the p-value using the F-distribution\n",
    "    p_value = 1 - stats.f.cdf(f_value, df1, df2)\n",
    "    \n",
    "    return f_value, p_value\n",
    "\n",
    "# Example usage:\n",
    "data1 = [14, 15, 15, 16, 17, 18, 18, 19, 19, 20]\n",
    "data2 = [10, 12, 13, 13, 14, 14, 15, 15, 16, 18]\n",
    "f_value, p_value = variance_ratio_test(data1, data2)\n",
    "print(\"F-value:\", f_value)\n",
    "print(\"p-value:\", p_value)\n"
   ]
  },
  {
   "cell_type": "markdown",
   "id": "319b3779-3830-4bc0-8f4e-49cb07274f2d",
   "metadata": {},
   "source": [
    "## Q2. Given a significance level of 0.05 and the degrees of freedom for the numerator and denominator of an F-distribution, write a Python function that returns the critical F-value for a two-tailed test."
   ]
  },
  {
   "cell_type": "code",
   "execution_count": 2,
   "id": "f8de6760-59c0-4c93-9a2d-6b01db7be154",
   "metadata": {},
   "outputs": [
    {
     "name": "stdout",
     "output_type": "stream",
     "text": [
      "Critical F-value: 3.8586986662732143\n"
     ]
    }
   ],
   "source": [
    "import scipy.stats as stats\n",
    "\n",
    "def critical_f_value(alpha, dfn, dfd):\n",
    "    \"\"\"\n",
    "    Calculate the critical F-value for a two-tailed test given alpha (significance level),\n",
    "    degrees of freedom for the numerator (dfn), and degrees of freedom for the denominator (dfd).\n",
    "\n",
    "    Parameters:\n",
    "    - alpha (float): Significance level (e.g., 0.05 for a 5% significance level).\n",
    "    - dfn (int): Degrees of freedom for the numerator.\n",
    "    - dfd (int): Degrees of freedom for the denominator.\n",
    "\n",
    "    Returns:\n",
    "    - crit_f_value (float): The critical F-value for the given alpha and degrees of freedom.\n",
    "    \"\"\"\n",
    "    # Calculate the critical F-value for a two-tailed test\n",
    "    crit_f_value = stats.f.ppf(1 - alpha / 2, dfn, dfd)\n",
    "    \n",
    "    return crit_f_value\n",
    "\n",
    "# Example usage:\n",
    "alpha = 0.05\n",
    "dfn = 3  # Degrees of freedom for the numerator\n",
    "dfd = 20  # Degrees of freedom for the denominator\n",
    "crit_f = critical_f_value(alpha, dfn, dfd)\n",
    "print(\"Critical F-value:\", crit_f)\n"
   ]
  },
  {
   "cell_type": "markdown",
   "id": "757f0c61-46b3-4117-8b42-8b764f77430d",
   "metadata": {},
   "source": [
    "## Q3. Write a Python program that generates random samples from two normal distributions with known variances and uses an F-test to determine if the variances are equal. The program should output the F- value, degrees of freedom, and p-value for the test."
   ]
  },
  {
   "cell_type": "code",
   "execution_count": 3,
   "id": "6b79fee7-8fda-4ed7-bca0-2433af5a6069",
   "metadata": {},
   "outputs": [
    {
     "name": "stdout",
     "output_type": "stream",
     "text": [
      "F-value: 0.9967443691068945\n",
      "Degrees of freedom (numerator): 29\n",
      "Degrees of freedom (denominator): 39\n",
      "p-value: 0.9938260017624994\n",
      "Fail to reject the null hypothesis: Variances are equal.\n"
     ]
    }
   ],
   "source": [
    "import numpy as np\n",
    "import scipy.stats as stats\n",
    "\n",
    "# Set the random seed for reproducibility\n",
    "np.random.seed(0)\n",
    "\n",
    "# Generate random samples from two normal distributions with known variances\n",
    "variance1 = 5.0  # Known variance for the first distribution\n",
    "variance2 = 8.0  # Known variance for the second distribution\n",
    "sample_size1 = 30  # Sample size for the first distribution\n",
    "sample_size2 = 40  # Sample size for the second distribution\n",
    "\n",
    "# Generate random samples\n",
    "sample1 = np.random.normal(0, np.sqrt(variance1), sample_size1)\n",
    "sample2 = np.random.normal(0, np.sqrt(variance2), sample_size2)\n",
    "\n",
    "# Perform an F-test for equality of variances\n",
    "f_statistic = np.var(sample1, ddof=1) / np.var(sample2, ddof=1)\n",
    "\n",
    "# Degrees of freedom for the numerator and denominator\n",
    "dfn = sample_size1 - 1\n",
    "dfd = sample_size2 - 1\n",
    "\n",
    "# Calculate the p-value\n",
    "p_value = 2 * min(stats.f.cdf(f_statistic, dfn, dfd), 1 - stats.f.cdf(f_statistic, dfn, dfd))\n",
    "\n",
    "# Output the results\n",
    "print(\"F-value:\", f_statistic)\n",
    "print(\"Degrees of freedom (numerator):\", dfn)\n",
    "print(\"Degrees of freedom (denominator):\", dfd)\n",
    "print(\"p-value:\", p_value)\n",
    "\n",
    "# Check if the variances are equal at a specified significance level (e.g., 0.05)\n",
    "alpha = 0.05\n",
    "if p_value < alpha:\n",
    "    print(\"Reject the null hypothesis: Variances are not equal.\")\n",
    "else:\n",
    "    print(\"Fail to reject the null hypothesis: Variances are equal.\")\n"
   ]
  },
  {
   "cell_type": "markdown",
   "id": "73d6b6fd-7ea1-4ecb-b517-09e12423acbe",
   "metadata": {},
   "source": [
    "## Q4.The variances of two populations are known to be 10 and 15. A sample of 12 observations is taken from each population. Conduct an F-test at the 5% significance level to determine if the variances are significantly different."
   ]
  },
  {
   "cell_type": "code",
   "execution_count": 4,
   "id": "656bf6a7-fd30-405d-9960-cab62157a079",
   "metadata": {},
   "outputs": [
    {
     "name": "stdout",
     "output_type": "stream",
     "text": [
      "F-value: 0.6666666666666666\n",
      "Degrees of freedom (numerator): 11\n",
      "Degrees of freedom (denominator): 11\n",
      "p-value: 0.5123897987357996\n",
      "Fail to reject the null hypothesis: Variances are not significantly different.\n"
     ]
    }
   ],
   "source": [
    "import scipy.stats as stats\n",
    "\n",
    "# Known variances for the two populations\n",
    "variance1 = 10\n",
    "variance2 = 15\n",
    "\n",
    "# Sample sizes\n",
    "n1 = 12\n",
    "n2 = 12\n",
    "\n",
    "# Calculate the F-statistic for the F-test\n",
    "f_statistic = variance1 / variance2\n",
    "\n",
    "# Degrees of freedom for the numerator and denominator\n",
    "dfn = n1 - 1\n",
    "dfd = n2 - 1\n",
    "\n",
    "# Calculate the p-value for the F-test\n",
    "p_value = 2 * min(stats.f.cdf(f_statistic, dfn, dfd), 1 - stats.f.cdf(f_statistic, dfn, dfd))\n",
    "\n",
    "# Significance level (alpha)\n",
    "alpha = 0.05\n",
    "\n",
    "# Output the results\n",
    "print(\"F-value:\", f_statistic)\n",
    "print(\"Degrees of freedom (numerator):\", dfn)\n",
    "print(\"Degrees of freedom (denominator):\", dfd)\n",
    "print(\"p-value:\", p_value)\n",
    "\n",
    "# Check if the variances are significantly different\n",
    "if p_value < alpha:\n",
    "    print(\"Reject the null hypothesis: Variances are significantly different.\")\n",
    "else:\n",
    "    print(\"Fail to reject the null hypothesis: Variances are not significantly different.\")\n"
   ]
  },
  {
   "cell_type": "markdown",
   "id": "237a3fde-4ffa-4235-b105-be4991b40052",
   "metadata": {},
   "source": [
    "## Q5. A manufacturer claims that the variance of the diameter of a certain product is 0.005. A sample of 25 products is taken, and the sample variance is found to be 0.006. Conduct an F-test at the 1% significance level to determine if the claim is justified."
   ]
  },
  {
   "cell_type": "code",
   "execution_count": 5,
   "id": "f7597893-2307-4c23-aed7-f0d321108e29",
   "metadata": {},
   "outputs": [
    {
     "name": "stdout",
     "output_type": "stream",
     "text": [
      "F-value: 1.2\n",
      "Degrees of freedom (numerator): 24\n",
      "Degrees of freedom (denominator): 24\n",
      "p-value: 0.6587309365634488\n",
      "Fail to reject the manufacturer's claim: The variance is close to 0.005.\n"
     ]
    }
   ],
   "source": [
    "import scipy.stats as stats\n",
    "\n",
    "# Manufacturer's claim about the variance\n",
    "claim_variance = 0.005\n",
    "\n",
    "# Sample variance\n",
    "sample_variance = 0.006\n",
    "\n",
    "# Sample size\n",
    "n = 25\n",
    "\n",
    "# Degrees of freedom for the numerator and denominator\n",
    "dfn = n - 1\n",
    "dfd = n - 1\n",
    "\n",
    "# Calculate the F-statistic for the F-test\n",
    "f_statistic = sample_variance / claim_variance\n",
    "\n",
    "# Calculate the p-value for the F-test\n",
    "p_value = 2 * min(stats.f.cdf(f_statistic, dfn, dfd), 1 - stats.f.cdf(f_statistic, dfn, dfd))\n",
    "\n",
    "# Significance level (alpha)\n",
    "alpha = 0.01  # 1% significance level\n",
    "\n",
    "# Output the results\n",
    "print(\"F-value:\", f_statistic)\n",
    "print(\"Degrees of freedom (numerator):\", dfn)\n",
    "print(\"Degrees of freedom (denominator):\", dfd)\n",
    "print(\"p-value:\", p_value)\n",
    "\n",
    "# Check if the claim is justified\n",
    "if p_value < alpha:\n",
    "    print(\"Reject the manufacturer's claim: The variance is not 0.005.\")\n",
    "else:\n",
    "    print(\"Fail to reject the manufacturer's claim: The variance is close to 0.005.\")\n"
   ]
  },
  {
   "cell_type": "markdown",
   "id": "4ea019e3-4a6a-445f-bf2c-728a07eeb4e1",
   "metadata": {},
   "source": [
    "## Q6. Write a Python function that takes in the degrees of freedom for the numerator and denominator of an F-distribution and calculates the mean and variance of the distribution. The function should return the mean and variance as a tuple."
   ]
  },
  {
   "cell_type": "code",
   "execution_count": 6,
   "id": "44f81eed-4079-4a8f-bad0-0f1e2df1d9ca",
   "metadata": {},
   "outputs": [
    {
     "name": "stdout",
     "output_type": "stream",
     "text": [
      "Mean: 1.25\n",
      "Variance: 1.3541666666666667\n"
     ]
    }
   ],
   "source": [
    "def f_distribution_mean_variance(dfn, dfd):\n",
    "    \"\"\"\n",
    "    Calculate the mean and variance of an F-distribution.\n",
    "\n",
    "    Parameters:\n",
    "    - dfn (int): Degrees of freedom for the numerator.\n",
    "    - dfd (int): Degrees of freedom for the denominator.\n",
    "\n",
    "    Returns:\n",
    "    - mean (float): Mean of the F-distribution.\n",
    "    - variance (float): Variance of the F-distribution.\n",
    "    \"\"\"\n",
    "    if dfn <= 0 or dfd <= 0:\n",
    "        raise ValueError(\"Degrees of freedom must be positive integers.\")\n",
    "\n",
    "    if dfd == 1:\n",
    "        # F-distribution with dfd = 1 is undefined for variance\n",
    "        return dfn / (dfn - 2), None\n",
    "\n",
    "    if dfn == 2:\n",
    "        # F-distribution with dfn = 2 has infinite variance\n",
    "        return dfd / (dfd - 2), float(\"inf\")\n",
    "\n",
    "    mean = dfd / (dfd - 2)\n",
    "    variance = (2 * (dfd**2) * (dfn + dfd - 2)) / (dfn * (dfd - 2)**2 * (dfd - 4))\n",
    "\n",
    "    return mean, variance\n",
    "\n",
    "# Example usage:\n",
    "dfn = 5  # Degrees of freedom for the numerator\n",
    "dfd = 10  # Degrees of freedom for the denominator\n",
    "mean, variance = f_distribution_mean_variance(dfn, dfd)\n",
    "print(\"Mean:\", mean)\n",
    "print(\"Variance:\", variance)\n"
   ]
  },
  {
   "cell_type": "markdown",
   "id": "88db4825-d597-4e06-800a-c7be426573fd",
   "metadata": {},
   "source": [
    "## Q7. A random sample of 10 measurements is taken from a normal population with unknown variance. The sample variance is found to be 25. Another random sample of 15 measurements is taken from another normal population with unknown variance, and the sample variance is found to be 20. Conduct an F-test at the 10% significance level to determine if the variances are significantly different."
   ]
  },
  {
   "cell_type": "code",
   "execution_count": 7,
   "id": "31824717-13b5-49a2-b44e-13cf37840b16",
   "metadata": {},
   "outputs": [
    {
     "name": "stdout",
     "output_type": "stream",
     "text": [
      "F-value: 1.25\n",
      "Degrees of freedom (numerator): 9\n",
      "Degrees of freedom (denominator): 14\n",
      "p-value: 0.6832194382585954\n",
      "Fail to reject the null hypothesis: Variances are equal.\n"
     ]
    }
   ],
   "source": [
    "import scipy.stats as stats\n",
    "\n",
    "# Sample variances\n",
    "sample_variance1 = 25\n",
    "sample_variance2 = 20\n",
    "\n",
    "# Sample sizes\n",
    "n1 = 10\n",
    "n2 = 15\n",
    "\n",
    "# Degrees of freedom for the numerator and denominator\n",
    "dfn1 = n1 - 1\n",
    "dfn2 = n2 - 1\n",
    "\n",
    "# Calculate the F-statistic for the F-test\n",
    "f_statistic = sample_variance1 / sample_variance2\n",
    "\n",
    "# Calculate the p-value for the F-test\n",
    "p_value = 2 * min(stats.f.cdf(f_statistic, dfn1, dfn2), 1 - stats.f.cdf(f_statistic, dfn1, dfn2))\n",
    "\n",
    "# Significance level (alpha)\n",
    "alpha = 0.10  # 10% significance level\n",
    "\n",
    "# Output the results\n",
    "print(\"F-value:\", f_statistic)\n",
    "print(\"Degrees of freedom (numerator):\", dfn1)\n",
    "print(\"Degrees of freedom (denominator):\", dfn2)\n",
    "print(\"p-value:\", p_value)\n",
    "\n",
    "# Check if the variances are significantly different\n",
    "if p_value < alpha:\n",
    "    print(\"Reject the null hypothesis: Variances are not equal.\")\n",
    "else:\n",
    "    print(\"Fail to reject the null hypothesis: Variances are equal.\")\n"
   ]
  },
  {
   "cell_type": "markdown",
   "id": "6bf6f7f4-b712-4f7b-869c-13a8940c6ea0",
   "metadata": {},
   "source": [
    "## Q8. The following data represent the waiting times in minutes at two different restaurants on a Saturday night: Restaurant A: 24, 25, 28, 23, 22, 20, 27; Restaurant B: 31, 33, 35, 30, 32, 36. Conduct an F-test at the 5% significance level to determine if the variances are significantly different."
   ]
  },
  {
   "cell_type": "code",
   "execution_count": 8,
   "id": "792b9e8a-d599-4bab-8781-07d868ede939",
   "metadata": {},
   "outputs": [
    {
     "name": "stdout",
     "output_type": "stream",
     "text": [
      "F-value: 1.4551907719609583\n",
      "Degrees of freedom (numerator): 6\n",
      "Degrees of freedom (denominator): 5\n",
      "p-value: 0.6974815747937484\n",
      "Fail to reject the null hypothesis: Variances are equal.\n"
     ]
    }
   ],
   "source": [
    "import scipy.stats as stats\n",
    "\n",
    "# Waiting times data for Restaurant A and Restaurant B\n",
    "waiting_times_A = [24, 25, 28, 23, 22, 20, 27]\n",
    "waiting_times_B = [31, 33, 35, 30, 32, 36]\n",
    "\n",
    "# Sample variances\n",
    "sample_variance_A = sum((x - sum(waiting_times_A) / len(waiting_times_A))**2 for x in waiting_times_A) / (len(waiting_times_A) - 1)\n",
    "sample_variance_B = sum((x - sum(waiting_times_B) / len(waiting_times_B))**2 for x in waiting_times_B) / (len(waiting_times_B) - 1)\n",
    "\n",
    "# Sample sizes\n",
    "n_A = len(waiting_times_A)\n",
    "n_B = len(waiting_times_B)\n",
    "\n",
    "# Degrees of freedom for the numerator and denominator\n",
    "dfn_A = n_A - 1\n",
    "dfn_B = n_B - 1\n",
    "\n",
    "# Calculate the F-statistic for the F-test\n",
    "f_statistic = sample_variance_A / sample_variance_B\n",
    "\n",
    "# Calculate the p-value for the F-test\n",
    "p_value = 2 * min(stats.f.cdf(f_statistic, dfn_A, dfn_B), 1 - stats.f.cdf(f_statistic, dfn_A, dfn_B))\n",
    "\n",
    "# Significance level (alpha)\n",
    "alpha = 0.05  # 5% significance level\n",
    "\n",
    "# Output the results\n",
    "print(\"F-value:\", f_statistic)\n",
    "print(\"Degrees of freedom (numerator):\", dfn_A)\n",
    "print(\"Degrees of freedom (denominator):\", dfn_B)\n",
    "print(\"p-value:\", p_value)\n",
    "\n",
    "# Check if the variances are significantly different\n",
    "if p_value < alpha:\n",
    "    print(\"Reject the null hypothesis: Variances are not equal.\")\n",
    "else:\n",
    "    print(\"Fail to reject the null hypothesis: Variances are equal.\")\n"
   ]
  },
  {
   "cell_type": "markdown",
   "id": "391ccd62-5cfa-4a8e-b350-9ae666e3aed5",
   "metadata": {},
   "source": [
    "## Q9. The following data represent the test scores of two groups of students: Group A: 80, 85, 90, 92, 87, 83; Group B: 75, 78, 82, 79, 81, 84. Conduct an F-test at the 1% significance level to determine if the variances are significantly different."
   ]
  },
  {
   "cell_type": "code",
   "execution_count": 9,
   "id": "635233fb-1018-4eca-8452-e8d06a67768d",
   "metadata": {},
   "outputs": [
    {
     "name": "stdout",
     "output_type": "stream",
     "text": [
      "F-value: 1.9442622950819677\n",
      "Degrees of freedom (numerator): 5\n",
      "Degrees of freedom (denominator): 5\n",
      "p-value: 0.4831043549070688\n",
      "Fail to reject the null hypothesis: Variances are equal.\n"
     ]
    }
   ],
   "source": [
    "import scipy.stats as stats\n",
    "\n",
    "# Test scores data for Group A and Group B\n",
    "test_scores_A = [80, 85, 90, 92, 87, 83]\n",
    "test_scores_B = [75, 78, 82, 79, 81, 84]\n",
    "\n",
    "# Sample variances\n",
    "sample_variance_A = sum((x - sum(test_scores_A) / len(test_scores_A))**2 for x in test_scores_A) / (len(test_scores_A) - 1)\n",
    "sample_variance_B = sum((x - sum(test_scores_B) / len(test_scores_B))**2 for x in test_scores_B) / (len(test_scores_B) - 1)\n",
    "\n",
    "# Sample sizes\n",
    "n_A = len(test_scores_A)\n",
    "n_B = len(test_scores_B)\n",
    "\n",
    "# Degrees of freedom for the numerator and denominator\n",
    "dfn_A = n_A - 1\n",
    "dfn_B = n_B - 1\n",
    "\n",
    "# Calculate the F-statistic for the F-test\n",
    "f_statistic = sample_variance_A / sample_variance_B\n",
    "\n",
    "# Calculate the p-value for the F-test\n",
    "p_value = 2 * min(stats.f.cdf(f_statistic, dfn_A, dfn_B), 1 - stats.f.cdf(f_statistic, dfn_A, dfn_B))\n",
    "\n",
    "# Significance level (alpha)\n",
    "alpha = 0.01  # 1% significance level\n",
    "\n",
    "# Output the results\n",
    "print(\"F-value:\", f_statistic)\n",
    "print(\"Degrees of freedom (numerator):\", dfn_A)\n",
    "print(\"Degrees of freedom (denominator):\", dfn_B)\n",
    "print(\"p-value:\", p_value)\n",
    "\n",
    "# Check if the variances are significantly different\n",
    "if p_value < alpha:\n",
    "    print(\"Reject the null hypothesis: Variances are not equal.\")\n",
    "else:\n",
    "    print(\"Fail to reject the null hypothesis: Variances are equal.\")\n"
   ]
  }
 ],
 "metadata": {
  "kernelspec": {
   "display_name": "Python 3 (ipykernel)",
   "language": "python",
   "name": "python3"
  },
  "language_info": {
   "codemirror_mode": {
    "name": "ipython",
    "version": 3
   },
   "file_extension": ".py",
   "mimetype": "text/x-python",
   "name": "python",
   "nbconvert_exporter": "python",
   "pygments_lexer": "ipython3",
   "version": "3.10.9"
  }
 },
 "nbformat": 4,
 "nbformat_minor": 5
}
