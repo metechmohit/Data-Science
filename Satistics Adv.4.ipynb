{
 "cells": [
  {
   "cell_type": "markdown",
   "id": "7bc5b93e-2422-4bcc-b8dc-7636f624cbcd",
   "metadata": {},
   "source": [
    "## Q1: What is the difference between a t-test and a z-test? Provide an example scenario where you would use each type of test."
   ]
  },
  {
   "cell_type": "markdown",
   "id": "54bd9a79-da11-47c1-a29a-bb247d43b478",
   "metadata": {},
   "source": [
    "Both t-tests and z-tests are statistical hypothesis tests used to make inferences about population parameters based on sample data. They are commonly used in various fields of research and data analysis.\n",
    "\n",
    "**1. T-Test:**\n",
    "The t-test is used when you are working with a small sample size (typically less than 30) and the population standard deviation is unknown. It accounts for the variability in the sample data by using the sample standard deviation. There are different variations of the t-test, such as the one-sample t-test, two-sample t-test, and paired t-test.\n",
    "\n",
    "**Example Scenario for T-Test:**\n",
    "Imagine you're studying the effect of a new drug on blood pressure. You have a small sample of 20 patients, and you want to determine if the drug has a significant impact on reducing blood pressure compared to a control group. Since the population standard deviation of blood pressure is unknown, you would use a two-sample independent t-test to compare the means of the two groups.\n",
    "\n",
    "**2. Z-Test:**\n",
    "The z-test is used when you have a larger sample size (typically greater than 30) and either the population standard deviation is known or the sample size is large enough for the Central Limit Theorem to apply, making the sample mean distribution approximately normal. Z-tests are often used for testing hypotheses about the population mean.\n",
    "\n",
    "**Example Scenario for Z-Test:**\n",
    "Suppose you work for an online retail company and you want to determine if a recent website redesign has led to a significant increase in the average time customers spend on the website per visit. You collect a large sample of 500 website visit durations before and after the redesign. In this case, if you know the population standard deviation of visit durations or can reasonably assume that the sample mean distribution is approximately normal due to the large sample size, you would use a z-test to compare the means of the two time periods.\n",
    "\n",
    "In summary, if the sample size is small and/or the population standard deviation is unknown, use a t-test. If the sample size is large and/or the population standard deviation is known or assumed to be normal due to a large sample size, use a z-test."
   ]
  },
  {
   "cell_type": "markdown",
   "id": "ad28e6b7-2980-4229-81a6-3ea69a440e0d",
   "metadata": {},
   "source": [
    "## Q2: Differentiate between one-tailed and two-tailed tests."
   ]
  },
  {
   "cell_type": "markdown",
   "id": "77d4155a-a201-402f-b44b-258d78c8ce22",
   "metadata": {},
   "source": [
    "One-tailed and two-tailed tests are concepts related to hypothesis testing in statistics. They dictate the directionality of the statistical test and help you decide whether to reject or fail to reject the null hypothesis based on the sample data.\n",
    "\n",
    "**1. One-Tailed Test:**\n",
    "In a one-tailed test (also known as a directional test), the alternative hypothesis is formulated to test for a change or effect in a specific direction. The critical region for the test is concentrated in only one tail of the probability distribution, either the right tail or the left tail, depending on the specific hypothesis being tested.\n",
    "\n",
    "**Example:**\n",
    "Suppose a company claims that their new advertising campaign has increased product sales. You want to test this claim. The null hypothesis (H0) might be that the advertising campaign has no effect on sales, and the alternative hypothesis (Ha) could be that the advertising campaign has increased sales. In this case, you would use a one-tailed test in the right tail of the distribution to assess whether the data supports the claim of an increase in sales.\n",
    "\n",
    "**2. Two-Tailed Test:**\n",
    "In a two-tailed test (also known as a non-directional test), the alternative hypothesis is formulated to test for a change or effect in any direction. The critical region for the test is divided between both tails of the probability distribution, allowing for the possibility of observing extreme values in either direction.\n",
    "\n",
    "**Example:**\n",
    "Consider a scenario where a manufacturer claims that a new manufacturing process has changed the average weight of their products, but they don't specify whether it has increased or decreased. The null hypothesis (H0) might be that the manufacturing process has not changed the average weight, and the alternative hypothesis (Ha) could be that the manufacturing process has led to a change in average weight. In this case, you would use a two-tailed test to assess whether the data supports the claim of a change in either direction.\n",
    "\n",
    "In summary, the choice between a one-tailed and a two-tailed test depends on the specific hypothesis you're testing and the directionality of the effect you're interested in. If you're specifically testing for an effect in one direction, use a one-tailed test. If you're testing for a change in any direction, use a two-tailed test."
   ]
  },
  {
   "cell_type": "markdown",
   "id": "ac0a7d94-f289-43e2-b358-aca0c2f8fe3e",
   "metadata": {},
   "source": [
    "## Q3: Explain the concept of Type 1 and Type 2 errors in hypothesis testing. Provide an example scenario for each type of error."
   ]
  },
  {
   "cell_type": "markdown",
   "id": "790bb389-a389-4693-ba81-3577941ee642",
   "metadata": {},
   "source": [
    "**Type 1 Error (False Positive):**\n",
    "A Type 1 error occurs when you incorrectly reject a true null hypothesis. In other words, you conclude that there is a significant effect or difference when, in reality, there isn't one. This error is also known as a false positive.\n",
    "\n",
    "**Example Scenario - Type 1 Error:**\n",
    "Let's say you're conducting a clinical trial to test the effectiveness of a new drug in treating a certain medical condition. The null hypothesis (H0) states that the drug has no effect on the condition. After analyzing the data, you find statistical significance and reject the null hypothesis, concluding that the drug is effective. However, in reality, the drug doesn't actually have any effect on the condition. This is a Type 1 error because you incorrectly rejected a true null hypothesis.\n",
    "\n",
    "**Type 2 Error (False Negative):**\n",
    "A Type 2 error occurs when you fail to reject a false null hypothesis. In other words, you conclude that there is no significant effect or difference when, in reality, there is one. This error is also known as a false negative.\n",
    "\n",
    "**Example Scenario - Type 2 Error:**\n",
    "Continuing with the clinical trial example, suppose the null hypothesis (H0) is that the new drug is effective in treating the medical condition. However, in reality, the drug does have a positive effect, but it's not detected in your analysis. You fail to reject the null hypothesis and conclude that the drug has no effect, even though it actually does. This is a Type 2 error because you failed to detect a true effect.\n",
    "\n",
    "In summary:\n",
    "\n",
    "- **Type 1 Error (False Positive):** You reject a true null hypothesis.\n",
    "- **Type 2 Error (False Negative):** You fail to reject a false null hypothesis.\n",
    "\n",
    "Both types of errors are inherent in hypothesis testing and are affected by factors such as sample size, significance level, and the strength of the effect being tested. The balance between these two types of errors is often controlled by choosing an appropriate significance level (alpha) for the test. Reducing the probability of one type of error generally increases the probability of the other type. Researchers aim to strike a balance based on the consequences of making each type of error in a given context."
   ]
  },
  {
   "cell_type": "markdown",
   "id": "d643cd4f-368a-4fc1-ad3f-7cab8fa12e59",
   "metadata": {},
   "source": [
    "## Q4: Explain Bayes's theorem with an example."
   ]
  },
  {
   "cell_type": "markdown",
   "id": "a14dfaaf-5282-4b18-9a7b-3c543d751c37",
   "metadata": {},
   "source": [
    "Bayes's theorem is a fundamental concept in probability theory and statistics that describes how to update the probability of a hypothesis based on new evidence. The theorem is especially useful when dealing with conditional probabilities, where the probability of an event depends on the occurrence of another event.\n",
    "\n",
    "Bayes's theorem is typically expressed as:\n",
    "\n",
    "P(A|B) = {P(B|A)* P(A)}/P(B) \n",
    "\n",
    "Where:\n",
    "- P(A|B) is the probability of event A given that event B has occurred (posterior probability).\n",
    "- P(B|A) is the probability of event B given that event A has occurred (likelihood).\n",
    "- P(A) is the prior probability of event A.\n",
    "- P(B) is the probability of event B.\n",
    "\n",
    "**Example: Medical Testing**\n",
    "\n",
    "Let's use an example to illustrate Bayes's theorem. Suppose we have a medical test for a rare disease. The test is not perfect and can sometimes give false positive results. We want to determine the probability that a person actually has the disease given that they tested positive.\n",
    "\n",
    "- A: The person has the disease.\n",
    "- B: The person tests positive.\n",
    "\n",
    "We are given the following information:\n",
    "\n",
    "- The actual prevalence of the disease in the population: P(A) = 0.01 (1% of the population has the disease).\n",
    "- The sensitivity of the test (probability of testing positive given the person has the disease): P(B|A) = 0.95.\n",
    "- The specificity of the test (probability of testing negative given the person does not have the disease): P(-B|-A) = 0.90  (complement of sensitivity).\n",
    "\n",
    "We want to find P(A|B)  the probability that the person actually has the disease given that they tested positive.\n",
    "\n",
    "Using Bayes's theorem:\n",
    "\n",
    "The denominator \\( P(B) \\) can be calculated using the law of total probability:\n",
    "\n",
    " P(B) = P(B|A)* P(A) + P(B|-A)* P(-A) \n",
    "\n",
    "Since the complement of having the disease is not having the disease, \n",
    "P(-A) = 1 - P(A) = 0.99.\n",
    "\n",
    "Now plug in the values:\n",
    "\n",
    "P(B) = (0.95* 0.01) + (1 - 0.90)* 0.99 \n",
    "P(B) = 0.0585 + 0.099 = 0.1575 \n",
    "\n",
    "Finally, using Bayes's theorem:\n",
    "\n",
    "P(A|B) = {P(B|A)* P(A)}/P(B) = 0.95 * 0.01 / 0.1575 ≈ 0.0603 \n",
    "So, even though the person tested positive, the probability that they actually have the disease is only about 6.03%. This example demonstrates how Bayes's theorem allows us to update our beliefs based on new evidence."
   ]
  },
  {
   "cell_type": "markdown",
   "id": "927e7fa3-a652-477f-81c2-6f8c0de46cc0",
   "metadata": {},
   "source": [
    "## Q5: What is a confidence interval? How to calculate the confidence interval, explain with an example."
   ]
  },
  {
   "cell_type": "markdown",
   "id": "5d9c6977-cb23-41d8-b71c-b035d7dce296",
   "metadata": {},
   "source": [
    "A confidence interval is a range of values within which we expect a population parameter (such as the population mean or population proportion) to fall, with a certain level of confidence. It provides a measure of the uncertainty associated with estimating a parameter from a sample.\n",
    "\n",
    "For example, if you calculate a 95% confidence interval for the population mean, it means that you are 95% confident that the true population mean lies within that interval.\n",
    "\n",
    "To calculate a confidence interval, you typically use a formula based on the distribution of the sample statistic (usually the sample mean) and the desired level of confidence. The most common formula for calculating a confidence interval for the population mean when the sample size is large is:\n",
    "\n",
    "Confidence Interval = {Sample Mean} +/-{Margin of Error}\n",
    "\n",
    "The margin of error depends on the chosen level of confidence, the standard deviation of the sample (or population, if known), and the sample size. It's typically determined by the critical value from the appropriate distribution (such as the Z-distribution for large samples).\n",
    "\n",
    "Here's an example of calculating a confidence interval for a population mean using Python:"
   ]
  },
  {
   "cell_type": "code",
   "execution_count": 1,
   "id": "8e918cce-fbc5-42c7-b0c1-2d50c048a60f",
   "metadata": {},
   "outputs": [
    {
     "name": "stdout",
     "output_type": "stream",
     "text": [
      "Sample Mean: 41.0\n",
      "Margin of Error: 5.48945446329197\n",
      "Confidence Interval: [35.51054553670803, 46.48945446329197]\n"
     ]
    }
   ],
   "source": [
    "import numpy as np\n",
    "from scipy.stats import norm\n",
    "\n",
    "# Sample data\n",
    "data = np.array([32, 45, 28, 39, 56, 48, 33, 50, 42, 37])\n",
    "\n",
    "# Desired level of confidence (e.g., 95%)\n",
    "confidence_level = 0.95\n",
    "\n",
    "# Sample statistics\n",
    "sample_mean = np.mean(data)\n",
    "sample_std = np.std(data, ddof=1)  # ddof=1 for sample standard deviation\n",
    "sample_size = len(data)\n",
    "\n",
    "# Calculate the critical value from the standard normal distribution\n",
    "critical_value = norm.ppf(1 - (1 - confidence_level) / 2)\n",
    "\n",
    "# Calculate the margin of error\n",
    "margin_of_error = critical_value * (sample_std / np.sqrt(sample_size))\n",
    "\n",
    "# Calculate the confidence interval\n",
    "lower_bound = sample_mean - margin_of_error\n",
    "upper_bound = sample_mean + margin_of_error\n",
    "\n",
    "# Print the results\n",
    "print(f\"Sample Mean: {sample_mean}\")\n",
    "print(f\"Margin of Error: {margin_of_error}\")\n",
    "print(f\"Confidence Interval: [{lower_bound}, {upper_bound}]\")"
   ]
  },
  {
   "cell_type": "markdown",
   "id": "eee69445-d23c-47ff-b323-3488df734a94",
   "metadata": {},
   "source": [
    "In this example, we calculate a 95% confidence interval for the population mean based on a sample of data. We use the `norm.ppf` function from the SciPy library to calculate the critical value from the standard normal distribution. Then, we calculate the margin of error and the confidence interval bounds.\n",
    "\n",
    "Keep in mind that the formula and procedure can vary based on the sample size, distribution assumptions, and the parameter you're estimating (e.g., population mean, population proportion)"
   ]
  },
  {
   "cell_type": "markdown",
   "id": "c80637b6-a4ac-49c7-93f0-635d7d57a8f3",
   "metadata": {},
   "source": [
    "## Q6. Use Bayes' Theorem to calculate the probability of an event occurring given prior knowledge of the event's probability and new evidence. Provide a sample problem and solution"
   ]
  },
  {
   "cell_type": "markdown",
   "id": "4d534556-819e-466c-b901-9e76a3aa398d",
   "metadata": {},
   "source": [
    "Certainly! Let's consider a sample problem where we want to calculate the probability of a person having a certain medical condition given both their prior probability of having the condition and the results of a diagnostic test.\n",
    "\n",
    "**Problem:**\n",
    "Suppose that 2% of the population has a certain medical condition. A diagnostic test for this condition has a sensitivity of 90% (true positive rate) and a specificity of 85% (true negative rate). If a person tests positive for the condition, what is the probability that they actually have it?\n",
    "\n",
    "**Solution in Python:**\n"
   ]
  },
  {
   "cell_type": "code",
   "execution_count": 2,
   "id": "0fd0b8bf-2bb1-4331-a872-9737fa1872bb",
   "metadata": {},
   "outputs": [
    {
     "name": "stdout",
     "output_type": "stream",
     "text": [
      "The probability of having the condition given a positive test result: 0.1091\n"
     ]
    }
   ],
   "source": [
    "# Given probabilities\n",
    "prior_probability = 0.02  # Probability of having the condition\n",
    "sensitivity = 0.90       # True positive rate\n",
    "specificity = 0.85       # True negative rate\n",
    "\n",
    "# Calculate the complement probabilities\n",
    "false_positive_rate = 1 - specificity\n",
    "false_negative_rate = 1 - sensitivity\n",
    "\n",
    "# Calculate the probability of testing positive\n",
    "# Using the law of total probability: P(positive) = P(positive | has condition) * P(has condition) + P(positive | doesn't have condition) * P(doesn't have condition)\n",
    "probability_positive = sensitivity * prior_probability + false_positive_rate * (1 - prior_probability)\n",
    "\n",
    "# Calculate the conditional probability using Bayes's theorem: P(has condition | positive) = P(positive | has condition) * P(has condition) / P(positive)\n",
    "probability_condition_given_positive = (sensitivity * prior_probability) / probability_positive\n",
    "\n",
    "print(f\"The probability of having the condition given a positive test result: {probability_condition_given_positive:.4f}\")"
   ]
  },
  {
   "cell_type": "markdown",
   "id": "d666697b-26b7-4fdb-a0b2-b9b61d12522b",
   "metadata": {},
   "source": [
    "In this code, we first calculate the false positive rate and the false negative rate from the given specificity and sensitivity. Then, we use the law of total probability to calculate the probability of testing positive. Finally, we apply Bayes's theorem to calculate the conditional probability of having the condition given a positive test result.\n",
    "\n",
    "Remember that Bayes's theorem provides a framework for updating probabilities based on new evidence, and it's important to have accurate sensitivity and specificity values for the diagnostic test to make meaningful calculations."
   ]
  },
  {
   "cell_type": "markdown",
   "id": "fe8a9417-f7ff-444f-974b-9144f1335bf0",
   "metadata": {},
   "source": [
    "## Q7. Calculate the 95% confidence interval for a sample of data with a mean of 50 and a standard deviation of 5. Interpret the results."
   ]
  },
  {
   "cell_type": "code",
   "execution_count": 3,
   "id": "ac06e62c-629e-4d64-82e2-0b7be5847c91",
   "metadata": {},
   "outputs": [
    {
     "name": "stdout",
     "output_type": "stream",
     "text": [
      "Sample Mean: 50\n",
      "Margin of Error: 3.0990321069650113\n",
      "Confidence Interval: [46.90096789303499, 53.09903210696501]\n"
     ]
    }
   ],
   "source": [
    "sample_mean = 50\n",
    "standard_deviation = 5\n",
    "confidence_level = 0.95\n",
    "critical_value = 1.96  # Z-score for 95% confidence level\n",
    "\n",
    "# Calculate the margin of error\n",
    "margin_of_error = critical_value * (standard_deviation / (sample_size ** 0.5))\n",
    "\n",
    "# Calculate the confidence interval bounds\n",
    "lower_bound = sample_mean - margin_of_error\n",
    "upper_bound = sample_mean + margin_of_error\n",
    "\n",
    "print(f\"Sample Mean: {sample_mean}\")\n",
    "print(f\"Margin of Error: {margin_of_error}\")\n",
    "print(f\"Confidence Interval: [{lower_bound}, {upper_bound}]\")"
   ]
  },
  {
   "cell_type": "markdown",
   "id": "d6f88691-f8fb-43a9-9012-e98cfde7238a",
   "metadata": {},
   "source": [
    "Interpretation:\n",
    "The 95% confidence interval for the sample mean is [46.90096789303499, 53.09903210696501]. This means that we are 95% confident that the true population mean lies within this interval. In other words, if we were to collect many samples and calculate their respective 95% confidence intervals, we would expect that about 95% of those intervals would contain the true population mean of the data."
   ]
  },
  {
   "cell_type": "markdown",
   "id": "4ec04fa9-c856-470d-8b86-770ad9893cf0",
   "metadata": {},
   "source": [
    "## Q8. What is the margin of error in a confidence interval? How does sample size affect the margin of error? Provide an example of a scenario where a larger sample size would result in a smaller margin of error."
   ]
  },
  {
   "cell_type": "markdown",
   "id": "5ce29faf-727d-4bdc-ad3a-d83a65a7d540",
   "metadata": {},
   "source": [
    "The margin of error (MOE) in a confidence interval represents the range around a point estimate (such as the sample mean) within which we expect the true population parameter to fall with a certain level of confidence. It accounts for the variability inherent in sampling from a population.\n",
    "\n",
    "The formula for the margin of error is often based on the standard error of the statistic being estimated, the critical value from the appropriate distribution, and the desired level of confidence.\n",
    "\n",
    "Mathematically, the margin of error (\\( MOE \\)) is calculated as:\n",
    "\n",
    " MOE = Critical Value x Standard Error\n",
    "\n",
    "Where the critical value is determined by the chosen confidence level and distribution, and the standard error depends on the sample statistic being estimated (e.g., sample mean, sample proportion) and its standard deviation.\n",
    "\n",
    "**Effect of Sample Size on Margin of Error:**\n",
    "A larger sample size generally leads to a smaller margin of error. This is because a larger sample size results in a more accurate estimate of the population parameter and reduces the variability in the sample statistic. As the sample size increases, the standard error decreases, which in turn reduces the overall margin of error.\n",
    "\n",
    "**Example:**\n",
    "Consider a scenario where you are conducting a political survey to estimate the proportion of voters who support a certain candidate in an upcoming election. You plan to use a 95% confidence interval. Initially, you survey 100 voters and find that 60 of them support the candidate.\n",
    "\n",
    "Now, let's compare two cases with different sample sizes:\n",
    "\n",
    "**Case 1: Sample Size = 100**\n",
    "- Sample Proportion (p) = 60/100 = 0.60\n",
    "- Standard Error (SE) = √{p*(1-p)/n}  = √{0.60 * 0.40}/{100}≈ 0.0489\n",
    "- Critical Value (Z) for 95% confidence ≈ 1.96\n",
    "- Margin of Error (MOE) = ( Z x SE ) ≈ 0.0489 * 1.96 ≈ 0.0959\n",
    "\n",
    "**Case 2: Sample Size = 1000**\n",
    "- Sample Proportion (p) = 600/1000 = 0.60\n",
    "- Standard Error (SE) = √{p*(1 - p)/n}  = √{0.60 * 0.40}/{1000}≈ 0.0155\n",
    "- Critical Value (Z) for 95% confidence ≈ 1.96\n",
    "- Margin of Error (MOE) = ( Z x SE ) ≈ 0.0155 * 1.96 ≈ 0.0303\n",
    "\n",
    "In this example, the larger sample size in Case 2 leads to a smaller margin of error compared to Case 1. This means that with a larger sample size, you can be more confident that the true proportion of voters who support the candidate lies within a narrower range around your estimated proportion."
   ]
  },
  {
   "cell_type": "markdown",
   "id": "be402626-ad93-49d6-9f0f-c328170e27d2",
   "metadata": {},
   "source": [
    "## Q9. Calculate the z-score for a data point with a value of 75, a population mean of 70, and a population standard deviation of 5. Interpret the results."
   ]
  },
  {
   "cell_type": "code",
   "execution_count": 4,
   "id": "96fb31ae-e79b-4431-9e59-a0e65b3c4b37",
   "metadata": {},
   "outputs": [
    {
     "name": "stdout",
     "output_type": "stream",
     "text": [
      "The z-score for the data point is: 1.00\n"
     ]
    }
   ],
   "source": [
    "# Given values\n",
    "x = 75\n",
    "population_mean = 70\n",
    "population_std = 5\n",
    "\n",
    "# Calculate the z-score\n",
    "z_score = (x - population_mean) / population_std\n",
    "\n",
    "print(f\"The z-score for the data point is: {z_score:.2f}\")\n"
   ]
  },
  {
   "cell_type": "markdown",
   "id": "eb8e1306-7b8f-4984-96c0-816f0c0eb0f3",
   "metadata": {},
   "source": [
    "Interpretation:\n",
    "The calculated z-score is 1.00. This means that the data point with a value of 75 is 1 standard deviation above the population mean of 70. The positive z-score indicates that the data point is higher than the mean value of the population.\n",
    "\n",
    "\n",
    "\n",
    "\n"
   ]
  },
  {
   "cell_type": "markdown",
   "id": "5103a54c-6ef5-4a8f-b92f-5d0e45488fce",
   "metadata": {},
   "source": [
    "## Q10. In a study of the effectiveness of a new weight loss drug, a sample of 50 participants lost an average of 6 pounds with a standard deviation of 2.5 pounds. Conduct a hypothesis test to determine if the drug is significantly effective at a 95% confidence level using a t-test."
   ]
  },
  {
   "cell_type": "markdown",
   "id": "f17bc59b-56ad-4d4e-ac99-5966b576dfee",
   "metadata": {},
   "source": [
    "**Step 1: Formulate Hypotheses:**\n",
    "- Null Hypothesis (H0): The new weight loss drug has no significant effect on weight loss.\n",
    " u = uo, where uo is the hypothesized population mean.\n",
    "- Alternative Hypothesis ( H1): The new weight loss drug is significantly effective. u not equal to uo.\n",
    "\n",
    "**Step 2: Choose Significance Level:**\n",
    "We are given a 95% confidence level, which corresponds to a significance level (alpha) of 0.05.\n",
    "\n",
    "**Step 3: Calculate the Test Statistic:**\n",
    "The t-test statistic for a one-sample t-test is calculated as:\n",
    "\n",
    "t = (x1−uo)/(s/√n)\n",
    "\n",
    "Where:\n",
    "- (x1) is the sample mean (6 pounds).\n",
    "- (uo) is the hypothesized population mean.\n",
    "- (s) is the sample standard deviation (2.5 pounds).\n",
    "- (n) is the sample size (50 participants).\n",
    "\n",
    "**Step 4: Calculate the Critical Value:**\n",
    "Since this is a two-tailed test, we need to find the critical t-value for a significance level of 0.05 and degrees of freedom (df) = n-1 = 49.\n",
    "\n",
    "**Step 5: Compare the Test Statistic and Critical Value:**\n",
    "If the absolute value of the test statistic is greater than the critical value, we reject the null hypothesis.\n"
   ]
  },
  {
   "cell_type": "code",
   "execution_count": 5,
   "id": "ee56dee9-74d8-4340-b8e1-d3bbf5f2d608",
   "metadata": {},
   "outputs": [
    {
     "name": "stdout",
     "output_type": "stream",
     "text": [
      "Test Statistic: 16.9706\n",
      "Critical t-value: 2.0096\n",
      "Conclusion: Reject the null hypothesis\n"
     ]
    }
   ],
   "source": [
    "import scipy.stats as stats\n",
    "\n",
    "# Given data\n",
    "sample_mean = 6\n",
    "sample_std = 2.5\n",
    "sample_size = 50\n",
    "hypothesized_mean = 0  # Hypothesized mean for illustration purposes\n",
    "\n",
    "# Calculate the t-test statistic\n",
    "t_statistic = (sample_mean - hypothesized_mean) / (sample_std / (sample_size ** 0.5))\n",
    "\n",
    "# Calculate the critical t-value\n",
    "alpha = 0.05\n",
    "degrees_of_freedom = sample_size - 1\n",
    "critical_t = stats.t.ppf(1 - alpha/2, degrees_of_freedom)\n",
    "\n",
    "# Compare the test statistic and critical value\n",
    "if abs(t_statistic) > critical_t:\n",
    "    result = \"Reject the null hypothesis\"\n",
    "else:\n",
    "    result = \"Fail to reject the null hypothesis\"\n",
    "\n",
    "print(f\"Test Statistic: {t_statistic:.4f}\")\n",
    "print(f\"Critical t-value: {critical_t:.4f}\")\n",
    "print(\"Conclusion:\", result)"
   ]
  },
  {
   "cell_type": "markdown",
   "id": "fbdef5bf-d935-400b-95dd-6b6d4acffcba",
   "metadata": {},
   "source": [
    "Interpretation:\n",
    "The calculated test statistic is compared to the critical t-value. If the absolute value of the test statistic is greater than the critical t-value, we reject the null hypothesis. If not, we fail to reject the null hypothesis. This conclusion will tell us whether the new weight loss drug is significantly effective at a 95% confidence level."
   ]
  },
  {
   "cell_type": "markdown",
   "id": "9c254331-adfd-438a-8208-f295132e6f04",
   "metadata": {},
   "source": [
    "## Q11. In a survey of 500 people, 65% reported being satisfied with their current job. Calculate the 95%  confidence interval for the true proportion of people who are satisfied with their job."
   ]
  },
  {
   "cell_type": "code",
   "execution_count": 6,
   "id": "d0fee52c-1340-453a-8c97-f7097bab2204",
   "metadata": {},
   "outputs": [
    {
     "name": "stdout",
     "output_type": "stream",
     "text": [
      "Sample Proportion: 0.65\n",
      "Margin of Error: 0.0418\n",
      "Confidence Interval: [0.6082, 0.6918]\n"
     ]
    }
   ],
   "source": [
    "import math\n",
    "# Given values\n",
    "sample_proportion = 0.65\n",
    "sample_size = 500\n",
    "confidence_level = 0.95\n",
    "\n",
    "# Calculate the standard error\n",
    "standard_error = math.sqrt((sample_proportion * (1 - sample_proportion)) / sample_size)\n",
    "\n",
    "# Calculate the critical value from the standard normal distribution\n",
    "critical_value = stats.norm.ppf(1 - (1 - confidence_level) / 2)\n",
    "\n",
    "# Calculate the margin of error\n",
    "margin_of_error = critical_value * standard_error\n",
    "\n",
    "# Calculate the confidence interval bounds\n",
    "lower_bound = sample_proportion - margin_of_error\n",
    "upper_bound = sample_proportion + margin_of_error\n",
    "\n",
    "print(f\"Sample Proportion: {sample_proportion:.2f}\")\n",
    "print(f\"Margin of Error: {margin_of_error:.4f}\")\n",
    "print(f\"Confidence Interval: [{lower_bound:.4f}, {upper_bound:.4f}]\")"
   ]
  },
  {
   "cell_type": "markdown",
   "id": "760af1fa-f049-496d-ac07-15fffb150b37",
   "metadata": {},
   "source": [
    "Interpretation:\n",
    "The 95% confidence interval for the true proportion of people who are satisfied with their job is approximately [0.6082, 0.6918]. This means that we are 95% confident that the true proportion of people who are satisfied with their job falls within this interval. If you were to repeat the survey many times and calculate a 95% confidence interval for each survey, about 95% of those intervals would contain the true population proportion."
   ]
  },
  {
   "cell_type": "markdown",
   "id": "5d36daca-1069-4afd-9ff9-f25c7a182ebc",
   "metadata": {},
   "source": [
    "## Q12. A researcher is testing the effectiveness of two different teaching methods on student performance. Sample A has a mean score of 85 with a standard deviation of 6, while sample B has a mean score of 82 with a standard deviation of 5. Conduct a hypothesis test to determine if the two teaching methods have a significant difference in student performance using a t-test with a significance level of 0.01."
   ]
  },
  {
   "cell_type": "markdown",
   "id": "bbb86b4f-e38a-4801-b8cb-47ba05d333d6",
   "metadata": {},
   "source": [
    "To conduct a hypothesis test to determine if there is a significant difference in student performance between two teaching methods, you would perform a two-sample t-test. This test compares the means of two independent samples to assess whether the observed difference in means is statistically significant or could have occurred due to random variation.\n",
    "\n",
    "Here are the steps:\n",
    "\n",
    "**Step 1: Formulate Hypotheses:**\n",
    "- Null Hypothesis (Ho): There is no significant difference in student performance between the two teaching methods i.e. (u1-u2 = 0)\n",
    "- Alternative Hypothesis (H1): There is a significant difference in student performance between the two teaching methods i.e. (u1-u2 not equal to 0)\n",
    "\n",
    "**Step 2: Choose Significance Level:**\n",
    "- alpha=0.01\n",
    "\n",
    "**Step 3: Calculate the Test Statistic:**\n",
    "##### The formula for the two-sample t-test statistic is:\n",
    "          (x1−x2)\n",
    "#### t = _____________________\n",
    "     √{(s1^2/n1)+(s2^2/n2)}\n",
    "  \n",
    "Where:\n",
    "- x1 and x2 are the sample means of samples A and B, respectively.\n",
    "- s1 and s2 are the sample standard deviations of samples A and B, respectively.\n",
    "- n1 and n2 are the sample sizes of samples A and B, respectively.\n",
    "\n",
    "**Step 4: Calculate the Degrees of Freedom:**\n",
    "##### The degrees of freedom for the t-test are calculated using the formula:\n",
    "         {(s1^2/n1)+(s2^2/n2)}^2\n",
    "#### df =  ______________________________\n",
    "     (s1^2/n1)^2    (s2^2/n2)^2\n",
    "       __________  +   ___________\n",
    "        n1 - 1           n2-1\n",
    "  \n",
    "  \n",
    "**Step 5: Calculate the Critical Value:**\n",
    "Since this is a two-tailed test, you need to find the critical t-value for a significance level of 0.01 and the calculated degrees of freedom.\n",
    "\n",
    "**Step 6: Compare the Test Statistic and Critical Value:**\n",
    "If the absolute value of the test statistic is greater than the critical value, you reject the null hypothesis."
   ]
  },
  {
   "cell_type": "code",
   "execution_count": 7,
   "id": "b643eac2-2656-4f12-b3c5-9f7d8e5825d8",
   "metadata": {},
   "outputs": [
    {
     "name": "stdout",
     "output_type": "stream",
     "text": [
      "Test Statistic: 2.0226\n",
      "Degrees of Freedom: 53\n",
      "Critical t-value: 2.6718\n",
      "Conclusion: Fail to reject the null hypothesis\n"
     ]
    }
   ],
   "source": [
    "import scipy.stats as stats\n",
    "\n",
    "# Given data for Sample A\n",
    "sample_mean_A = 85\n",
    "sample_std_A = 6\n",
    "sample_size_A = 30  # Assumed sample size for illustration\n",
    "\n",
    "# Given data for Sample B\n",
    "sample_mean_B = 82\n",
    "sample_std_B = 5\n",
    "sample_size_B = 25  # Assumed sample size for illustration\n",
    "\n",
    "# Significance level\n",
    "alpha = 0.01\n",
    "\n",
    "# Calculate the test statistic\n",
    "t_numerator = sample_mean_A - sample_mean_B\n",
    "t_denominator = (sample_std_A**2 / sample_size_A) + (sample_std_B**2 / sample_size_B)\n",
    "t_denominator = t_denominator**0.5\n",
    "t_statistic = t_numerator / t_denominator\n",
    "\n",
    "# Calculate the degrees of freedom\n",
    "df_numerator = ((sample_std_A**2 / sample_size_A) + (sample_std_B**2 / sample_size_B))**2\n",
    "df_denominator_A = (sample_std_A**2 / sample_size_A)**2 / (sample_size_A - 1)\n",
    "df_denominator_B = (sample_std_B**2 / sample_size_B)**2 / (sample_size_B - 1)\n",
    "df_denominator = df_denominator_A + df_denominator_B\n",
    "degrees_of_freedom = df_numerator / df_denominator\n",
    "\n",
    "# Calculate the critical t-value\n",
    "critical_t = stats.t.ppf(1 - alpha/2, degrees_of_freedom)\n",
    "\n",
    "# Compare the test statistic and critical value\n",
    "if abs(t_statistic) > critical_t:\n",
    "    result = \"Reject the null hypothesis\"\n",
    "else:\n",
    "    result = \"Fail to reject the null hypothesis\"\n",
    "\n",
    "print(f\"Test Statistic: {t_statistic:.4f}\")\n",
    "print(f\"Degrees of Freedom: {degrees_of_freedom:.0f}\")\n",
    "print(f\"Critical t-value: {critical_t:.4f}\")\n",
    "print(\"Conclusion:\", result)"
   ]
  },
  {
   "cell_type": "markdown",
   "id": "4b114afc-b9e6-4a7f-86ad-867c6b443712",
   "metadata": {},
   "source": [
    "Interpretation:\n",
    "By comparing the calculated test statistic with the critical t-value, you can determine whether to reject or fail to reject the null hypothesis. If the absolute value of the test statistic is greater than the critical t-value, you would reject the null hypothesis, indicating that there is a significant difference in student performance between the two teaching methods. If not, you would fail to reject the null hypothesis"
   ]
  },
  {
   "cell_type": "markdown",
   "id": "9139214a-9ded-4f9c-8a49-02e5955ada2d",
   "metadata": {},
   "source": [
    "## Q13. A population has a mean of 60 and a standard deviation of 8. A sample of 50 observations has a mean of 65. Calculate the 90% confidence interval for the true population mean."
   ]
  },
  {
   "cell_type": "code",
   "execution_count": 8,
   "id": "a200f036-cae3-40d7-9f64-49b27b431ff6",
   "metadata": {},
   "outputs": [
    {
     "name": "stdout",
     "output_type": "stream",
     "text": [
      "Sample Mean: 65\n",
      "Margin of Error: 1.8609\n",
      "Confidence Interval: [63.1391, 66.8609]\n"
     ]
    }
   ],
   "source": [
    "import math\n",
    "\n",
    "# Given values\n",
    "population_mean = 60\n",
    "population_std = 8\n",
    "sample_mean = 65\n",
    "sample_size = 50\n",
    "confidence_level = 0.90\n",
    "\n",
    "# Calculate the standard error\n",
    "standard_error = population_std / math.sqrt(sample_size)\n",
    "\n",
    "# Calculate the critical value from the standard normal distribution\n",
    "critical_value = stats.norm.ppf(1 - (1 - confidence_level) / 2)\n",
    "\n",
    "# Calculate the margin of error\n",
    "margin_of_error = critical_value * standard_error\n",
    "\n",
    "# Calculate the confidence interval bounds\n",
    "lower_bound = sample_mean - margin_of_error\n",
    "upper_bound = sample_mean + margin_of_error\n",
    "\n",
    "print(f\"Sample Mean: {sample_mean}\")\n",
    "print(f\"Margin of Error: {margin_of_error:.4f}\")\n",
    "print(f\"Confidence Interval: [{lower_bound:.4f}, {upper_bound:.4f}]\")"
   ]
  },
  {
   "cell_type": "markdown",
   "id": "ee613aa4-ae63-4426-b3d7-396475c35e44",
   "metadata": {},
   "source": [
    "Interpretation:\n",
    "The 90% confidence interval for the true population mean is approximately [63.1391, 66.8609]. This means that we are 90% confident that the true population mean falls within this interval. If you were to repeat the process of drawing samples and calculating confidence intervals many times, about 90% of those intervals would contain the true population mean."
   ]
  },
  {
   "cell_type": "markdown",
   "id": "ffdbe500-ca3d-42bd-8a86-66bc6dfef556",
   "metadata": {},
   "source": [
    "## Q14. In a study of the effects of caffeine on reaction time, a sample of 30 participants had an average reaction time of 0.25 seconds with a standard deviation of 0.05 seconds. Conduct a hypothesis test to determine if the caffeine has a significant effect on reaction time at a 90% confidence level using a t-test."
   ]
  },
  {
   "cell_type": "markdown",
   "id": "b426f30f-b1a5-4d4a-b8f3-5c447e80d0ef",
   "metadata": {},
   "source": [
    "To conduct a hypothesis test to determine if caffeine has a significant effect on reaction time, you would perform a one-sample t-test. This test compares the sample mean to a hypothesized population mean to assess whether the observed sample mean is statistically significantly different from the hypothesized mean.\n",
    "\n",
    "Here are the steps:\n",
    "\n",
    "**Step 1: Formulate Hypotheses:**\n",
    "- Null Hypothesis (Ho): Caffeine has no significant effect on reaction time. μ=μo, , where μo is the hypothesized population mean reaction time.\n",
    "- Alternative Hypothesis (H1): Caffeine has a significant effect on reaction time.μ not equal to μ0\n",
    "**Step 2: Choose Significance Level:**\n",
    "The significance level (alpha) is given as 0.10 (since the confidence level is 90%).\n",
    "\n",
    "**Step 3: Calculate the Test Statistic:**\n",
    "The t-test statistic for a one-sample t-test is calculated as:\n",
    "t = (x1−uo)/(s/√n)\n",
    "\n",
    "**Step 4: Calculate the Degrees of Freedom:**\n",
    "Degrees of freedom ( df ) is n - 1.\n",
    "\n",
    "**Step 5: Calculate the Critical Value:**\n",
    "Since this is a two-tailed test, you need to find the critical t-value for a significance level of 0.10 and degrees of freedom.\n",
    "\n",
    "**Step 6: Compare the Test Statistic and Critical Value:**\n",
    "If the absolute value of the test statistic is greater than the critical value, you reject the null hypothesis.\n"
   ]
  },
  {
   "cell_type": "code",
   "execution_count": 9,
   "id": "2f4a1635-3a3a-4bfa-ad01-a167e77fbec3",
   "metadata": {},
   "outputs": [
    {
     "name": "stdout",
     "output_type": "stream",
     "text": [
      "Test Statistic: 3.2863\n",
      "Degrees of Freedom: 29\n",
      "Critical t-value: 1.6991\n",
      "Conclusion: Reject the null hypothesis\n"
     ]
    }
   ],
   "source": [
    "# Given data\n",
    "sample_mean = 0.25\n",
    "sample_std = 0.05\n",
    "sample_size = 30\n",
    "hypothesized_mean = 0.22  # Hypothesized mean for illustration purposes\n",
    "\n",
    "# Significance level\n",
    "alpha = 0.10\n",
    "\n",
    "# Calculate the t-test statistic\n",
    "t_numerator = sample_mean - hypothesized_mean\n",
    "t_denominator = sample_std / (sample_size ** 0.5)\n",
    "t_statistic = t_numerator / t_denominator\n",
    "\n",
    "# Calculate the degrees of freedom\n",
    "degrees_of_freedom = sample_size - 1\n",
    "\n",
    "# Calculate the critical t-value\n",
    "critical_t = stats.t.ppf(1 - alpha/2, degrees_of_freedom)\n",
    "\n",
    "# Compare the test statistic and critical value\n",
    "if abs(t_statistic) > critical_t:\n",
    "    result = \"Reject the null hypothesis\"\n",
    "else:\n",
    "    result = \"Fail to reject the null hypothesis\"\n",
    "\n",
    "print(f\"Test Statistic: {t_statistic:.4f}\")\n",
    "print(f\"Degrees of Freedom: {degrees_of_freedom:.0f}\")\n",
    "print(f\"Critical t-value: {critical_t:.4f}\")\n",
    "print(\"Conclusion:\", result)\n"
   ]
  },
  {
   "cell_type": "markdown",
   "id": "380343d4-f1c7-448b-9b90-71d3dfa0620b",
   "metadata": {},
   "source": [
    "\n",
    "\n",
    "Interpretation:\n",
    "By comparing the calculated test statistic with the critical t-value, you can determine whether to reject or fail to reject the null hypothesis. If the absolute value of the test statistic is greater than the critical t-value, you would reject the null hypothesis, indicating that caffeine has a significant effect on reaction time. If not, you would fail to reject the null hypothesis."
   ]
  }
 ],
 "metadata": {
  "kernelspec": {
   "display_name": "Python 3 (ipykernel)",
   "language": "python",
   "name": "python3"
  },
  "language_info": {
   "codemirror_mode": {
    "name": "ipython",
    "version": 3
   },
   "file_extension": ".py",
   "mimetype": "text/x-python",
   "name": "python",
   "nbconvert_exporter": "python",
   "pygments_lexer": "ipython3",
   "version": "3.10.9"
  }
 },
 "nbformat": 4,
 "nbformat_minor": 5
}
