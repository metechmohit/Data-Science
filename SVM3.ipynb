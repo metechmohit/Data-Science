{
 "cells": [
  {
   "cell_type": "markdown",
   "id": "cede0b9e-c65f-40c1-9337-7d34753bb68f",
   "metadata": {},
   "source": [
    "## Q1. In order to predict house price based on several characteristics, such as location, square footage, number of bedrooms, etc., you are developing an SVM regression model. Which regression metric in this situation would be the best to employ?\n",
    "Dataset- https://drive.google.com/file/d/1Z9oLpmt6IDRNw7IeNcHYTGeJRYypRSC0/view?\n",
    "\n"
   ]
  },
  {
   "cell_type": "code",
   "execution_count": 1,
   "id": "f3532588-d690-4e67-93c1-b023f7c11090",
   "metadata": {},
   "outputs": [
    {
     "data": {
      "text/html": [
       "<div>\n",
       "<style scoped>\n",
       "    .dataframe tbody tr th:only-of-type {\n",
       "        vertical-align: middle;\n",
       "    }\n",
       "\n",
       "    .dataframe tbody tr th {\n",
       "        vertical-align: top;\n",
       "    }\n",
       "\n",
       "    .dataframe thead th {\n",
       "        text-align: right;\n",
       "    }\n",
       "</style>\n",
       "<table border=\"1\" class=\"dataframe\">\n",
       "  <thead>\n",
       "    <tr style=\"text-align: right;\">\n",
       "      <th></th>\n",
       "      <th>area_type</th>\n",
       "      <th>availability</th>\n",
       "      <th>location</th>\n",
       "      <th>size</th>\n",
       "      <th>society</th>\n",
       "      <th>total_sqft</th>\n",
       "      <th>bath</th>\n",
       "      <th>balcony</th>\n",
       "      <th>price</th>\n",
       "    </tr>\n",
       "  </thead>\n",
       "  <tbody>\n",
       "    <tr>\n",
       "      <th>0</th>\n",
       "      <td>Super built-up  Area</td>\n",
       "      <td>19-Dec</td>\n",
       "      <td>Electronic City Phase II</td>\n",
       "      <td>2 BHK</td>\n",
       "      <td>Coomee</td>\n",
       "      <td>1056</td>\n",
       "      <td>2.0</td>\n",
       "      <td>1.0</td>\n",
       "      <td>39.07</td>\n",
       "    </tr>\n",
       "    <tr>\n",
       "      <th>1</th>\n",
       "      <td>Plot  Area</td>\n",
       "      <td>Ready To Move</td>\n",
       "      <td>Chikka Tirupathi</td>\n",
       "      <td>4 Bedroom</td>\n",
       "      <td>Theanmp</td>\n",
       "      <td>2600</td>\n",
       "      <td>5.0</td>\n",
       "      <td>3.0</td>\n",
       "      <td>120.00</td>\n",
       "    </tr>\n",
       "    <tr>\n",
       "      <th>2</th>\n",
       "      <td>Built-up  Area</td>\n",
       "      <td>Ready To Move</td>\n",
       "      <td>Uttarahalli</td>\n",
       "      <td>3 BHK</td>\n",
       "      <td>NaN</td>\n",
       "      <td>1440</td>\n",
       "      <td>2.0</td>\n",
       "      <td>3.0</td>\n",
       "      <td>62.00</td>\n",
       "    </tr>\n",
       "    <tr>\n",
       "      <th>3</th>\n",
       "      <td>Super built-up  Area</td>\n",
       "      <td>Ready To Move</td>\n",
       "      <td>Lingadheeranahalli</td>\n",
       "      <td>3 BHK</td>\n",
       "      <td>Soiewre</td>\n",
       "      <td>1521</td>\n",
       "      <td>3.0</td>\n",
       "      <td>1.0</td>\n",
       "      <td>95.00</td>\n",
       "    </tr>\n",
       "    <tr>\n",
       "      <th>4</th>\n",
       "      <td>Super built-up  Area</td>\n",
       "      <td>Ready To Move</td>\n",
       "      <td>Kothanur</td>\n",
       "      <td>2 BHK</td>\n",
       "      <td>NaN</td>\n",
       "      <td>1200</td>\n",
       "      <td>2.0</td>\n",
       "      <td>1.0</td>\n",
       "      <td>51.00</td>\n",
       "    </tr>\n",
       "  </tbody>\n",
       "</table>\n",
       "</div>"
      ],
      "text/plain": [
       "              area_type   availability                  location       size  \\\n",
       "0  Super built-up  Area         19-Dec  Electronic City Phase II      2 BHK   \n",
       "1            Plot  Area  Ready To Move          Chikka Tirupathi  4 Bedroom   \n",
       "2        Built-up  Area  Ready To Move               Uttarahalli      3 BHK   \n",
       "3  Super built-up  Area  Ready To Move        Lingadheeranahalli      3 BHK   \n",
       "4  Super built-up  Area  Ready To Move                  Kothanur      2 BHK   \n",
       "\n",
       "   society total_sqft  bath  balcony   price  \n",
       "0  Coomee        1056   2.0      1.0   39.07  \n",
       "1  Theanmp       2600   5.0      3.0  120.00  \n",
       "2      NaN       1440   2.0      3.0   62.00  \n",
       "3  Soiewre       1521   3.0      1.0   95.00  \n",
       "4      NaN       1200   2.0      1.0   51.00  "
      ]
     },
     "execution_count": 1,
     "metadata": {},
     "output_type": "execute_result"
    }
   ],
   "source": [
    "import pandas as pd\n",
    "import numpy as np\n",
    "from sklearn.svm import SVC\n",
    "from sklearn.model_selection import train_test_split\n",
    "from sklearn.metrics import accuracy_score\n",
    "data= pd.read_csv(\"Bengaluru_House_Data.csv\")\n",
    "data.head()"
   ]
  },
  {
   "cell_type": "code",
   "execution_count": 2,
   "id": "dfe28561-c806-46cb-9bc1-51352b0da4c8",
   "metadata": {},
   "outputs": [
    {
     "name": "stdout",
     "output_type": "stream",
     "text": [
      "<class 'pandas.core.frame.DataFrame'>\n",
      "RangeIndex: 13320 entries, 0 to 13319\n",
      "Data columns (total 9 columns):\n",
      " #   Column        Non-Null Count  Dtype  \n",
      "---  ------        --------------  -----  \n",
      " 0   area_type     13320 non-null  object \n",
      " 1   availability  13320 non-null  object \n",
      " 2   location      13319 non-null  object \n",
      " 3   size          13304 non-null  object \n",
      " 4   society       7818 non-null   object \n",
      " 5   total_sqft    13320 non-null  object \n",
      " 6   bath          13247 non-null  float64\n",
      " 7   balcony       12711 non-null  float64\n",
      " 8   price         13320 non-null  float64\n",
      "dtypes: float64(3), object(6)\n",
      "memory usage: 936.7+ KB\n"
     ]
    }
   ],
   "source": [
    "data.info()\n"
   ]
  },
  {
   "cell_type": "code",
   "execution_count": 3,
   "id": "74ff0495-04dd-4a01-b688-b0e7a5e488a6",
   "metadata": {},
   "outputs": [
    {
     "name": "stdout",
     "output_type": "stream",
     "text": [
      "<class 'pandas.core.frame.DataFrame'>\n",
      "RangeIndex: 13320 entries, 0 to 13319\n",
      "Data columns (total 8 columns):\n",
      " #   Column        Non-Null Count  Dtype  \n",
      "---  ------        --------------  -----  \n",
      " 0   area_type     13320 non-null  object \n",
      " 1   availability  13320 non-null  object \n",
      " 2   location      13319 non-null  object \n",
      " 3   size          13304 non-null  object \n",
      " 4   total_sqft    13320 non-null  object \n",
      " 5   bath          13247 non-null  float64\n",
      " 6   balcony       12711 non-null  float64\n",
      " 7   price         13320 non-null  float64\n",
      "dtypes: float64(3), object(5)\n",
      "memory usage: 832.6+ KB\n"
     ]
    }
   ],
   "source": [
    "data=data.drop(['society'],axis=1)\n",
    "data.info()"
   ]
  },
  {
   "cell_type": "code",
   "execution_count": 4,
   "id": "9c4a1e2c-b8fd-4d80-bf55-a6d750011cee",
   "metadata": {},
   "outputs": [
    {
     "data": {
      "text/plain": [
       "area_type         0\n",
       "availability      0\n",
       "location          1\n",
       "size             16\n",
       "total_sqft        0\n",
       "bath             73\n",
       "balcony         609\n",
       "price             0\n",
       "dtype: int64"
      ]
     },
     "execution_count": 4,
     "metadata": {},
     "output_type": "execute_result"
    }
   ],
   "source": [
    "data.isnull().sum()"
   ]
  },
  {
   "cell_type": "code",
   "execution_count": 5,
   "id": "b730dff0-c41b-461e-8aac-28ce56cee58c",
   "metadata": {},
   "outputs": [
    {
     "name": "stdout",
     "output_type": "stream",
     "text": [
      "<class 'pandas.core.frame.DataFrame'>\n",
      "Int64Index: 12710 entries, 0 to 13319\n",
      "Data columns (total 8 columns):\n",
      " #   Column        Non-Null Count  Dtype  \n",
      "---  ------        --------------  -----  \n",
      " 0   area_type     12710 non-null  object \n",
      " 1   availability  12710 non-null  object \n",
      " 2   location      12710 non-null  object \n",
      " 3   size          12710 non-null  object \n",
      " 4   total_sqft    12710 non-null  object \n",
      " 5   bath          12710 non-null  float64\n",
      " 6   balcony       12710 non-null  float64\n",
      " 7   price         12710 non-null  float64\n",
      "dtypes: float64(3), object(5)\n",
      "memory usage: 893.7+ KB\n"
     ]
    }
   ],
   "source": [
    "data=data.dropna()\n",
    "data.info()"
   ]
  },
  {
   "cell_type": "code",
   "execution_count": 6,
   "id": "064efedb-e5ec-4bdb-b66c-688a12703a5e",
   "metadata": {},
   "outputs": [
    {
     "name": "stdout",
     "output_type": "stream",
     "text": [
      "<class 'pandas.core.frame.DataFrame'>\n",
      "Int64Index: 12146 entries, 0 to 13318\n",
      "Data columns (total 8 columns):\n",
      " #   Column        Non-Null Count  Dtype  \n",
      "---  ------        --------------  -----  \n",
      " 0   area_type     12146 non-null  object \n",
      " 1   availability  12146 non-null  object \n",
      " 2   location      12146 non-null  object \n",
      " 3   size          12146 non-null  object \n",
      " 4   total_sqft    12146 non-null  object \n",
      " 5   bath          12146 non-null  float64\n",
      " 6   balcony       12146 non-null  float64\n",
      " 7   price         12146 non-null  float64\n",
      "dtypes: float64(3), object(5)\n",
      "memory usage: 854.0+ KB\n"
     ]
    }
   ],
   "source": [
    "data=data.drop_duplicates()\n",
    "data.info()"
   ]
  },
  {
   "cell_type": "code",
   "execution_count": 7,
   "id": "8d89aeb8-8b74-442b-98f8-b49194710349",
   "metadata": {},
   "outputs": [
    {
     "name": "stdout",
     "output_type": "stream",
     "text": [
      "<class 'pandas.core.frame.DataFrame'>\n",
      "Int64Index: 12146 entries, 0 to 13318\n",
      "Data columns (total 8 columns):\n",
      " #   Column        Non-Null Count  Dtype  \n",
      "---  ------        --------------  -----  \n",
      " 0   area_type     12146 non-null  int32  \n",
      " 1   availability  12146 non-null  int32  \n",
      " 2   location      12146 non-null  int32  \n",
      " 3   size          12146 non-null  int32  \n",
      " 4   total_sqft    12146 non-null  int32  \n",
      " 5   bath          12146 non-null  float64\n",
      " 6   balcony       12146 non-null  float64\n",
      " 7   price         12146 non-null  float64\n",
      "dtypes: float64(3), int32(5)\n",
      "memory usage: 616.8 KB\n"
     ]
    }
   ],
   "source": [
    "from sklearn.preprocessing import LabelEncoder\n",
    "for i in data.columns:\n",
    "    if data[i].dtype=='object':\n",
    "        data[i]=LabelEncoder().fit_transform(data[i])\n",
    "data.info()"
   ]
  },
  {
   "cell_type": "code",
   "execution_count": 8,
   "id": "89fffdfd-4295-44f5-a28d-47a2c8149d9e",
   "metadata": {},
   "outputs": [
    {
     "name": "stdout",
     "output_type": "stream",
     "text": [
      "area_type      -0.056610\n",
      "availability    0.031656\n",
      "location        0.011827\n",
      "size            0.385559\n",
      "total_sqft      0.220550\n",
      "bath            0.456023\n",
      "balcony         0.118570\n",
      "price           1.000000\n",
      "Name: price, dtype: float64\n"
     ]
    }
   ],
   "source": [
    "c=data.corr()\n",
    "print(c['price'])"
   ]
  },
  {
   "cell_type": "code",
   "execution_count": 9,
   "id": "e127c24c-b9db-45a4-9b45-740957f00eec",
   "metadata": {},
   "outputs": [
    {
     "data": {
      "text/plain": [
       "<Axes: xlabel='price', ylabel='Count'>"
      ]
     },
     "execution_count": 9,
     "metadata": {},
     "output_type": "execute_result"
    },
    {
     "data": {
      "image/png": "[encoded data removed]",
      "text/plain": [
       "<Figure size 640x480 with 1 Axes>"
      ]
     },
     "metadata": {},
     "output_type": "display_data"
    }
   ],
   "source": [
    "import seaborn as sns\n",
    "sns.histplot(data,x='price',bins=50)"
   ]
  },
  {
   "cell_type": "code",
   "execution_count": 10,
   "id": "a9d55604-0aaa-4de2-828e-8d6e19387eb9",
   "metadata": {},
   "outputs": [
    {
     "data": {
      "text/plain": [
       "<Axes: >"
      ]
     },
     "execution_count": 10,
     "metadata": {},
     "output_type": "execute_result"
    },
    {
     "data": {
      "image/png": "[encoded data removed]",
      "text/plain": [
       "<Figure size 640x480 with 1 Axes>"
      ]
     },
     "metadata": {},
     "output_type": "display_data"
    }
   ],
   "source": [
    "sns.boxplot(data['bath'])"
   ]
  },
  {
   "cell_type": "code",
   "execution_count": 11,
   "id": "c6dd6040-2542-45ab-a09a-abfd7f712743",
   "metadata": {},
   "outputs": [
    {
     "data": {
      "text/plain": [
       "<Axes: >"
      ]
     },
     "execution_count": 11,
     "metadata": {},
     "output_type": "execute_result"
    },
    {
     "data": {
      "image/png": "[encoded data removed]",
      "text/plain": [
       "<Figure size 640x480 with 1 Axes>"
      ]
     },
     "metadata": {},
     "output_type": "display_data"
    }
   ],
   "source": [
    "sns.boxplot(data['total_sqft'])"
   ]
  },
  {
   "cell_type": "code",
   "execution_count": 12,
   "id": "9e8ab3e1-e960-4877-a4b0-2e66f6cd293e",
   "metadata": {},
   "outputs": [
    {
     "data": {
      "text/plain": [
       "<seaborn.axisgrid.JointGrid at 0x1be6a9dbe50>"
      ]
     },
     "execution_count": 12,
     "metadata": {},
     "output_type": "execute_result"
    },
    {
     "data": {
      "image/png": "[encoded data removed]",
      "text/plain": [
       "<Figure size 600x600 with 3 Axes>"
      ]
     },
     "metadata": {},
     "output_type": "display_data"
    }
   ],
   "source": [
    "sns.jointplot(data,x='bath',y='price')"
   ]
  },
  {
   "cell_type": "code",
   "execution_count": 13,
   "id": "baf3c4a6-8624-4df5-aa05-19a75337a40c",
   "metadata": {},
   "outputs": [],
   "source": [
    "y=data['price']\n",
    "x=data.drop(['price'],axis=1)"
   ]
  },
  {
   "cell_type": "code",
   "execution_count": 14,
   "id": "24bc9313-e6da-466f-85d7-cfbd6b93d557",
   "metadata": {},
   "outputs": [
    {
     "data": {
      "text/plain": [
       "75.00     294\n",
       "65.00     286\n",
       "55.00     262\n",
       "60.00     261\n",
       "45.00     227\n",
       "         ... \n",
       "27.54       1\n",
       "84.95       1\n",
       "63.98       1\n",
       "402.00      1\n",
       "488.00      1\n",
       "Name: price, Length: 1924, dtype: int64"
      ]
     },
     "execution_count": 14,
     "metadata": {},
     "output_type": "execute_result"
    }
   ],
   "source": [
    "y.value_counts()"
   ]
  },
  {
   "cell_type": "code",
   "execution_count": 15,
   "id": "7e8e3943-b999-477c-abf2-eada547f73c0",
   "metadata": {},
   "outputs": [],
   "source": [
    "from sklearn.preprocessing import StandardScaler\n",
    "x=StandardScaler().fit_transform(x)"
   ]
  },
  {
   "cell_type": "code",
   "execution_count": 16,
   "id": "ee00ec61-5a04-458a-ad38-212187f50817",
   "metadata": {},
   "outputs": [
    {
     "name": "stdout",
     "output_type": "stream",
     "text": [
      "(9716, 7) (2430, 7) (9716,) (2430,)\n"
     ]
    }
   ],
   "source": [
    "from sklearn.model_selection import train_test_split\n",
    "x_train, x_test, y_train, y_test= train_test_split(x,y,test_size=0.2)\n",
    "print(x_train.shape,x_test.shape,y_train.shape,y_test.shape)"
   ]
  },
  {
   "cell_type": "code",
   "execution_count": 17,
   "id": "65d5e936-4ab9-4b9e-a1f2-d4a9de43da1c",
   "metadata": {},
   "outputs": [
    {
     "data": {
      "text/html": [
       "<style>#sk-container-id-1 {color: black;background-color: white;}#sk-container-id-1 pre{padding: 0;}#sk-container-id-1 div.sk-toggleable {background-color: white;}#sk-container-id-1 label.sk-toggleable__label {cursor: pointer;display: block;width: 100%;margin-bottom: 0;padding: 0.3em;box-sizing: border-box;text-align: center;}#sk-container-id-1 label.sk-toggleable__label-arrow:before {content: \"▸\";float: left;margin-right: 0.25em;color: #696969;}#sk-container-id-1 label.sk-toggleable__label-arrow:hover:before {color: black;}#sk-container-id-1 div.sk-estimator:hover label.sk-toggleable__label-arrow:before {color: black;}#sk-container-id-1 div.sk-toggleable__content {max-height: 0;max-width: 0;overflow: hidden;text-align: left;background-color: #f0f8ff;}#sk-container-id-1 div.sk-toggleable__content pre {margin: 0.2em;color: black;border-radius: 0.25em;background-color: #f0f8ff;}#sk-container-id-1 input.sk-toggleable__control:checked~div.sk-toggleable__content {max-height: 200px;max-width: 100%;overflow: auto;}#sk-container-id-1 input.sk-toggleable__control:checked~label.sk-toggleable__label-arrow:before {content: \"▾\";}#sk-container-id-1 div.sk-estimator input.sk-toggleable__control:checked~label.sk-toggleable__label {background-color: #d4ebff;}#sk-container-id-1 div.sk-label input.sk-toggleable__control:checked~label.sk-toggleable__label {background-color: #d4ebff;}#sk-container-id-1 input.sk-hidden--visually {border: 0;clip: rect(1px 1px 1px 1px);clip: rect(1px, 1px, 1px, 1px);height: 1px;margin: -1px;overflow: hidden;padding: 0;position: absolute;width: 1px;}#sk-container-id-1 div.sk-estimator {font-family: monospace;background-color: #f0f8ff;border: 1px dotted black;border-radius: 0.25em;box-sizing: border-box;margin-bottom: 0.5em;}#sk-container-id-1 div.sk-estimator:hover {background-color: #d4ebff;}#sk-container-id-1 div.sk-parallel-item::after {content: \"\";width: 100%;border-bottom: 1px solid gray;flex-grow: 1;}#sk-container-id-1 div.sk-label:hover label.sk-toggleable__label {background-color: #d4ebff;}#sk-container-id-1 div.sk-serial::before {content: \"\";position: absolute;border-left: 1px solid gray;box-sizing: border-box;top: 0;bottom: 0;left: 50%;z-index: 0;}#sk-container-id-1 div.sk-serial {display: flex;flex-direction: column;align-items: center;background-color: white;padding-right: 0.2em;padding-left: 0.2em;position: relative;}#sk-container-id-1 div.sk-item {position: relative;z-index: 1;}#sk-container-id-1 div.sk-parallel {display: flex;align-items: stretch;justify-content: center;background-color: white;position: relative;}#sk-container-id-1 div.sk-item::before, #sk-container-id-1 div.sk-parallel-item::before {content: \"\";position: absolute;border-left: 1px solid gray;box-sizing: border-box;top: 0;bottom: 0;left: 50%;z-index: -1;}#sk-container-id-1 div.sk-parallel-item {display: flex;flex-direction: column;z-index: 1;position: relative;background-color: white;}#sk-container-id-1 div.sk-parallel-item:first-child::after {align-self: flex-end;width: 50%;}#sk-container-id-1 div.sk-parallel-item:last-child::after {align-self: flex-start;width: 50%;}#sk-container-id-1 div.sk-parallel-item:only-child::after {width: 0;}#sk-container-id-1 div.sk-dashed-wrapped {border: 1px dashed gray;margin: 0 0.4em 0.5em 0.4em;box-sizing: border-box;padding-bottom: 0.4em;background-color: white;}#sk-container-id-1 div.sk-label label {font-family: monospace;font-weight: bold;display: inline-block;line-height: 1.2em;}#sk-container-id-1 div.sk-label-container {text-align: center;}#sk-container-id-1 div.sk-container {/* jupyter's `normalize.less` sets `[hidden] { display: none; }` but bootstrap.min.css set `[hidden] { display: none !important; }` so we also need the `!important` here to be able to override the default hidden behavior on the sphinx rendered scikit-learn.org. See: https://github.com/scikit-learn/scikit-learn/issues/21755 */display: inline-block !important;position: relative;}#sk-container-id-1 div.sk-text-repr-fallback {display: none;}</style><div id=\"sk-container-id-1\" class=\"sk-top-container\"><div class=\"sk-text-repr-fallback\"><pre>SVR()</pre><b>In a Jupyter environment, please rerun this cell to show the HTML representation or trust the notebook. <br />On GitHub, the HTML representation is unable to render, please try loading this page with nbviewer.org.</b></div><div class=\"sk-container\" hidden><div class=\"sk-item\"><div class=\"sk-estimator sk-toggleable\"><input class=\"sk-toggleable__control sk-hidden--visually\" id=\"sk-estimator-id-1\" type=\"checkbox\" checked><label for=\"sk-estimator-id-1\" class=\"sk-toggleable__label sk-toggleable__label-arrow\">SVR</label><div class=\"sk-toggleable__content\"><pre>SVR()</pre></div></div></div></div></div>"
      ],
      "text/plain": [
       "SVR()"
      ]
     },
     "execution_count": 17,
     "metadata": {},
     "output_type": "execute_result"
    }
   ],
   "source": [
    "from sklearn.svm import SVR\n",
    "model3=SVR()\n",
    "model3.fit(x_train,y_train)"
   ]
  },
  {
   "cell_type": "code",
   "execution_count": 18,
   "id": "91e14dbe-7fd7-4ed9-a468-680822486dd7",
   "metadata": {},
   "outputs": [
    {
     "name": "stdout",
     "output_type": "stream",
     "text": [
      "MSE 12056.448487035246\n",
      "RMSE 109.80186012557003\n",
      "MAE 41.34152183057654\n",
      "MAPE 0.3193715490710614\n"
     ]
    }
   ],
   "source": [
    "from sklearn.metrics import mean_squared_error, mean_absolute_error, mean_absolute_percentage_error\n",
    "out_t=model3.predict(x_train)\n",
    "print('MSE',mean_squared_error(y_train,out_t))\n",
    "print('RMSE',np.sqrt(mean_squared_error(y_train,out_t)))\n",
    "print('MAE',mean_absolute_error(y_train,out_t))\n",
    "print('MAPE',mean_absolute_percentage_error(y_train,out_t))"
   ]
  },
  {
   "cell_type": "code",
   "execution_count": 19,
   "id": "9fb972d3-baa7-4079-bd86-ccb771d43a59",
   "metadata": {},
   "outputs": [
    {
     "name": "stdout",
     "output_type": "stream",
     "text": [
      "MSE 23198.339399897875\n",
      "RMSE 152.31001083283357\n",
      "MAE 45.81788434788422\n",
      "MAPE 0.32680004674107294\n"
     ]
    }
   ],
   "source": [
    "from sklearn.metrics import mean_squared_error, mean_absolute_error, mean_absolute_percentage_error\n",
    "out=model3.predict(x_test)\n",
    "print('MSE',mean_squared_error(y_test,out))\n",
    "print('RMSE',np.sqrt(mean_squared_error(y_test,out)))\n",
    "print('MAE',mean_absolute_error(y_test,out))\n",
    "print('MAPE',mean_absolute_percentage_error(y_test,out))"
   ]
  },
  {
   "cell_type": "markdown",
   "id": "3b94abda-6000-4558-8f4a-fa83efc8a086",
   "metadata": {},
   "source": [
    "## Q2. You have built an SVM regression model and are trying to decide between using MSE or R-squared as your evaluation metric. Which metric would be more appropriate if your goal is to predict the actual price of a house as accurately as possible?"
   ]
  },
  {
   "cell_type": "markdown",
   "id": "af8e9c32-d60e-4549-bdb6-4ffa1a918771",
   "metadata": {},
   "source": [
    "If your goal is to predict the actual price of a house as accurately as possible, then Mean Squared Error (MSE) would be the more appropriate evaluation metric to use with your SVM regression model.\n",
    "\n",
    "Here's why MSE is preferred for this scenario:\n",
    "\n",
    "1. **Accuracy of Prediction**: MSE directly measures the average squared difference between predicted and actual house prices. Minimizing MSE results in predictions that are as close as possible to the true house prices on average. Since your goal is to predict house prices as accurately as possible, MSE provides a clear and direct measure of prediction accuracy.\n",
    "\n",
    "2. **Interpretability**: MSE is easy to interpret and understand. It represents the average squared error between predicted and actual house prices, making it straightforward to assess the performance of the regression model in terms of prediction accuracy.\n",
    "\n",
    "3. **Emphasis on Error Magnitude**: MSE penalizes large errors more heavily than small errors due to the squaring operation. This property is beneficial when predicting house prices, as you want to minimize the impact of large prediction errors, which can have significant financial implications.\n",
    "\n",
    "On the other hand, R-squared (coefficient of determination) measures the proportion of the variance in the target variable (house prices) that is explained by the independent variables (features). While R-squared provides information about how well the model fits the data, it may not directly reflect prediction accuracy in terms of minimizing errors in house price predictions.\n",
    "\n",
    "In summary, when your goal is to predict the actual price of a house as accurately as possible, MSE is the more appropriate evaluation metric to use with your SVM regression model. It directly quantifies prediction accuracy by measuring the average squared difference between predicted and actual house prices."
   ]
  },
  {
   "cell_type": "markdown",
   "id": "f0f6daf7-fdca-4cad-bba0-40f8115ac5fb",
   "metadata": {},
   "source": [
    "## Q3. You have a dataset with a significant number of outliers and are trying to select an appropriate regression metric to use with your SVM model. Which metric would be the most appropriate in this scenario?\n"
   ]
  },
  {
   "cell_type": "markdown",
   "id": "34c51c35-c84e-4201-9dda-cbc26131569c",
   "metadata": {},
   "source": [
    "When dealing with a dataset containing a significant number of outliers, it's essential to choose a regression metric that is robust to outliers. In this scenario, the Mean Absolute Error (MAE) would be the most appropriate regression metric to use with your SVM model.\n",
    "\n",
    "Here's why MAE is suitable for handling outliers:\n",
    "\n",
    "1. **Robustness**: MAE is less sensitive to outliers compared to other metrics like Mean Squared Error (MSE) and Root Mean Squared Error (RMSE). Since MAE calculates the average absolute difference between predicted and actual values, it gives equal weight to all errors, regardless of their magnitude. This property makes MAE more robust to outliers because large errors do not disproportionately influence the metric.\n",
    "\n",
    "2. **Interpretability**: MAE is directly interpretable and represents the average absolute error between predicted and actual values. This makes it easier to understand and communicate the model's performance, especially in the presence of outliers.\n",
    "\n",
    "3. **Resilience to Extreme Values**: Unlike MSE and RMSE, which square the errors, MAE treats all errors linearly. Consequently, MAE is less affected by extreme values and is better able to capture the central tendency of the data, even in the presence of outliers.\n",
    "\n",
    "In summary, when dealing with a dataset containing a significant number of outliers, using MAE as the regression metric with your SVM model would be the most appropriate choice. MAE provides a robust measure of prediction accuracy that is less influenced by outliers and is easier to interpret."
   ]
  },
  {
   "cell_type": "markdown",
   "id": "78b6280e-b1df-4f09-aa1a-70b53a56d686",
   "metadata": {},
   "source": [
    "## Q4. You have built an SVM regression model using a polynomial kernel and are trying to select the best metric to evaluate its performance. You have calculated both MSE and RMSE and found that both values are very close. Which metric should you choose to use in this case?\n"
   ]
  },
  {
   "cell_type": "markdown",
   "id": "9ed284e2-b9be-4322-9dd2-ac2ffcf11657",
   "metadata": {},
   "source": [
    "When deciding between Mean Squared Error (MSE) and Root Mean Squared Error (RMSE) as metrics for evaluating the performance of an SVM regression model with a polynomial kernel, both metrics are measures of the model's prediction accuracy, particularly for continuous outcomes. Since you've mentioned that the values of MSE and RMSE are very close, either metric can be chosen in this case. However, there are some considerations to keep in mind:\n",
    "\n",
    "1. **Interpretability**: MSE is directly interpretable and represents the average squared difference between the actual and predicted values. RMSE, on the other hand, is the square root of MSE and represents the average deviation of predicted values from actual values in the same units as the target variable. If you prefer a metric that is more interpretable and easier to relate to the original scale of the target variable, you may choose RMSE.\n",
    "\n",
    "2. **Sensitivity to Outliers**: RMSE gives relatively more weight to large errors compared to MSE due to the square root operation. If your dataset contains outliers and you want the evaluation metric to be more sensitive to these outliers, RMSE may be a better choice.\n",
    "\n",
    "3. **Mathematical Properties**: RMSE penalizes large errors more heavily than MSE due to the square root operation. If you want a metric that puts more emphasis on reducing large errors, RMSE may be preferred.\n",
    "\n",
    "4. **Computational Efficiency**: MSE is computationally more efficient to calculate compared to RMSE since it does not involve taking square roots. If computational efficiency is a concern, MSE may be favored.\n",
    "\n",
    "In summary, both MSE and RMSE are valid metrics for evaluating the performance of an SVM regression model with a polynomial kernel, especially if their values are very close. Your choice between the two should depend on factors such as interpretability, sensitivity to outliers, mathematical properties, and computational efficiency."
   ]
  },
  {
   "cell_type": "markdown",
   "id": "fdf82e53-e3c9-443b-a76a-d7ec1cc5ce09",
   "metadata": {},
   "source": [
    "## Q5. You are comparing the performance of different SVM regression models using different kernels (linear, polynomial, and RBF) and are trying to select the best evaluation metric. Which metric would be most appropriate if your goal is to measure how well the model explains the variance in the target variable?"
   ]
  },
  {
   "cell_type": "markdown",
   "id": "08b76481-3751-4f04-858d-5526df04568d",
   "metadata": {},
   "source": [
    "Out of the given options (linear, polynomial, and RBF kernels), the most appropriate evaluation metric to measure how well the SVM regression model explains the variance in the target variable is:\n",
    "\n",
    "**R-squared (R²)**\n",
    "\n",
    "Here's why:\n",
    "\n",
    "* **R-squared:** This metric represents the proportion of variance in the dependent variable (target variable) that is explained by the independent variables (features) in the model. It ranges from 0 to 1, where 0 indicates no explanatory power and 1 indicates perfect fit.\n",
    "\n",
    "* **Other options:**\n",
    "    * **Mean Squared Error (MSE):** While MSE measures the average squared difference between predicted and actual values, it doesn't directly reflect the variance explained by the model.\n",
    "    * **Kernel choice (linear, polynomial, RBF):** This refers to the type of function used by the SVM model to transform the data. It doesn't directly relate to the evaluation metric.\n",
    "\n",
    "Therefore, R-squared provides a clear indication of how well the model captures the true variability in the target variable, making it the most suitable choice for your goal.\n"
   ]
  }
 ],
 "metadata": {
  "kernelspec": {
   "display_name": "Python 3 (ipykernel)",
   "language": "python",
   "name": "python3"
  },
  "language_info": {
   "codemirror_mode": {
    "name": "ipython",
    "version": 3
   },
   "file_extension": ".py",
   "mimetype": "text/x-python",
   "name": "python",
   "nbconvert_exporter": "python",
   "pygments_lexer": "ipython3",
   "version": "3.10.9"
  }
 },
 "nbformat": 4,
 "nbformat_minor": 5
}
