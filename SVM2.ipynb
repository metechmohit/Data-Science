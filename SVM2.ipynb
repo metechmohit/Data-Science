{
 "cells": [
  {
   "cell_type": "markdown",
   "id": "ac3740ef-31f9-45f7-9616-3f03740a46c1",
   "metadata": {},
   "source": [
    "## Q1. What is the relationship between polynomial functions and kernel functions in machine learning algorithms?"
   ]
  },
  {
   "attachments": {
    "d2fc675f-7db4-4d50-8a27-723d942ef5a3.png": {
     "image/png": "[encoded data removed]"
    }
   },
   "cell_type": "markdown",
   "id": "ae68bd56-3588-4ac0-bf93-97b30cf35e34",
   "metadata": {},
   "source": [
    "Polynomial functions and kernel functions are both used in machine learning algorithms, particularly in the context of support vector machines (SVMs) and kernel methods.\n",
    "\n",
    "1. **Polynomial Functions**: In the context of SVMs, polynomial functions are often used as kernel functions. These kernel functions compute the inner product between two feature vectors in a higher-dimensional space, allowing SVMs to learn non-linear decision boundaries in the original feature space. The polynomial kernel function is defined as ![image.png](attachment:d2fc675f-7db4-4d50-8a27-723d942ef5a3.png) are the input feature vectors, \\( d \\) is the degree of the polynomial, and \\( c \\) is a constant.\n",
    "\n",
    "\n",
    "2. **Kernel Functions**: Kernel functions are more general and can encompass various transformations of the input data to a higher-dimensional space. Besides polynomial kernels, other common kernel functions include Gaussian (or Radial Basis Function) kernels, sigmoid kernels, and more. These kernel functions allow SVMs to perform non-linear classification by implicitly mapping the input data into a higher-dimensional space where linear separation might be possible.\n",
    "\n",
    "In summary, polynomial functions can be seen as a specific type of kernel function used in SVMs, where they facilitate learning non-linear decision boundaries by implicitly mapping data to a higher-dimensional space."
   ]
  },
  {
   "cell_type": "markdown",
   "id": "18b63897-36b2-4bc0-8c1d-aed1b12f74d0",
   "metadata": {},
   "source": [
    "## Q2. How can we implement an SVM with a polynomial kernel in Python using Scikit-learn?"
   ]
  },
  {
   "cell_type": "code",
   "execution_count": 1,
   "id": "6c9351c6-c06d-46c2-88f1-5263f186e9ee",
   "metadata": {},
   "outputs": [
    {
     "name": "stdout",
     "output_type": "stream",
     "text": [
      "Accuracy: 0.83\n"
     ]
    }
   ],
   "source": [
    "from sklearn.svm import SVC\n",
    "from sklearn.datasets import make_classification\n",
    "from sklearn.model_selection import train_test_split\n",
    "from sklearn.metrics import accuracy_score\n",
    "\n",
    "# Generate sample data\n",
    "X, y = make_classification(n_samples=1000, n_features=20, n_classes=2, random_state=42)\n",
    "\n",
    "# Split the data into training and testing sets\n",
    "X_train, X_test, y_train, y_test = train_test_split(X, y, test_size=0.2, random_state=42)\n",
    "\n",
    "# Instantiate the SVM classifier with a polynomial kernel\n",
    "svm_classifier = SVC(kernel='poly', degree=3)\n",
    "\n",
    "# Train the SVM classifier\n",
    "svm_classifier.fit(X_train, y_train)\n",
    "\n",
    "# Make predictions on the test data\n",
    "predictions = svm_classifier.predict(X_test)\n",
    "\n",
    "# Evaluate the model\n",
    "accuracy = accuracy_score(y_test, predictions)\n",
    "print(\"Accuracy:\", accuracy)\n"
   ]
  },
  {
   "cell_type": "markdown",
   "id": "b4887ed3-ecb6-49bb-af57-b328c151b5b9",
   "metadata": {},
   "source": [
    "## Q3. How does increasing the value of epsilon affect the number of support vectors in SVR?"
   ]
  },
  {
   "cell_type": "markdown",
   "id": "2461a4ca-da77-420a-b1f9-640426fae4df",
   "metadata": {},
   "source": [
    "Increasing the value of epsilon in Support Vector Regression (SVR) leads to a **decrease** in the number of support vectors. Here's why:\n",
    "\n",
    "* **Epsilon (ε):**  This parameter defines a tolerance zone around the hyperplane (decision function) in SVR. It essentially allows for a certain level of deviation from the perfect fit without incurring a penalty.\n",
    "\n",
    "* **Support Vectors:** These are the data points that lie closest to the hyperplane within the tolerance zone (ε-tube) or on its margins. They significantly influence the position and shape of the hyperplane.\n",
    "\n",
    "**Impact of Increasing Epsilon:**\n",
    "\n",
    "* **Wider Tolerance Zone:**  A larger epsilon widens the tolerance zone around the hyperplane. This allows more data points to fall within the zone without being considered for errors.\n",
    "\n",
    "* **Fewer Support Vectors:**  Since more points fall within the wider tolerance zone, fewer points will violate the margin and become support vectors. The model essentially becomes less strict about fitting the data points exactly, leading to a simpler model with fewer support vectors.\n",
    "\n",
    "**Trade-off:**\n",
    "\n",
    "* **Reduced Training Error:**  A larger epsilon can lead to a lower training error by allowing for more flexibility in fitting the data. \n",
    "\n",
    "* **Lower Accuracy:**  However, this comes at the cost of potentially lower accuracy on unseen data. A model with fewer support vectors might not capture the underlying relationships in the data as well, leading to less precise predictions for new data points.\n",
    "\n",
    "**Choosing Epsilon:**\n",
    "\n",
    "Selecting the optimal epsilon value involves finding a balance between reducing training error and maintaining good generalization (performance on unseen data). It's often achieved through cross-validation techniques where you experiment with different epsilon values and choose the one that yields the best performance on a validation set.\n"
   ]
  },
  {
   "cell_type": "markdown",
   "id": "846a9013-b7a4-4530-a990-314617ec52a7",
   "metadata": {},
   "source": [
    "## Q4. How does the choice of kernel function, C parameter, epsilon parameter, and gamma parameter affect the performance of Support Vector Regression (SVR)? Can you explain how each parameter works and provide examples of when you might want to increase or decrease its value?"
   ]
  },
  {
   "cell_type": "markdown",
   "id": "db356dae-32c5-4057-8294-ac31e939c0b4",
   "metadata": {},
   "source": [
    "###  Effect of Parameters on Support Vector Regression (SVR) Performance\n",
    "\n",
    "The performance of SVR is significantly influenced by the choice of kernel function and several key parameters:\n",
    "\n",
    "**1. Kernel Function:**\n",
    "\n",
    "* **Function:** The kernel function transforms the input data into a higher-dimensional feature space, allowing SVR to capture non-linear relationships between features that wouldn't be possible in the original space.\n",
    "\n",
    "* **Impact:** The choice of kernel function significantly affects the model's ability to learn complex patterns. Common choices include:\n",
    "    * **Linear Kernel:** Suitable for linear relationships but limited in capturing non-linearity.\n",
    "    * **Polynomial Kernel:** Can capture non-linearity but prone to overfitting with high degrees.\n",
    "    * **RBF Kernel:** A versatile kernel that works well for various data types and offers good balance between complexity and overfitting.\n",
    "\n",
    "* **Example:** If your data exhibits a clear non-linear pattern, using a polynomial or RBF kernel might be preferable to a linear kernel.\n",
    "\n",
    "**2. C Parameter (Regularization Parameter):**\n",
    "\n",
    "* **Function:** Controls the trade-off between model complexity and training error. A higher C allows for a more complex model that fits the training data closely but can lead to overfitting.\n",
    "\n",
    "* **Impact:**\n",
    "    * **Increase C:** Reduces training error but increases risk of overfitting, especially with noisy data.\n",
    "    * **Decrease C:** May lead to higher training error but can improve generalization (performance on unseen data).\n",
    "\n",
    "* **Example:** If your training data has a lot of noise, you might want to decrease C to prevent the model from overfitting to the noise.\n",
    "\n",
    "**3. Epsilon Parameter (ε):**\n",
    "\n",
    "* **Function:** Defines a tolerance zone around the hyperplane (decision function) in SVR. It allows for a certain level of deviation from the perfect fit without incurring a penalty.\n",
    "\n",
    "* **Impact:**\n",
    "    * **Increase Epsilon:** Reduces training error by allowing more flexibility in fitting the data (fewer support vectors). However, it can decrease model accuracy on unseen data.\n",
    "    * **Decrease Epsilon:**  Leads to a stricter model with lower training error but potentially lower accuracy if the model becomes too rigid.\n",
    "\n",
    "* **Example:** If your primary concern is obtaining a smooth fit with a lower training error and you're less worried about perfect accuracy on unseen data, you might increase epsilon. \n",
    "\n",
    "**4. Gamma Parameter (RBF Kernel Specific):**\n",
    "\n",
    "* **Function (For RBF Kernel Only):** Controls the influence of individual data points on the decision function. A higher gamma implies stronger influence from closer data points, leading to a more complex and potentially overfitting model.\n",
    "\n",
    "* **Impact (For RBF Kernel Only):**\n",
    "    * **Increase Gamma:** Leads to a more complex model that can capture intricate details but might overfit. \n",
    "    * **Decrease Gamma:** Creates a smoother, less complex model that might miss subtle patterns but can generalize better.\n",
    "\n",
    "* **Example:** If your data has a lot of local variations you want to capture, you might increase gamma. Conversely, for smoother, generalizable trends, decrease gamma.\n",
    "\n",
    "**Finding Optimal Values:**\n",
    "\n",
    "The optimal values for these parameters depend on your specific data and desired model behavior. Techniques like grid search or randomized search can be used to explore different parameter combinations and identify the configuration that yields the best performance on a validation set.\n"
   ]
  },
  {
   "cell_type": "markdown",
   "id": "9c4210db-3135-4062-a0ca-d499a8a2ea7a",
   "metadata": {},
   "source": [
    "## Q5. Assignment:\n",
    "- Import the necessary libraries and load the dataset\n",
    "- Split the dataset into training and testing sets\n",
    "- Preprocess the data using any technique of your choice (e.g. scaling, normalization)\n",
    "- Create an instance of the SVC classifier and train it on the training data\n",
    "- Use the trained classifier to predict the labels of the testing data\n",
    "- Evaluate the performance of the classifier using any metric of your choice (e.g. accuracy,recision, recall, F1-score)\n",
    "- Tune the hyperparameters of the SVC classifier using GridSearchCV or RandomiMedSearchCV to improve its performance\n",
    "- Train the tuned classifier on the entire dataset\n",
    "- Save the trained classifier to a file for future use."
   ]
  },
  {
   "cell_type": "code",
   "execution_count": 3,
   "id": "9657094a-82a6-4228-a950-153db9d479ba",
   "metadata": {},
   "outputs": [
    {
     "name": "stdout",
     "output_type": "stream",
     "text": [
      "Classification Report:\n",
      "              precision    recall  f1-score   support\n",
      "\n",
      "           0       1.00      1.00      1.00        10\n",
      "           1       1.00      1.00      1.00         9\n",
      "           2       1.00      1.00      1.00        11\n",
      "\n",
      "    accuracy                           1.00        30\n",
      "   macro avg       1.00      1.00      1.00        30\n",
      "weighted avg       1.00      1.00      1.00        30\n",
      "\n",
      "Best Parameters: {'C': 100, 'gamma': 0.01, 'kernel': 'rbf'}\n"
     ]
    },
    {
     "data": {
      "text/plain": [
       "['svm_classifier.pkl']"
      ]
     },
     "execution_count": 3,
     "metadata": {},
     "output_type": "execute_result"
    }
   ],
   "source": [
    "# Importing necessary libraries\n",
    "from sklearn.datasets import load_iris\n",
    "from sklearn.model_selection import train_test_split, GridSearchCV\n",
    "from sklearn.preprocessing import StandardScaler\n",
    "from sklearn.svm import SVC\n",
    "from sklearn.metrics import classification_report\n",
    "import joblib\n",
    "\n",
    "# Step 1: Load the dataset\n",
    "iris = load_iris()\n",
    "X, y = iris.data, iris.target\n",
    "\n",
    "# Step 2: Split the dataset into training and testing sets\n",
    "X_train, X_test, y_train, y_test = train_test_split(X, y, test_size=0.2, random_state=42)\n",
    "\n",
    "# Step 3: Preprocess the data (scaling)\n",
    "scaler = StandardScaler()\n",
    "X_train_scaled = scaler.fit_transform(X_train)\n",
    "X_test_scaled = scaler.transform(X_test)\n",
    "\n",
    "# Step 4: Create an instance of the SVC classifier and train it on the training data\n",
    "svc = SVC()\n",
    "svc.fit(X_train_scaled, y_train)\n",
    "\n",
    "# Step 5: Use the trained classifier to predict the labels of the testing data\n",
    "y_pred = svc.predict(X_test_scaled)\n",
    "\n",
    "# Step 6: Evaluate the performance of the classifier\n",
    "print(\"Classification Report:\")\n",
    "print(classification_report(y_test, y_pred))\n",
    "\n",
    "# Step 7: Tune hyperparameters using GridSearchCV\n",
    "param_grid = {'C': [0.1, 1, 10, 100], 'gamma': [0.1, 0.01, 0.001], 'kernel': ['linear', 'rbf', 'poly']}\n",
    "grid_search = GridSearchCV(SVC(), param_grid, cv=5)\n",
    "grid_search.fit(X_train_scaled, y_train)\n",
    "print(\"Best Parameters:\", grid_search.best_params_)\n",
    "\n",
    "# Step 8: Train the tuned classifier on the entire dataset\n",
    "best_svc = grid_search.best_estimator_\n",
    "best_svc.fit(X, y)\n",
    "\n",
    "# Step 9: Save the trained classifier to a file\n",
    "joblib.dump(best_svc, 'svm_classifier.pkl')\n"
   ]
  },
  {
   "cell_type": "markdown",
   "id": "c5adca1f-d2a5-4338-b4eb-fcf7ba744b59",
   "metadata": {},
   "source": []
  },
  {
   "cell_type": "markdown",
   "id": "ea8fb7dd-783f-4542-aba9-23066cab399f",
   "metadata": {},
   "source": []
  },
  {
   "cell_type": "markdown",
   "id": "db542775-7c08-4309-ad57-68c9b85a3fe4",
   "metadata": {},
   "source": []
  },
  {
   "cell_type": "markdown",
   "id": "a9746389-d05d-45a2-b702-215b575edbc4",
   "metadata": {},
   "source": []
  },
  {
   "cell_type": "markdown",
   "id": "6e581dbd-a7e5-4733-9874-1a0abd77e9a4",
   "metadata": {},
   "source": []
  },
  {
   "cell_type": "markdown",
   "id": "72b43591-42ca-4bd0-a7fe-8fa85cc2cf77",
   "metadata": {},
   "source": []
  },
  {
   "cell_type": "markdown",
   "id": "1a271a56-368a-46a4-958e-096102742519",
   "metadata": {},
   "source": []
  }
 ],
 "metadata": {
  "kernelspec": {
   "display_name": "Python 3 (ipykernel)",
   "language": "python",
   "name": "python3"
  },
  "language_info": {
   "codemirror_mode": {
    "name": "ipython",
    "version": 3
   },
   "file_extension": ".py",
   "mimetype": "text/x-python",
   "name": "python",
   "nbconvert_exporter": "python",
   "pygments_lexer": "ipython3",
   "version": "3.10.9"
  }
 },
 "nbformat": 4,
 "nbformat_minor": 5
}
